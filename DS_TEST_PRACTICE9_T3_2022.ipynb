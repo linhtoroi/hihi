{
  "cells": [
    {
      "cell_type": "markdown",
      "metadata": {
        "id": "view-in-github",
        "colab_type": "text"
      },
      "source": [
        "<a href=\"https://colab.research.google.com/github/linhtoroi/hihi/blob/main/DS_TEST_PRACTICE9_T3_2022.ipynb\" target=\"_parent\"><img src=\"https://colab.research.google.com/assets/colab-badge.svg\" alt=\"Open In Colab\"/></a>"
      ]
    },
    {
      "cell_type": "markdown",
      "source": [
        "## ĐÁNH GIÁ NĂNG LỰC KỸ SƯ KHOA HỌC DỮ LIỆU THÁNG 03 - 2022\n",
        "#### BÀI THỰC HÀNH\n",
        "---\n",
        "\n",
        "Ngày test: 25/03/2022\n",
        "Thời gian làm bài: 85 phút, từ 10:00 đến 11:25\n",
        "(+ 5 phút thiết lập môi trường và nộp bài)\n",
        "\n",
        "\n",
        "**Quy định:**\n",
        "- Không trao đổi trong suốt quá trình làm bài\n",
        "- Record màn hình làm bài và share lại cho quanvh8 sau khi kết thúc thời gian test\n",
        "- Được sử dụng tài liệu và tra cứu internet\n",
        "- Sau khi hoàn thành, tải notebook, gửi về email: quanvh8@viettel.com.vn\n",
        "\n",
        "**Hướng dẫn làm bài:**\n",
        "\n",
        "* Chạy toàn bộ lệnh trong phần 0. CHUẨN BỊ MÔI TRƯỜNG\n",
        "* Làm theo hướng dẫn tại các câu và CHỈ SỬA các đoạn code nằm giữa các thẻ:\n",
        "\n",
        "      # YOUR CODE START\n",
        "      # / END YOUR CODE\n",
        "\n",
        "*Lưu ý: hầu hết câu hỏi không có tính tuần tự (không cần hoàn thành câu trước để làm câu sau)*\n",
        "\n",
        "*Đề thi có một số testcase hỗ trợ DS kiểm tra kết quả, nhưng đây không phải điểm số. Điểm số được giám khảo chấm và gửi lại sau.*\n",
        "\n",
        "\n",
        "\n",
        "---"
      ],
      "metadata": {
        "id": "wXZRPwolwz2R"
      }
    },
    {
      "cell_type": "markdown",
      "metadata": {
        "id": "j-4dViMswxFM"
      },
      "source": [
        "### 0. CÀI ĐẶT MÔI TRƯỜNG\n",
        "Guide: Chạy toàn bộ các lệnh trong phần này <br>\n",
        "KHÔNG SỬA CÁC CÂU LỆNH TRONG PHẦN NÀY"
      ]
    },
    {
      "cell_type": "code",
      "source": [
        "!pip install pyspark"
      ],
      "metadata": {
        "colab": {
          "base_uri": "https://localhost:8080/"
        },
        "id": "voGA97cu5oBJ",
        "outputId": "f0de78da-3891-4c0e-f2c8-3494cf8d9cff",
        "collapsed": true
      },
      "execution_count": null,
      "outputs": [
        {
          "output_type": "stream",
          "name": "stdout",
          "text": [
            "Looking in indexes: https://pypi.org/simple, https://us-python.pkg.dev/colab-wheels/public/simple/\n",
            "Collecting pyspark\n",
            "  Downloading pyspark-3.3.2.tar.gz (281.4 MB)\n",
            "\u001b[2K     \u001b[90m━━━━━━━━━━━━━━━━━━━━━━━━━━━━━━━━━━━━━━━\u001b[0m \u001b[32m281.4/281.4 MB\u001b[0m \u001b[31m4.8 MB/s\u001b[0m eta \u001b[36m0:00:00\u001b[0m\n",
            "\u001b[?25h  Preparing metadata (setup.py) ... \u001b[?25l\u001b[?25hdone\n",
            "Collecting py4j==0.10.9.5\n",
            "  Downloading py4j-0.10.9.5-py2.py3-none-any.whl (199 kB)\n",
            "\u001b[2K     \u001b[90m━━━━━━━━━━━━━━━━━━━━━━━━━━━━━━━━━━━━━━\u001b[0m \u001b[32m199.7/199.7 KB\u001b[0m \u001b[31m27.9 MB/s\u001b[0m eta \u001b[36m0:00:00\u001b[0m\n",
            "\u001b[?25hBuilding wheels for collected packages: pyspark\n",
            "  Building wheel for pyspark (setup.py) ... \u001b[?25l\u001b[?25hdone\n",
            "  Created wheel for pyspark: filename=pyspark-3.3.2-py2.py3-none-any.whl size=281824028 sha256=3341b7f7c500f9c04e5a3979696d793c204a3a10294475a54203e05eef2aa0e9\n",
            "  Stored in directory: /root/.cache/pip/wheels/6c/e3/9b/0525ce8a69478916513509d43693511463c6468db0de237c86\n",
            "Successfully built pyspark\n",
            "Installing collected packages: py4j, pyspark\n",
            "  Attempting uninstall: py4j\n",
            "    Found existing installation: py4j 0.10.9.7\n",
            "    Uninstalling py4j-0.10.9.7:\n",
            "      Successfully uninstalled py4j-0.10.9.7\n",
            "Successfully installed py4j-0.10.9.5 pyspark-3.3.2\n"
          ]
        }
      ]
    },
    {
      "cell_type": "code",
      "execution_count": null,
      "metadata": {
        "id": "jnRQOyNiwxFQ"
      },
      "outputs": [],
      "source": [
        "import pandas as pd\n",
        "import numpy as np \n",
        "import tensorflow as tf\n",
        "import gzip\n",
        "import shutil\n",
        "import requests \n",
        "import seaborn as sns\n",
        "import matplotlib.pyplot as plt\n",
        "\n",
        "import pyspark\n",
        "from pyspark.sql import functions as F\n",
        "from pyspark.mllib.evaluation import BinaryClassificationMetrics"
      ]
    },
    {
      "cell_type": "code",
      "execution_count": null,
      "metadata": {
        "id": "Q27LBDnlwxFS"
      },
      "outputs": [],
      "source": [
        "def data_downloader(file_name):\n",
        "    file_url = 'https://datasets.imdbws.com/'+file_name\n",
        "    file_path = \"/content/\"+file_name\n",
        "    \n",
        "    r = requests.get(file_url, stream = True, verify=False) \n",
        "    \n",
        "    with open( file_path, \"wb\") as file: \n",
        "        for block in r.iter_content(chunk_size = 1024*10): \n",
        "            if block: \n",
        "                file.write(block)\n",
        "    print(\"Loaded \"+file_name+\" to local path: \"+file_path)\n",
        "\n",
        "# TEST CASE\n",
        "class TEST():\n",
        "    def test_1(df):\n",
        "        tc1 = (df.columns ==['tconst', 'averageRating', 'numVotes'])\n",
        "        tc2 = (df.count() >= 1227518)\n",
        "        if (tc1 and tc2): print(\"PASS\")\n",
        "        else: print('FAIL')\n",
        "\n",
        "    def test_2(df):\n",
        "        tc1 = (df.columns == ['titleId','ordering','title','region','language','types','attributes','isOriginalTitle'])\n",
        "        tc2 = (df.count() >= 31450282)\n",
        "        if (tc1 and tc2): print(\"PASS\")\n",
        "        else: print('FAIL')\n",
        "\n",
        "    def iia_schema(df_pred):\n",
        "      tc1 = (df_pred.columns == ['tconst', 'pred'])\n",
        "      tc2 = (df_pred.count() == 53956 )\n",
        "      if tc1 and tc2 :\n",
        "        print(\"PASS: dataframe đầu ra đúng định dạng\")\n",
        "      else:\n",
        "        print(\"FAIL: dataframe đầu ra không đúng định dạng, đ/c kiểm tra lại\")\n",
        "      \n",
        "      tc3 = (df_pred.join(test_ratings, on = 'tconst').count() == 53956)\n",
        "      \n",
        "      if tc3 :\n",
        "        print(\"PASS: dataframe đầu ra đúng số lượng bản ghi\")\n",
        "      else:\n",
        "        print(\"FAIL: dataframe đầu ra không đúng số lượng bản ghi, đ/c kiểm tra lại\")\n",
        "        \n",
        "    def mae_iia(df_pred):\n",
        "      result = df_pred.join(test_ratings, on = 'tconst')\n",
        "      result = result.withColumn('ae', F.abs(F.col(\"pred\")-F.col(\"averageRating\")))\n",
        "      result.selectExpr(\"avg(ae) AS mae\").show()\n",
        "\n",
        "    def iib_schema(df_pred):\n",
        "      tc1 = ( list(df_pred.columns) == ['tconst', 'pred'])\n",
        "      tc2 = (df_pred.count()['tconst'] == 104488 )\n",
        "      if tc1 and tc2 :\n",
        "        print(\"PASS: dataframe đầu ra đúng định dạng\")\n",
        "      else:\n",
        "        print(\"FAIL: dataframe đầu ra không đúng định dạng, đ/c kiểm tra lại\")\n",
        "      \n",
        "      tc3 = ( pd.merge(df_pred, test, how='inner', on = 'tconst')['tconst'].count() == 104488)\n",
        "      \n",
        "      if tc3 :\n",
        "        print(\"PASS: dataframe đầu ra đúng số lượng bản ghi\")\n",
        "      else:\n",
        "        print(\"FAIL: dataframe đầu ra không đúng số lượng bản ghi, đ/c kiểm tra lại\")\n",
        "        \n",
        "    def score_iib(df_pred):\n",
        "      eval = pd.merge(df_pred, test, how='inner', on = 'tconst' )\n",
        "      print( roc_auc_score( eval['isAdult'], eval['pred'] ))\n",
        "    "
      ]
    },
    {
      "cell_type": "code",
      "execution_count": null,
      "metadata": {
        "id": "cBcsFagBwxFT"
      },
      "outputs": [],
      "source": [
        "spark = pyspark.sql.SparkSession \\\n",
        "    .builder \\\n",
        "    .appName(\"DS_test\") \\\n",
        "    .getOrCreate()"
      ]
    },
    {
      "cell_type": "markdown",
      "metadata": {
        "id": "k_n6D2uOwxFU"
      },
      "source": [
        "#### DATA: Bộ IMDb"
      ]
    },
    {
      "cell_type": "markdown",
      "metadata": {
        "id": "WzjBmmazwxFV"
      },
      "source": [
        "Thông tin bộ dữ liệu IMDb: https://www.imdb.com/interfaces/"
      ]
    },
    {
      "cell_type": "markdown",
      "metadata": {
        "id": "ftYhrrfqwxFW"
      },
      "source": [
        "Each dataset is contained in a gzipped, tab-separated-values (TSV) formatted file in the UTF-8 character set. The first line in each file contains headers that describe what is in each column. A ‘\\N’ is used to denote that a particular field is missing or null for that title/name"
      ]
    },
    {
      "cell_type": "markdown",
      "metadata": {
        "id": "YgbxWLJKwxFW"
      },
      "source": [
        "![Alt text](https://relational.fit.cvut.cz/assets/img/datasets-generated/imdb_ijs.svg \"Schema bộ dữ liệu\")"
      ]
    },
    {
      "cell_type": "code",
      "execution_count": null,
      "metadata": {
        "scrolled": true,
        "colab": {
          "base_uri": "https://localhost:8080/"
        },
        "id": "tPMkN_muwxFX",
        "outputId": "f4418d9f-5a35-481b-e4c8-584cdc3e1985"
      },
      "outputs": [
        {
          "output_type": "stream",
          "name": "stderr",
          "text": [
            "/usr/local/lib/python3.9/dist-packages/urllib3/connectionpool.py:1045: InsecureRequestWarning: Unverified HTTPS request is being made to host 'datasets.imdbws.com'. Adding certificate verification is strongly advised. See: https://urllib3.readthedocs.io/en/1.26.x/advanced-usage.html#ssl-warnings\n",
            "  warnings.warn(\n"
          ]
        },
        {
          "output_type": "stream",
          "name": "stdout",
          "text": [
            "Loaded title.akas.tsv.gz to local path: /content/title.akas.tsv.gz\n",
            "Loaded title.ratings.tsv.gz to local path: /content/title.ratings.tsv.gz\n"
          ]
        },
        {
          "output_type": "stream",
          "name": "stderr",
          "text": [
            "/usr/local/lib/python3.9/dist-packages/urllib3/connectionpool.py:1045: InsecureRequestWarning: Unverified HTTPS request is being made to host 'datasets.imdbws.com'. Adding certificate verification is strongly advised. See: https://urllib3.readthedocs.io/en/1.26.x/advanced-usage.html#ssl-warnings\n",
            "  warnings.warn(\n",
            "/usr/local/lib/python3.9/dist-packages/urllib3/connectionpool.py:1045: InsecureRequestWarning: Unverified HTTPS request is being made to host 'datasets.imdbws.com'. Adding certificate verification is strongly advised. See: https://urllib3.readthedocs.io/en/1.26.x/advanced-usage.html#ssl-warnings\n",
            "  warnings.warn(\n"
          ]
        },
        {
          "output_type": "stream",
          "name": "stdout",
          "text": [
            "Loaded title.basics.tsv.gz to local path: /content/title.basics.tsv.gz\n"
          ]
        },
        {
          "output_type": "stream",
          "name": "stderr",
          "text": [
            "/usr/local/lib/python3.9/dist-packages/urllib3/connectionpool.py:1045: InsecureRequestWarning: Unverified HTTPS request is being made to host 'datasets.imdbws.com'. Adding certificate verification is strongly advised. See: https://urllib3.readthedocs.io/en/1.26.x/advanced-usage.html#ssl-warnings\n",
            "  warnings.warn(\n"
          ]
        },
        {
          "output_type": "stream",
          "name": "stdout",
          "text": [
            "Loaded title.basics.tsv.gz to local path: /content/title.basics.tsv.gz\n"
          ]
        },
        {
          "output_type": "stream",
          "name": "stderr",
          "text": [
            "/usr/local/lib/python3.9/dist-packages/urllib3/connectionpool.py:1045: InsecureRequestWarning: Unverified HTTPS request is being made to host 'datasets.imdbws.com'. Adding certificate verification is strongly advised. See: https://urllib3.readthedocs.io/en/1.26.x/advanced-usage.html#ssl-warnings\n",
            "  warnings.warn(\n"
          ]
        },
        {
          "output_type": "stream",
          "name": "stdout",
          "text": [
            "Loaded title.crew.tsv.gz to local path: /content/title.crew.tsv.gz\n"
          ]
        },
        {
          "output_type": "stream",
          "name": "stderr",
          "text": [
            "/usr/local/lib/python3.9/dist-packages/urllib3/connectionpool.py:1045: InsecureRequestWarning: Unverified HTTPS request is being made to host 'datasets.imdbws.com'. Adding certificate verification is strongly advised. See: https://urllib3.readthedocs.io/en/1.26.x/advanced-usage.html#ssl-warnings\n",
            "  warnings.warn(\n"
          ]
        },
        {
          "output_type": "stream",
          "name": "stdout",
          "text": [
            "Loaded title.principals.tsv.gz to local path: /content/title.principals.tsv.gz\n"
          ]
        },
        {
          "output_type": "stream",
          "name": "stderr",
          "text": [
            "/usr/local/lib/python3.9/dist-packages/urllib3/connectionpool.py:1045: InsecureRequestWarning: Unverified HTTPS request is being made to host 'datasets.imdbws.com'. Adding certificate verification is strongly advised. See: https://urllib3.readthedocs.io/en/1.26.x/advanced-usage.html#ssl-warnings\n",
            "  warnings.warn(\n"
          ]
        },
        {
          "output_type": "stream",
          "name": "stdout",
          "text": [
            "Loaded name.basics.tsv.gz to local path: /content/name.basics.tsv.gz\n"
          ]
        }
      ],
      "source": [
        "# Tải dữ liệu về\n",
        "file_list = [\"title.akas.tsv.gz\", \"title.ratings.tsv.gz\", \n",
        "             \"title.basics.tsv.gz\", \"title.basics.tsv.gz\", \"title.crew.tsv.gz\", \"title.principals.tsv.gz\",\n",
        "            \"name.basics.tsv.gz\" ]\n",
        "      \n",
        "for i in file_list:\n",
        "    data_downloader(i)"
      ]
    },
    {
      "cell_type": "markdown",
      "metadata": {
        "id": "muScjCy_wxFY"
      },
      "source": [
        "## PHẦN I. CHUNG\n",
        "[ 10 điểm ] <br>\n",
        "Guide: Sử dụng pyspark hoặc spark-SQL thực hiện tất cả các câu thuộc phần này."
      ]
    },
    {
      "cell_type": "markdown",
      "metadata": {
        "id": "IB5z9y7awxFZ"
      },
      "source": [
        "**Câu 1**. [1đ] Đọc các file vào pyspark dataframe, biết rằng các cột trong các file dữ liệu đều phân cách nhau bởi dấu tab (\\t). Lưu tương ứng các dataframe với các file dữ liệu:\n",
        "- df_rating : \"title.ratings.tsv.gz\"\n",
        "- df_akas  :\"title.akas.tsv.gz\"\n",
        "- df_basics  :\"title.basics.tsv.gz\"\n",
        "- df_crew  :\"title.crew.tsv.gz\"\n",
        "- df_principals :\"title.principals.tsv.gz\"\n",
        "- df_person  : \"name.basics.tsv.gz\"\n",
        "\n",
        "(Xem mô tả quan trọng của dữ liệu phía trên)"
      ]
    },
    {
      "cell_type": "code",
      "execution_count": null,
      "metadata": {
        "id": "qEkvX1pHwxFZ"
      },
      "outputs": [],
      "source": [
        "df_ratings = spark.read.options(header = 'True', inferSchema = 'True', delimiter='\\t').csv('/content/title.ratings.tsv.gz')\n",
        "\n",
        "df_akas= spark.read.options(header = 'True', inferSchema = 'True', delimiter='\\t').csv('/content/title.akas.tsv.gz')\n",
        "\n",
        "df_basics = spark.read.options(header = 'True', inferSchema = 'True', delimiter='\\t').csv('/content/title.basics.tsv.gz')\n",
        "\n",
        "df_crew = spark.read.options(header = 'True', inferSchema = 'True', delimiter='\\t').csv('/content/title.crew.tsv.gz')\n",
        "\n",
        "df_principals = spark.read.options(header = 'True', inferSchema = 'True', delimiter='\\t').csv('/content/title.principals.tsv.gz')\n",
        "\n",
        "df_person = spark.read.options(header = 'True', inferSchema = 'True', delimiter='\\t').csv('/content/name.basics.tsv.gz')"
      ]
    },
    {
      "cell_type": "code",
      "execution_count": null,
      "metadata": {
        "id": "6eCbt1p6wxFa",
        "colab": {
          "base_uri": "https://localhost:8080/"
        },
        "outputId": "0cd30870-ae9b-457e-f3aa-fd2f670096a3"
      },
      "outputs": [
        {
          "output_type": "stream",
          "name": "stdout",
          "text": [
            "PASS\n",
            "PASS\n"
          ]
        }
      ],
      "source": [
        "TEST.test_1(df_ratings)\n",
        "TEST.test_2(df_akas)"
      ]
    },
    {
      "cell_type": "markdown",
      "metadata": {
        "id": "-v4AoLZRwxFa"
      },
      "source": [
        "**Câu 2**. [1đ] Tìm top 3 ngôn ngữ có nhiều nội dung ( bao gồm tất cả nội dung movie, tv show,...) nhất trong bộ dataset này"
      ]
    },
    {
      "cell_type": "code",
      "execution_count": null,
      "metadata": {
        "id": "llIen6GCwxFb",
        "colab": {
          "base_uri": "https://localhost:8080/"
        },
        "outputId": "6cb9714f-f3f0-4a94-ed46-e206d2b9744b"
      },
      "outputs": [
        {
          "output_type": "stream",
          "name": "stdout",
          "text": [
            "+--------+-------+\n",
            "|language|    cnt|\n",
            "+--------+-------+\n",
            "|      ja|4121847|\n",
            "|      fr|4089140|\n",
            "|      hi|4059953|\n",
            "+--------+-------+\n",
            "only showing top 3 rows\n",
            "\n"
          ]
        }
      ],
      "source": [
        "# YOUR CODE START \n",
        "df_akas.filter(F.col('language')!='\\\\N').groupby('language').agg(F.count('titleId').alias('cnt')).orderBy(F.col('cnt').desc()).show(3)\n",
        "# / END YOUR CODE"
      ]
    },
    {
      "cell_type": "markdown",
      "metadata": {
        "id": "G5rrypjYwxFb"
      },
      "source": [
        "**Câu 3**. [2đ]\n",
        "Trong các bộ phim Mỹ (region=\"US\", titleType=\"movie\") được công chiếu giai đoạn 2010-2015, tìm top 5 thể loại phim có bình quân rating điểm cao nhất."
      ]
    },
    {
      "cell_type": "code",
      "execution_count": null,
      "metadata": {
        "id": "4MXPzExqwxFb",
        "colab": {
          "base_uri": "https://localhost:8080/"
        },
        "outputId": "1e1b1be0-0033-4f4c-b428-5777b905ff3a"
      },
      "outputs": [
        {
          "output_type": "stream",
          "name": "stdout",
          "text": [
            "+--------------------+---+\n",
            "|              genres|avg|\n",
            "+--------------------+---+\n",
            "|Biography,Documen...|9.1|\n",
            "|Documentary,News,...|8.9|\n",
            "|           Game-Show|8.9|\n",
            "|Action,Fantasy,My...|8.8|\n",
            "|Music,Mystery,Thr...|8.7|\n",
            "+--------------------+---+\n",
            "only showing top 5 rows\n",
            "\n"
          ]
        }
      ],
      "source": [
        "# YOUR CODE START \n",
        "df_basics.filter((F.col('startYear')>=2010)&(F.col('startYear')<=2015)&(F.col('titleType')=='movie'))\\\n",
        ".join(df_akas.filter(F.col('region')=='US'), df_basics.tconst==df_akas.titleId)\\\n",
        ".join(df_ratings, on='tconst').groupby('genres').agg(F.avg('averageRating').alias('avg')).orderBy(F.col('avg').desc()).show(5)\n",
        "# / END YOUR CODE"
      ]
    },
    {
      "cell_type": "markdown",
      "metadata": {
        "id": "n_hYq0-zwxFb"
      },
      "source": [
        "**Câu 4**. [3đ] Bạn đặt ra một giả thuyết rằng một đạo diễn có xu hướng hợp tác với các diễn viên thân thuộc với họ, hơn là liên tục tìm kiếm các diễn viên mới cho các phim khác nhau. <br>\n",
        "Hãy lựa chọn các metrics phù hợp, phân tích từ bộ dữ liệu thực tế và rút ra kết luận cho giả thuyết trên có đúng hay không? <br>\n",
        "( Phân tích trên thể loại phim titleType=\"movie\", region=\"US\",  thời gian công chiếu trong khoảng 2000-2020)"
      ]
    },
    {
      "cell_type": "code",
      "source": [
        "df_basics.show(2)"
      ],
      "metadata": {
        "colab": {
          "base_uri": "https://localhost:8080/"
        },
        "id": "OwbTnH1adI2F",
        "outputId": "b48e7e72-e367-420b-bc26-9bcd62834800"
      },
      "execution_count": null,
      "outputs": [
        {
          "output_type": "stream",
          "name": "stdout",
          "text": [
            "+---------+---------+--------------------+--------------------+-------+---------+-------+--------------+-----------------+\n",
            "|   tconst|titleType|        primaryTitle|       originalTitle|isAdult|startYear|endYear|runtimeMinutes|           genres|\n",
            "+---------+---------+--------------------+--------------------+-------+---------+-------+--------------+-----------------+\n",
            "|tt0000001|    short|          Carmencita|          Carmencita|      0|     1894|     \\N|             1|Documentary,Short|\n",
            "|tt0000002|    short|Le clown et ses c...|Le clown et ses c...|      0|     1892|     \\N|             5|  Animation,Short|\n",
            "+---------+---------+--------------------+--------------------+-------+---------+-------+--------------+-----------------+\n",
            "only showing top 2 rows\n",
            "\n"
          ]
        }
      ]
    },
    {
      "cell_type": "code",
      "source": [
        "df_akas.show(2)"
      ],
      "metadata": {
        "colab": {
          "base_uri": "https://localhost:8080/"
        },
        "id": "Xsbwbi2edDuC",
        "outputId": "9c70643f-bcec-4b82-cdbd-feeb9de2e5ca"
      },
      "execution_count": null,
      "outputs": [
        {
          "output_type": "stream",
          "name": "stdout",
          "text": [
            "+---------+--------+----------+------+--------+-----------+-------------+---------------+\n",
            "|  titleId|ordering|     title|region|language|      types|   attributes|isOriginalTitle|\n",
            "+---------+--------+----------+------+--------+-----------+-------------+---------------+\n",
            "|tt0000001|       1|Карменсіта|    UA|      \\N|imdbDisplay|           \\N|              0|\n",
            "|tt0000001|       2|Carmencita|    DE|      \\N|         \\N|literal title|              0|\n",
            "+---------+--------+----------+------+--------+-----------+-------------+---------------+\n",
            "only showing top 2 rows\n",
            "\n"
          ]
        }
      ]
    },
    {
      "cell_type": "code",
      "source": [
        "df_ratings.show(2)"
      ],
      "metadata": {
        "colab": {
          "base_uri": "https://localhost:8080/"
        },
        "id": "xdnH8ndzeQQw",
        "outputId": "3c97ec6f-eab9-4fd1-be25-c977992bd7cb"
      },
      "execution_count": null,
      "outputs": [
        {
          "output_type": "stream",
          "name": "stdout",
          "text": [
            "+---------+-------------+--------+\n",
            "|   tconst|averageRating|numVotes|\n",
            "+---------+-------------+--------+\n",
            "|tt0000001|          5.7|    1965|\n",
            "|tt0000002|          5.8|     262|\n",
            "+---------+-------------+--------+\n",
            "only showing top 2 rows\n",
            "\n"
          ]
        }
      ]
    },
    {
      "cell_type": "code",
      "source": [
        "df_principals.show(5)"
      ],
      "metadata": {
        "colab": {
          "base_uri": "https://localhost:8080/"
        },
        "id": "RymOZwHMmUSe",
        "outputId": "220222c5-01b7-40ca-8079-1d83a9b94776"
      },
      "execution_count": null,
      "outputs": [
        {
          "output_type": "stream",
          "name": "stdout",
          "text": [
            "+---------+--------+---------+---------------+--------------------+----------+\n",
            "|   tconst|ordering|   nconst|       category|                 job|characters|\n",
            "+---------+--------+---------+---------------+--------------------+----------+\n",
            "|tt0000001|       1|nm1588970|           self|                  \\N|  [\"Self\"]|\n",
            "|tt0000001|       2|nm0005690|       director|                  \\N|        \\N|\n",
            "|tt0000001|       3|nm0374658|cinematographer|director of photo...|        \\N|\n",
            "|tt0000002|       1|nm0721526|       director|                  \\N|        \\N|\n",
            "|tt0000002|       2|nm1335271|       composer|                  \\N|        \\N|\n",
            "+---------+--------+---------+---------------+--------------------+----------+\n",
            "only showing top 5 rows\n",
            "\n"
          ]
        }
      ]
    },
    {
      "cell_type": "code",
      "source": [
        "df_person.show(2)"
      ],
      "metadata": {
        "colab": {
          "base_uri": "https://localhost:8080/"
        },
        "id": "gbol_7DNmj3D",
        "outputId": "9cc2ac35-0163-4aaa-ee6d-01ba2c42f7a2"
      },
      "execution_count": null,
      "outputs": [
        {
          "output_type": "stream",
          "name": "stdout",
          "text": [
            "+---------+-------------+---------+---------+--------------------+--------------------+\n",
            "|   nconst|  primaryName|birthYear|deathYear|   primaryProfession|      knownForTitles|\n",
            "+---------+-------------+---------+---------+--------------------+--------------------+\n",
            "|nm0000001| Fred Astaire|     1899|     1987|soundtrack,actor,...|tt0045537,tt00531...|\n",
            "|nm0000002|Lauren Bacall|     1924|     2014|  actress,soundtrack|tt0037382,tt01170...|\n",
            "+---------+-------------+---------+---------+--------------------+--------------------+\n",
            "only showing top 2 rows\n",
            "\n"
          ]
        }
      ]
    },
    {
      "cell_type": "code",
      "source": [
        "df_crew.show(2)"
      ],
      "metadata": {
        "colab": {
          "base_uri": "https://localhost:8080/"
        },
        "id": "aytGqChgm2Np",
        "outputId": "3a1b50fe-d434-4c62-d1fc-bcf21caa958c"
      },
      "execution_count": null,
      "outputs": [
        {
          "output_type": "stream",
          "name": "stdout",
          "text": [
            "+---------+---------+-------+\n",
            "|   tconst|directors|writers|\n",
            "+---------+---------+-------+\n",
            "|tt0000001|nm0005690|     \\N|\n",
            "|tt0000002|nm0721526|     \\N|\n",
            "+---------+---------+-------+\n",
            "only showing top 2 rows\n",
            "\n"
          ]
        }
      ]
    },
    {
      "cell_type": "code",
      "source": [
        "df_crew.join(df_principals.filter((F.col('category')=='actor')|(F.col('category')=='actress')), on='tconst').groupby(['directors', 'nconst']).count().show(5)"
      ],
      "metadata": {
        "colab": {
          "base_uri": "https://localhost:8080/"
        },
        "id": "95gKsBGenMI-",
        "outputId": "bb03279d-30d6-4dd0-ad33-801eab77234d"
      },
      "execution_count": null,
      "outputs": [
        {
          "output_type": "stream",
          "name": "stdout",
          "text": [
            "+-------------------+---------+-----+\n",
            "|          directors|   nconst|count|\n",
            "+-------------------+---------+-----+\n",
            "|          nm0887428|nm0039276|    1|\n",
            "|nm0002177,nm0001124|nm2328128|    2|\n",
            "|          nm0000122|nm0701012|   31|\n",
            "|          nm0551375|nm0175069|    1|\n",
            "|nm0285684,nm0692105|nm0717066|    1|\n",
            "+-------------------+---------+-----+\n",
            "only showing top 5 rows\n",
            "\n"
          ]
        }
      ]
    },
    {
      "cell_type": "code",
      "execution_count": null,
      "metadata": {
        "id": "pYz6LlD6wxFc",
        "colab": {
          "base_uri": "https://localhost:8080/"
        },
        "outputId": "ab893349-bd5f-435d-d356-ea22d771eb00"
      },
      "outputs": [
        {
          "output_type": "stream",
          "name": "stdout",
          "text": [
            "Số bộ phim:  [Row(count(DISTINCT tconst)=29891)]\n",
            "Số lần hợp tác:\n",
            "+--------+------+\n",
            "|is_1time| count|\n",
            "+--------+------+\n",
            "|       1|119208|\n",
            "|       0| 12741|\n",
            "+--------+------+\n",
            "\n",
            "CPU times: user 1.82 s, sys: 192 ms, total: 2.01 s\n",
            "Wall time: 6min 35s\n"
          ]
        }
      ],
      "source": [
        "%%time\n",
        "# YOUR CODE START \n",
        "\n",
        "\"\"\"Nhận xét: nếu các đạo diễn có xu hướng lựa chọn diễn viên thân thuộc là đúng, sẽ có rất nhiều bộ phim có sự hợp tác của họ\n",
        "=> Vẽ phân phối số lần hợp tác sẽ đánh giá được giả thiết\n",
        "\"\"\"\n",
        "# Lấy tập data theo yêu cầu đề bài\n",
        "movie = df_basics.filter((F.col(\"titleType\")==\"movie\") &  F.col(\"startYear\").between(2010, 2015) )\n",
        "us = df_akas.filter(F.col(\"region\")==\"US\").selectExpr('titleId AS tconst')\n",
        "\n",
        "principals = df_principals.filter( F.col('category').isin('actor', 'actress', 'director') )\\\n",
        "                .join(movie, on='tconst').join(us, on='tconst')\n",
        "\n",
        "# Đếm số lần hợp tác\n",
        "actor = principals.filter(F.col('category').isin('actor', 'actress')).withColumn('actor', F.col('nconst'))\n",
        "director = principals.filter(F.col('category')=='director').withColumn('director', F.col('nconst'))\n",
        "\n",
        "colaboration = actor.join(director, on='tconst').groupby('actor', 'director').agg(F.count('tconst').alias('movie_num'))\\\n",
        "                .withColumn('is_1time', F.when(F.col('movie_num')==1, 1).otherwise(0))\n",
        "\n",
        "his = colaboration.groupby('is_1time').count()\n",
        "print('Số bộ phim: ', actor.join(director, on='tconst').select(F.countDistinct('tconst')).collect())\n",
        "print('Số lần hợp tác:')\n",
        "his.show()\n",
        "# / END YOUR CODE"
      ]
    },
    {
      "cell_type": "code",
      "execution_count": null,
      "metadata": {
        "id": "0FA-MN3DwxFc"
      },
      "outputs": [],
      "source": [
        "your_conclusion = ('''\n",
        "# YOUR CONCLUSION HERE\n",
        "\n",
        "\n",
        "''')"
      ]
    },
    {
      "cell_type": "markdown",
      "metadata": {
        "id": "nfiEFrBqwxFc"
      },
      "source": [
        "**Câu 5**. [3đ] Một giải thưởng về phim (titleType = 'movie') được trao cho các đạo diễn. Danh sách đề cử là các đạo diễn thỏa mãn các điều kiện: <br>\n",
        "1. Đạo diễn vẫn còn sống\n",
        "2. Có trên 5 bộ phim hay (phim hay là phim được chấm điểm averageRating >7.5).\n",
        "3. Tỷ trọng phim tệ (phim tệ là phim có averageRating <= 4) chiếm không quá 20% tổng số phim của đạo diễn đó và không quá 10 bộ phim.\n",
        "\n",
        "Trong đó, averageRating chỉ được tính khi có trên 200 phiếu bầu. <br>\n",
        "Giải thưởng được trao cho 3 trong số các đạo diễn thuộc danh sách đề cử. <br>\n",
        "Đặt p (float) là xác suất để đạo diễn trúng cử đồng thời có kiêm biên kịch (writer, xác định bởi primaryProfession).  <br>\n",
        "Hãy tính p."
      ]
    },
    {
      "cell_type": "code",
      "execution_count": null,
      "metadata": {
        "id": "6xuPBfn2wxFc"
      },
      "outputs": [],
      "source": [
        "# YOUR CODE START \n",
        "alive_directors=df_person.filter((F.col('deathYear')=='\\\\N')&(df_person.primaryProfession.contains('director')))\n",
        "count_great_movies=df_principals.filter(F.col('category')=='director').join(df_ratings, on='tconst').filter(F.col('numVotes')>200).filter(F.col('averageRating')>7.5).groupby('nconst').agg(F.count('tconst').alias('cnt'))\n",
        "has_great_movies=alive_directors.join(count_great_movies, on='nconst').filter(F.col('cnt')>5)\n",
        "\n",
        "# / END YOUR CODE"
      ]
    },
    {
      "cell_type": "code",
      "source": [
        "from pyspark.sql.window import Window\n",
        "\n",
        "windowSpec  = Window.partitionBy(\"nconst\")\n",
        "\n",
        "ratio_bad_movies = df_principals.filter(F.col('category')=='director').join(df_ratings, on='tconst').filter(F.col('numVotes')>200).withColumn('ratio', F.when(F.col('averageRating')<=4, F.count(F.when(F.col('averageRating')<=4, True))\\\n",
        "                                                                                                             .over(windowSpec)).otherwise(0)/F.count('tconst').over(windowSpec))\n",
        "greatest_directors = has_great_movies.join(ratio_bad_movies, on='nconst').filter(F.col('ratio')<=0.2)"
      ],
      "metadata": {
        "id": "f7oC273-x7Ww"
      },
      "execution_count": null,
      "outputs": []
    },
    {
      "cell_type": "code",
      "source": [
        "is_writer = greatest_directors.filter(F.col('primaryProfession').contains('writer')).count()\n",
        "all = greatest_directors.count()"
      ],
      "metadata": {
        "id": "Y_j7GdWzwJlT"
      },
      "execution_count": null,
      "outputs": []
    },
    {
      "cell_type": "code",
      "source": [
        "import math\n",
        "p=math.comb(is_writer,3)/math.comb(all,3)\n",
        "p"
      ],
      "metadata": {
        "colab": {
          "base_uri": "https://localhost:8080/"
        },
        "id": "83mv-ODh5jlm",
        "outputId": "a46827c0-79d0-4c64-d529-a240073eca15"
      },
      "execution_count": null,
      "outputs": [
        {
          "output_type": "execute_result",
          "data": {
            "text/plain": [
              "0.03516829994930383"
            ]
          },
          "metadata": {},
          "execution_count": 73
        }
      ]
    },
    {
      "cell_type": "code",
      "source": [
        "math.comb(all,3)"
      ],
      "metadata": {
        "colab": {
          "base_uri": "https://localhost:8080/"
        },
        "id": "rSdCl0656zp9",
        "outputId": "042f04d7-3462-4e59-c483-df742fbe343e"
      },
      "execution_count": null,
      "outputs": [
        {
          "output_type": "execute_result",
          "data": {
            "text/plain": [
              "69293710549470"
            ]
          },
          "metadata": {},
          "execution_count": 79
        }
      ]
    },
    {
      "cell_type": "code",
      "source": [
        "%%time\n",
        "# YOUR CODE START \n",
        "film = df_basics.filter(F.col(\"titleType\")==\"movie\").select(\"tconst\")\n",
        "director = df_person.filter(F.col(\"deathYear\").isNull()).select('nconst', 'primaryProfession')\n",
        "ratings = df_ratings.filter(F.col(\"numVotes\")>200)\n",
        "\n",
        "principals = df_principals.filter( F.col('category')=='director' ).select('nconst', 'tconst')\n",
        "\n",
        "matched = ratings.join(film, on='tconst')\\\n",
        "                .join(principals, on='tconst')\\\n",
        "                .join(director, on='nconst')\\\n",
        "                .withColumn('is_bad', F.when(F.col('averageRating') <=4, 1).otherwise(0))\\\n",
        "                .withColumn('is_good', F.when(F.col('averageRating') >7.5, 1).otherwise(0))\\\n",
        "                .withColumn('is_writer', F.when(F.col('primaryProfession').contains('writer'), 1).otherwise(0) ).persist()\n",
        "\n",
        "smr_by_director = matched.groupby(\"nconst\", \"is_writer\").agg(\n",
        "    F.sum(\"is_bad\").alias('bad'),\n",
        "    F.sum(\"is_good\").alias('good'),\n",
        "    F.count(\"tconst\").alias('total'),\n",
        "    (F.sum(\"is_bad\")/F.count(\"tconst\")).alias(\"bad_ratio\")\n",
        ")\n",
        "smr = smr_by_director.filter(\n",
        "    (F.col('bad')<=10 ) &\n",
        "    (F.col('good')>5) &\n",
        "    (F.col('bad_ratio')<=0.2)\n",
        ").selectExpr(\"COUNT(1) AS dir_num\", \n",
        "             \"SUM(is_writer) AS writer\", \n",
        "             \"SUM(is_writer)/COUNT(1) AS pct\" \n",
        "             ).collect()\n",
        "writer_num = smr[0].writer\n",
        "dir_num = smr[0].dir_num\n",
        "\n",
        "\n",
        "\"\"\"Với số đạo diễn đề cử là dir_num, số đạo diễn có kiêm biên kịch là writer_num\n",
        "Số cách chọn 3 đạo diễn từ writer_num là x = C(writer_num, 3)\n",
        "Số cách chọn 3 đạo diễn từ dir_num là y = C(dir_num, 3)\n",
        "Xác suất để 3 đạo diễn là đồng thời là biên kịch là: p = x/y\n",
        "\"\"\"\n",
        "# / END YOUR CODE"
      ],
      "metadata": {
        "colab": {
          "base_uri": "https://localhost:8080/",
          "height": 182
        },
        "id": "nEHAWDLY7Qwo",
        "outputId": "aa382d93-e53c-4ba7-c4cd-ad80f5be7298"
      },
      "execution_count": null,
      "outputs": [
        {
          "output_type": "error",
          "ename": "TypeError",
          "evalue": "ignored",
          "traceback": [
            "\u001b[0;31m---------------------------------------------------------------------------\u001b[0m",
            "\u001b[0;31mTypeError\u001b[0m                                 Traceback (most recent call last)",
            "\u001b[0;32m<timed exec>\u001b[0m in \u001b[0;36m<module>\u001b[0;34m\u001b[0m\n",
            "\u001b[0;32m<timed exec>\u001b[0m in \u001b[0;36mcomb\u001b[0;34m(n, r)\u001b[0m\n",
            "\u001b[0;31mTypeError\u001b[0m: 'NoneType' object cannot be interpreted as an integer"
          ]
        }
      ]
    },
    {
      "cell_type": "code",
      "source": [
        "import math\n",
        "\n",
        "# def comb(n,r):\n",
        "#     f = math.factorial\n",
        "#     return f(n) / f(r) / f(n-r)\n",
        "\n",
        "# p = math.comb(writer_num, 3)/ math.comb(dir_num,3)\n",
        "\n",
        "# print(p)\n",
        "print(writer_num)\n",
        "print(dir_num)\n"
      ],
      "metadata": {
        "colab": {
          "base_uri": "https://localhost:8080/"
        },
        "id": "5Q0IiiIt72-Y",
        "outputId": "2f842d27-cc9c-49df-e189-591cadd29ee8"
      },
      "execution_count": null,
      "outputs": [
        {
          "output_type": "stream",
          "name": "stdout",
          "text": [
            "None\n",
            "0\n"
          ]
        }
      ]
    },
    {
      "cell_type": "markdown",
      "metadata": {
        "id": "cdIs0bhuwxFd"
      },
      "source": [
        "### PHẦN II. TỰ CHỌN\n",
        "[ 10 điểm ] <br>\n",
        "DS chọn 1 trong 2 câu II.a hoặc II.b\n",
        "**Chỉ sử dụng dữ liệu train đã được chia sẵn để huấn luyện model, không sử dụng tập test.** <br>\n",
        "Có thể sử dụng tập test để đánh giá độ chính xác của model.\n",
        "\n",
        "Điểm số được chấm dựa trên độ chính xác của model trên tập test."
      ]
    },
    {
      "cell_type": "markdown",
      "metadata": {
        "id": "dWBLe9_wwxFd"
      },
      "source": [
        "**Câu II.a**. Trên môi trường pyspark, hãy tổng hợp dữ liệu và huấn luyện một mô hình dùng pyspark MLlib dự đoán averageRating"
      ]
    },
    {
      "cell_type": "code",
      "source": [
        "# CHẠY ĐOẠN CODE SAU | DO NOT MODIFY\n",
        "train_film = df_basics.filter((F.col(\"titleType\")==\"movie\") & (F.col(\"startYear\")>=2000) & (F.col(\"startYear\")<=2015) ).select(\"tconst\")\n",
        "test_film  = df_basics.filter((F.col(\"titleType\")==\"movie\") & (F.col(\"startYear\")> 2015) & (F.col(\"startYear\")<=2021) ).select(\"tconst\")\n",
        "\n",
        "train_ratings = df_ratings.join( train_film, on = 'tconst')\n",
        "test_ratings = df_ratings.join( test_film, on = 'tconst')"
      ],
      "metadata": {
        "id": "KjwQme1yINxE"
      },
      "execution_count": null,
      "outputs": []
    },
    {
      "cell_type": "code",
      "source": [
        "train_ratings.count()"
      ],
      "metadata": {
        "id": "zSDSmsQpI7U8"
      },
      "execution_count": null,
      "outputs": []
    },
    {
      "cell_type": "markdown",
      "source": [
        "Chỉ sử dụng thông tin của các bộ phim trong train_film (và nhãn là averageRating trong train_ratings) để xây dựng model. <br>\n",
        "Có thể join thêm với các thông tin ở các bảng khác không giới hạn để bổ sung feature. <br>\n",
        "Metric đánh giá là MAE\n",
        "\n",
        "**YÊU CẦU ĐẦU RA** <br>\n",
        "Dataframe: df_pred {tconst: string, pred: float}, trong đó tconst là các mã bộ phim tương ứng với các bộ phim trong test_film, pred là dự đoán averageRating của model."
      ],
      "metadata": {
        "id": "WXgOpyu4JJYe"
      }
    },
    {
      "cell_type": "code",
      "execution_count": null,
      "metadata": {
        "id": "FOFdTppEwxFd"
      },
      "outputs": [],
      "source": [
        "# YOUR CODE START \n",
        "\n",
        "#...BUILD YOUR MODEL...\n",
        "\n",
        "df_pred = \n",
        "# / END YOUR CODE"
      ]
    },
    {
      "cell_type": "code",
      "source": [
        "# df_pred hợp lệ khi testcase báo 2 thông báo PASS như sau:\n",
        "#>> PASS: dataframe đầu ra đúng định dạng\n",
        "#>> PASS: dataframe đầu ra đúng số lượng bản ghi\n",
        "TEST.iia_schema( df_pred )"
      ],
      "metadata": {
        "id": "jhi--L3dNM9X"
      },
      "execution_count": null,
      "outputs": []
    },
    {
      "cell_type": "code",
      "source": [
        "# Tính MAE\n",
        "TEST.mae_iia( df_pred )"
      ],
      "metadata": {
        "id": "IjQgvkOzNuJG"
      },
      "execution_count": null,
      "outputs": []
    },
    {
      "cell_type": "markdown",
      "metadata": {
        "id": "RDZ5dXJlwxFd"
      },
      "source": [
        "**Câu II.b**. Bạn đưa ra giả thuyết thông tin về tiêu đề phim có thể giúp phân loại phim đó có phải là phim không dành cho trẻ nhỏ hay không. <br>\n",
        "Chỉ sử dụng thông tin từ bảng title.basics.tsv.gz, hãy xây dựng mô hình dự đoán nhãn isAdult. Trong đó, bắt buộc có sử dụng xử lý chuỗi thông tin tiêu đề phim originalTitle.\n",
        "\n",
        "(Mô hình có thể được xây dựng bằng pyspark hoặc python)"
      ]
    },
    {
      "cell_type": "code",
      "source": [
        "# CHẠY ĐOẠN CODE SAU | DO NOT MODIFY\n",
        "train = df_basics.filter((F.col(\"titleType\")==\"movie\") & (F.col(\"startYear\")>=2000) & (F.col(\"startYear\")<=2015) ).toPandas()\n",
        "test = df_basics.filter((F.col(\"titleType\")==\"movie\") & (F.col(\"startYear\")> 2015) & (F.col(\"startYear\")<=2021) ).toPandas()"
      ],
      "metadata": {
        "id": "4yuJ8XRnQ9Hi"
      },
      "execution_count": null,
      "outputs": []
    },
    {
      "cell_type": "code",
      "source": [
        "train['tconst'].count()"
      ],
      "metadata": {
        "id": "PtzB7iBcRN-2"
      },
      "execution_count": null,
      "outputs": []
    },
    {
      "cell_type": "markdown",
      "source": [
        "Có thể sử dụng model pyspark hoặc python. <br>\n",
        "Metric đánh giá là accuracy\n",
        "\n",
        "**YÊU CẦU ĐẦU RA** <br>\n",
        "- Mô hình: có các bước biến đổi dữ liệu và xử lý text\n",
        "- Dữ liệu: pandas dataframe df_pred {tconst: string, pred: int}, trong đó tconst là các mã bộ phim tương ứng với các bộ phim trong test, pred là dự đoán isAdult của model, pred phải mang giá trị 0 hoặc 1."
      ],
      "metadata": {
        "id": "rLM2_KJfRV40"
      }
    },
    {
      "cell_type": "code",
      "execution_count": null,
      "metadata": {
        "id": "3h0XhPuNwxFd"
      },
      "outputs": [],
      "source": [
        "# YOUR CODE START \n",
        "\n",
        "df_pred = \n",
        "# / END YOUR CODE"
      ]
    },
    {
      "cell_type": "code",
      "source": [
        "# df_pred hợp lệ khi testcase báo 2 thông báo PASS như sau:\n",
        "#>> PASS: dataframe đầu ra đúng định dạng\n",
        "#>> PASS: dataframe đầu ra đúng số lượng bản ghi\n",
        "TEST.iib_schema(df_pred)"
      ],
      "metadata": {
        "id": "JlF22orjTL2W"
      },
      "execution_count": null,
      "outputs": []
    },
    {
      "cell_type": "code",
      "source": [
        "# Tính AUC\n",
        "TEST.score_iib(df_pred)"
      ],
      "metadata": {
        "id": "-FF0rPAWYQnE"
      },
      "execution_count": null,
      "outputs": []
    },
    {
      "cell_type": "markdown",
      "source": [
        "**--- YOUR TEST END HERE ---**"
      ],
      "metadata": {
        "id": "XyK-H1ZVYg1D"
      }
    }
  ],
  "metadata": {
    "kernelspec": {
      "display_name": "Python 3",
      "language": "python",
      "name": "python3"
    },
    "language_info": {
      "codemirror_mode": {
        "name": "ipython",
        "version": 3
      },
      "file_extension": ".py",
      "mimetype": "text/x-python",
      "name": "python",
      "nbconvert_exporter": "python",
      "pygments_lexer": "ipython3",
      "version": "3.7.4"
    },
    "colab": {
      "provenance": [],
      "include_colab_link": true
    }
  },
  "nbformat": 4,
  "nbformat_minor": 0
}