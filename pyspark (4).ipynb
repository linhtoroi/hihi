{
  "nbformat": 4,
  "nbformat_minor": 0,
  "metadata": {
    "colab": {
      "provenance": []
    },
    "kernelspec": {
      "name": "python3",
      "display_name": "Python 3"
    },
    "language_info": {
      "name": "python"
    }
  },
  "cells": [
    {
      "cell_type": "code",
      "execution_count": 1,
      "metadata": {
        "colab": {
          "base_uri": "https://localhost:8080/"
        },
        "id": "eHWd1x5iyvSF",
        "outputId": "0c314d6c-4bfb-42ac-d4d7-8e365bb60ae9"
      },
      "outputs": [
        {
          "output_type": "stream",
          "name": "stdout",
          "text": [
            "Looking in indexes: https://pypi.org/simple, https://us-python.pkg.dev/colab-wheels/public/simple/\n",
            "Collecting pyspark\n",
            "  Downloading pyspark-3.3.1.tar.gz (281.4 MB)\n",
            "\u001b[K     |████████████████████████████████| 281.4 MB 41 kB/s \n",
            "\u001b[?25hCollecting py4j==0.10.9.5\n",
            "  Downloading py4j-0.10.9.5-py2.py3-none-any.whl (199 kB)\n",
            "\u001b[K     |████████████████████████████████| 199 kB 61.9 MB/s \n",
            "\u001b[?25hBuilding wheels for collected packages: pyspark\n",
            "  Building wheel for pyspark (setup.py) ... \u001b[?25l\u001b[?25hdone\n",
            "  Created wheel for pyspark: filename=pyspark-3.3.1-py2.py3-none-any.whl size=281845512 sha256=accf0920791570e8f9c7ec9a839051695762b672d9b0a268065fab77f9bc0012\n",
            "  Stored in directory: /root/.cache/pip/wheels/43/dc/11/ec201cd671da62fa9c5cc77078235e40722170ceba231d7598\n",
            "Successfully built pyspark\n",
            "Installing collected packages: py4j, pyspark\n",
            "Successfully installed py4j-0.10.9.5 pyspark-3.3.1\n"
          ]
        }
      ],
      "source": [
        "!pip install pyspark"
      ]
    },
    {
      "cell_type": "code",
      "source": [
        "import pandas as pd\n",
        "import numpy as np \n",
        "import tensorflow as tf\n",
        "import requests \n",
        "import seaborn as sns\n",
        "import matplotlib.pyplot as plt\n",
        "\n",
        "import pyspark\n",
        "from pyspark.sql import functions as F"
      ],
      "metadata": {
        "id": "B15zx_H8zL_V"
      },
      "execution_count": 2,
      "outputs": []
    },
    {
      "cell_type": "code",
      "source": [
        "spark = pyspark.sql.SparkSession \\\n",
        "    .builder \\\n",
        "    .appName(\"DS_test\") \\\n",
        "    .getOrCreate()"
      ],
      "metadata": {
        "id": "d0akbRVg0A3N"
      },
      "execution_count": 3,
      "outputs": []
    },
    {
      "cell_type": "code",
      "source": [
        "file_url = 'https://archive.ics.uci.edu/ml/machine-learning-databases/census1990-mld/USCensus1990.data.txt'\n",
        "file_path = \"/content/USCensus1990.data.txt\"\n",
        "\n",
        "r = requests.get(file_url, stream = True) \n",
        "\n",
        "with open( file_path, \"wb\") as file: \n",
        "    for block in r.iter_content(chunk_size = 1024*10): \n",
        "        if block: \n",
        "            file.write(block)"
      ],
      "metadata": {
        "id": "VZfqiWlq0Duu"
      },
      "execution_count": 4,
      "outputs": []
    },
    {
      "cell_type": "code",
      "source": [
        "data = spark.read.text(\"/content/USCensus1990.data.txt\")"
      ],
      "metadata": {
        "id": "TUd6qROM0Nf5"
      },
      "execution_count": 5,
      "outputs": []
    },
    {
      "cell_type": "code",
      "source": [
        "rows = data.selectExpr(\"split(value, ' ') as Text_Data_In_Rows_Using_Text\")\n",
        "rows_ = rows.select(\"Text_Data_In_Rows_Using_Text\").rdd.flatMap(lambda x: x).collect()"
      ],
      "metadata": {
        "id": "egUWNOKh0Tp_"
      },
      "execution_count": 6,
      "outputs": []
    },
    {
      "cell_type": "code",
      "source": [
        "rows_[0]"
      ],
      "metadata": {
        "colab": {
          "base_uri": "https://localhost:8080/"
        },
        "id": "Jj2H4vfZn6dX",
        "outputId": "fa3a785d-ec71-4473-abed-c5413dd733d9"
      },
      "execution_count": 7,
      "outputs": [
        {
          "output_type": "execute_result",
          "data": {
            "text/plain": [
              "['caseid,dAge,dAncstry1,dAncstry2,iAvail,iCitizen,iClass,dDepart,iDisabl1,iDisabl2,iEnglish,iFeb55,iFertil,dHispanic,dHour89,dHours,iImmigr,dIncome1,dIncome2,dIncome3,dIncome4,dIncome5,dIncome6,dIncome7,dIncome8,dIndustry,iKorean,iLang1,iLooking,iMarital,iMay75880,iMeans,iMilitary,iMobility,iMobillim,dOccup,iOthrserv,iPerscare,dPOB,dPoverty,dPwgt1,iRagechld,dRearning,iRelat1,iRelat2,iRemplpar,iRiders,iRlabor,iRownchld,dRpincome,iRPOB,iRrelchld,iRspouse,iRvetserv,iSchool,iSept80,iSex,iSubfam1,iSubfam2,iTmpabsnt,dTravtime,iVietnam,dWeek89,iWork89,iWorklwk,iWWII,iYearsch,iYearwrk,dYrsserv']"
            ]
          },
          "metadata": {},
          "execution_count": 7
        }
      ]
    },
    {
      "cell_type": "code",
      "source": [
        "len(rows_)"
      ],
      "metadata": {
        "colab": {
          "base_uri": "https://localhost:8080/"
        },
        "id": "sVMea0_rnhoY",
        "outputId": "05076c3b-a4e8-4d4a-f5a7-f317eb2e3f75"
      },
      "execution_count": 8,
      "outputs": [
        {
          "output_type": "execute_result",
          "data": {
            "text/plain": [
              "2458286"
            ]
          },
          "metadata": {},
          "execution_count": 8
        }
      ]
    },
    {
      "cell_type": "code",
      "source": [
        "rdd = spark.sparkContext.parallelize([[int(j) for j in i[0].split(',')] for i in rows_[1:100]])\n",
        "df = rdd.toDF(rows_[0][0].split(','))\n",
        "df.printSchema()"
      ],
      "metadata": {
        "colab": {
          "base_uri": "https://localhost:8080/"
        },
        "id": "JjIWOLc_0r5_",
        "outputId": "19ce2bab-b80f-4a62-b772-74b6b193df43"
      },
      "execution_count": 9,
      "outputs": [
        {
          "output_type": "stream",
          "name": "stdout",
          "text": [
            "root\n",
            " |-- caseid: long (nullable = true)\n",
            " |-- dAge: long (nullable = true)\n",
            " |-- dAncstry1: long (nullable = true)\n",
            " |-- dAncstry2: long (nullable = true)\n",
            " |-- iAvail: long (nullable = true)\n",
            " |-- iCitizen: long (nullable = true)\n",
            " |-- iClass: long (nullable = true)\n",
            " |-- dDepart: long (nullable = true)\n",
            " |-- iDisabl1: long (nullable = true)\n",
            " |-- iDisabl2: long (nullable = true)\n",
            " |-- iEnglish: long (nullable = true)\n",
            " |-- iFeb55: long (nullable = true)\n",
            " |-- iFertil: long (nullable = true)\n",
            " |-- dHispanic: long (nullable = true)\n",
            " |-- dHour89: long (nullable = true)\n",
            " |-- dHours: long (nullable = true)\n",
            " |-- iImmigr: long (nullable = true)\n",
            " |-- dIncome1: long (nullable = true)\n",
            " |-- dIncome2: long (nullable = true)\n",
            " |-- dIncome3: long (nullable = true)\n",
            " |-- dIncome4: long (nullable = true)\n",
            " |-- dIncome5: long (nullable = true)\n",
            " |-- dIncome6: long (nullable = true)\n",
            " |-- dIncome7: long (nullable = true)\n",
            " |-- dIncome8: long (nullable = true)\n",
            " |-- dIndustry: long (nullable = true)\n",
            " |-- iKorean: long (nullable = true)\n",
            " |-- iLang1: long (nullable = true)\n",
            " |-- iLooking: long (nullable = true)\n",
            " |-- iMarital: long (nullable = true)\n",
            " |-- iMay75880: long (nullable = true)\n",
            " |-- iMeans: long (nullable = true)\n",
            " |-- iMilitary: long (nullable = true)\n",
            " |-- iMobility: long (nullable = true)\n",
            " |-- iMobillim: long (nullable = true)\n",
            " |-- dOccup: long (nullable = true)\n",
            " |-- iOthrserv: long (nullable = true)\n",
            " |-- iPerscare: long (nullable = true)\n",
            " |-- dPOB: long (nullable = true)\n",
            " |-- dPoverty: long (nullable = true)\n",
            " |-- dPwgt1: long (nullable = true)\n",
            " |-- iRagechld: long (nullable = true)\n",
            " |-- dRearning: long (nullable = true)\n",
            " |-- iRelat1: long (nullable = true)\n",
            " |-- iRelat2: long (nullable = true)\n",
            " |-- iRemplpar: long (nullable = true)\n",
            " |-- iRiders: long (nullable = true)\n",
            " |-- iRlabor: long (nullable = true)\n",
            " |-- iRownchld: long (nullable = true)\n",
            " |-- dRpincome: long (nullable = true)\n",
            " |-- iRPOB: long (nullable = true)\n",
            " |-- iRrelchld: long (nullable = true)\n",
            " |-- iRspouse: long (nullable = true)\n",
            " |-- iRvetserv: long (nullable = true)\n",
            " |-- iSchool: long (nullable = true)\n",
            " |-- iSept80: long (nullable = true)\n",
            " |-- iSex: long (nullable = true)\n",
            " |-- iSubfam1: long (nullable = true)\n",
            " |-- iSubfam2: long (nullable = true)\n",
            " |-- iTmpabsnt: long (nullable = true)\n",
            " |-- dTravtime: long (nullable = true)\n",
            " |-- iVietnam: long (nullable = true)\n",
            " |-- dWeek89: long (nullable = true)\n",
            " |-- iWork89: long (nullable = true)\n",
            " |-- iWorklwk: long (nullable = true)\n",
            " |-- iWWII: long (nullable = true)\n",
            " |-- iYearsch: long (nullable = true)\n",
            " |-- iYearwrk: long (nullable = true)\n",
            " |-- dYrsserv: long (nullable = true)\n",
            "\n"
          ]
        }
      ]
    },
    {
      "cell_type": "code",
      "source": [
        "df.show(2)"
      ],
      "metadata": {
        "id": "T1qqhahe25Nf",
        "colab": {
          "base_uri": "https://localhost:8080/"
        },
        "outputId": "9582dd11-cc96-4e97-da01-59037d9e8078"
      },
      "execution_count": 10,
      "outputs": [
        {
          "output_type": "stream",
          "name": "stdout",
          "text": [
            "+------+----+---------+---------+------+--------+------+-------+--------+--------+--------+------+-------+---------+-------+------+-------+--------+--------+--------+--------+--------+--------+--------+--------+---------+-------+------+--------+--------+---------+------+---------+---------+---------+------+---------+---------+----+--------+------+---------+---------+-------+-------+---------+-------+-------+---------+---------+-----+---------+--------+---------+-------+-------+----+--------+--------+---------+---------+--------+-------+-------+--------+-----+--------+--------+--------+\n",
            "|caseid|dAge|dAncstry1|dAncstry2|iAvail|iCitizen|iClass|dDepart|iDisabl1|iDisabl2|iEnglish|iFeb55|iFertil|dHispanic|dHour89|dHours|iImmigr|dIncome1|dIncome2|dIncome3|dIncome4|dIncome5|dIncome6|dIncome7|dIncome8|dIndustry|iKorean|iLang1|iLooking|iMarital|iMay75880|iMeans|iMilitary|iMobility|iMobillim|dOccup|iOthrserv|iPerscare|dPOB|dPoverty|dPwgt1|iRagechld|dRearning|iRelat1|iRelat2|iRemplpar|iRiders|iRlabor|iRownchld|dRpincome|iRPOB|iRrelchld|iRspouse|iRvetserv|iSchool|iSept80|iSex|iSubfam1|iSubfam2|iTmpabsnt|dTravtime|iVietnam|dWeek89|iWork89|iWorklwk|iWWII|iYearsch|iYearwrk|dYrsserv|\n",
            "+------+----+---------+---------+------+--------+------+-------+--------+--------+--------+------+-------+---------+-------+------+-------+--------+--------+--------+--------+--------+--------+--------+--------+---------+-------+------+--------+--------+---------+------+---------+---------+---------+------+---------+---------+----+--------+------+---------+---------+-------+-------+---------+-------+-------+---------+---------+-----+---------+--------+---------+-------+-------+----+--------+--------+---------+---------+--------+-------+-------+--------+-----+--------+--------+--------+\n",
            "| 10000|   5|        0|        1|     0|       0|     5|      3|       2|       2|       1|     0|      1|        0|      4|     3|      0|       2|       0|       0|       1|       0|       0|       0|       0|       10|      0|     1|       0|       1|        0|     1|        4|        2|        2|     3|        0|        2|   0|       2|     1|        4|        3|      0|      0|        0|      3|      1|        0|        3|   22|        0|       3|        0|      1|      0|   1|       0|       0|        0|        5|       0|      2|      1|       1|    0|      11|       1|       0|\n",
            "| 10001|   6|        1|        1|     0|       0|     7|      5|       2|       2|       0|     0|      3|        0|      1|     1|      0|       1|       0|       0|       0|       0|       1|       0|       0|        4|      0|     2|       0|       0|        0|     1|        4|        1|        2|     2|        0|        2|   0|       2|     2|        4|        2|      1|      0|        0|      1|      1|        0|        2|   10|        0|       1|        0|      1|      0|   1|       0|       0|        0|        1|       0|      2|      1|       1|    0|       5|       1|       0|\n",
            "+------+----+---------+---------+------+--------+------+-------+--------+--------+--------+------+-------+---------+-------+------+-------+--------+--------+--------+--------+--------+--------+--------+--------+---------+-------+------+--------+--------+---------+------+---------+---------+---------+------+---------+---------+----+--------+------+---------+---------+-------+-------+---------+-------+-------+---------+---------+-----+---------+--------+---------+-------+-------+----+--------+--------+---------+---------+--------+-------+-------+--------+-----+--------+--------+--------+\n",
            "only showing top 2 rows\n",
            "\n"
          ]
        }
      ]
    },
    {
      "cell_type": "code",
      "source": [
        "num_rows = df.count()"
      ],
      "metadata": {
        "id": "f177whLJpWBa"
      },
      "execution_count": 11,
      "outputs": []
    },
    {
      "cell_type": "code",
      "source": [
        "num_rows"
      ],
      "metadata": {
        "colab": {
          "base_uri": "https://localhost:8080/"
        },
        "id": "gFjgE0QbplbM",
        "outputId": "d2a55aa3-442b-402b-f101-af11c3138258"
      },
      "execution_count": 12,
      "outputs": [
        {
          "output_type": "execute_result",
          "data": {
            "text/plain": [
              "99"
            ]
          },
          "metadata": {},
          "execution_count": 12
        }
      ]
    },
    {
      "cell_type": "code",
      "source": [
        "def get_null(df, plot=True):\n",
        "  null_count = df.select([F.count(F.when(F.isnan(c)|F.col(c).isNull(),c)).alias(c) for c in df.columns]).collect()[0].asDict()\n",
        "  null_rate = {k:v/num_rows for k, v in null_count.items() if v>int(num_rows/10)}  \n",
        "  if plot:\n",
        "    # print(f'The number of null values in each column: {null_count}')\n",
        "    print(f'The percentage of null values in each column having null values: {null_rate}')\n",
        "    fig = plt.figure(figsize=(20, 5))\n",
        "    plt.bar(null_rate.keys(), null_rate.values())\n",
        "    plt.ylabel('Null')\n",
        "    plt.xticks(rotation = 60)\n",
        "    plt.show()\n",
        "  return null_rate"
      ],
      "metadata": {
        "id": "ieRIxr5UpmzW"
      },
      "execution_count": 11,
      "outputs": []
    },
    {
      "cell_type": "code",
      "source": [
        "null_rate = get_null(df)"
      ],
      "metadata": {
        "colab": {
          "base_uri": "https://localhost:8080/",
          "height": 358
        },
        "id": "UTzuRpLoqDOd",
        "outputId": "9922ee64-e4bf-4826-d344-e60e2a58b255"
      },
      "execution_count": 15,
      "outputs": [
        {
          "output_type": "stream",
          "name": "stdout",
          "text": [
            "The percentage of null values in each column having null values: {}\n"
          ]
        },
        {
          "output_type": "display_data",
          "data": {
            "text/plain": [
              "<Figure size 1440x360 with 1 Axes>"
            ],
            "image/png": "[encoded data removed]"
          },
          "metadata": {
            "needs_background": "light"
          }
        }
      ]
    },
    {
      "cell_type": "code",
      "source": [
        "def get_distinct_values(df, plot=True):\n",
        "  distinct_count = df.select([F.countDistinct(c).alias(c) for c in df.columns]).collect()[0].asDict()\n",
        "  if plot:\n",
        "    print(f'The number of distinct values in each column: {distinct_count}')\n",
        "  return distinct_count"
      ],
      "metadata": {
        "id": "9esVCwdnqIVd"
      },
      "execution_count": 12,
      "outputs": []
    },
    {
      "cell_type": "code",
      "source": [
        "distinct_count = get_distinct_values(df)"
      ],
      "metadata": {
        "colab": {
          "base_uri": "https://localhost:8080/"
        },
        "id": "XJS6cYd9uPpp",
        "outputId": "1e33677e-c52e-407f-8b8f-28b9166dc66d"
      },
      "execution_count": 17,
      "outputs": [
        {
          "output_type": "stream",
          "name": "stdout",
          "text": [
            "The number of distinct values in each column: {'caseid': 99, 'dAge': 7, 'dAncstry1': 8, 'dAncstry2': 4, 'iAvail': 3, 'iCitizen': 3, 'iClass': 8, 'dDepart': 6, 'iDisabl1': 3, 'iDisabl2': 3, 'iEnglish': 4, 'iFeb55': 2, 'iFertil': 8, 'dHispanic': 2, 'dHour89': 6, 'dHours': 6, 'iImmigr': 5, 'dIncome1': 4, 'dIncome2': 2, 'dIncome3': 2, 'dIncome4': 2, 'dIncome5': 2, 'dIncome6': 2, 'dIncome7': 2, 'dIncome8': 2, 'dIndustry': 10, 'iKorean': 2, 'iLang1': 3, 'iLooking': 3, 'iMarital': 5, 'iMay75880': 2, 'iMeans': 6, 'iMilitary': 4, 'iMobility': 3, 'iMobillim': 3, 'dOccup': 7, 'iOthrserv': 1, 'iPerscare': 3, 'dPOB': 4, 'dPoverty': 3, 'dPwgt1': 4, 'iRagechld': 5, 'dRearning': 5, 'iRelat1': 11, 'iRelat2': 2, 'iRemplpar': 7, 'iRiders': 5, 'iRlabor': 4, 'iRownchld': 2, 'dRpincome': 5, 'iRPOB': 7, 'iRrelchld': 2, 'iRspouse': 7, 'iRvetserv': 7, 'iSchool': 4, 'iSept80': 2, 'iSex': 2, 'iSubfam1': 2, 'iSubfam2': 2, 'iTmpabsnt': 3, 'dTravtime': 7, 'iVietnam': 2, 'dWeek89': 3, 'iWork89': 3, 'iWorklwk': 3, 'iWWII': 2, 'iYearsch': 15, 'iYearwrk': 7, 'dYrsserv': 3}\n"
          ]
        }
      ]
    },
    {
      "cell_type": "code",
      "source": [
        "df.dtypes"
      ],
      "metadata": {
        "id": "NI_GnAgWv-XB"
      },
      "execution_count": null,
      "outputs": []
    },
    {
      "cell_type": "code",
      "source": [
        "def get_numerical_or_categorical_columns(df, plot=True):\n",
        "  num_rows = df.count()\n",
        "  distinct_count = get_distinct_values(df, False)\n",
        "\n",
        "  numerical_type = ['float', 'double']\n",
        "  int_categorical_type = ['int', 'long', 'bigint']\n",
        "  other_categorical_type = ['string', 'datetime', 'bool']\n",
        "\n",
        "  numeric_cols = [col[0] for col in df.dtypes if col[1] in numerical_type or (col[1] in int_categorical_type and distinct_count[col[0]]>20 and distinct_count[col[0]]<num_rows)]\n",
        "  int_cate_cols = [col[0] for col in df.dtypes if col[1] in int_categorical_type and distinct_count[col[0]]<=20 and distinct_count[col[0]]<num_rows]\n",
        "  other_cates_cols = [col[0] for col in df.dtypes if col[1] not in numerical_type and col[1] not in int_categorical_type and distinct_count[col[0]]<num_rows]\n",
        "\n",
        "  if plot:\n",
        "    print(f'Numerical columns: {numeric_cols}')\n",
        "    print(f'Integer Categorical columns: {int_cate_cols}')\n",
        "    print(f'Other Categorical columns: {other_cates_cols}')\n",
        "  return numeric_cols, int_cate_cols, other_cates_cols"
      ],
      "metadata": {
        "id": "viB8qljiuUNz"
      },
      "execution_count": 55,
      "outputs": []
    },
    {
      "cell_type": "code",
      "source": [
        "numeric_cols, int_cate_cols, other_cates_cols = get_numerical_or_categorical_columns(df)"
      ],
      "metadata": {
        "colab": {
          "base_uri": "https://localhost:8080/"
        },
        "id": "tTXSinZlxW5T",
        "outputId": "05e7abfb-3465-4a0a-c6ea-2b526661e8ec"
      },
      "execution_count": 22,
      "outputs": [
        {
          "output_type": "stream",
          "name": "stdout",
          "text": [
            "Numerical columns: []\n",
            "Integer Categorical columns: []\n",
            "Other Categorical columns: ['dAge', 'dAncstry1', 'dAncstry2', 'iAvail', 'iCitizen', 'iClass', 'dDepart', 'iDisabl1', 'iDisabl2', 'iEnglish', 'iFeb55', 'iFertil', 'dHispanic', 'dHour89', 'dHours', 'iImmigr', 'dIncome1', 'dIncome2', 'dIncome3', 'dIncome4', 'dIncome5', 'dIncome6', 'dIncome7', 'dIncome8', 'dIndustry', 'iKorean', 'iLang1', 'iLooking', 'iMarital', 'iMay75880', 'iMeans', 'iMilitary', 'iMobility', 'iMobillim', 'dOccup', 'iOthrserv', 'iPerscare', 'dPOB', 'dPoverty', 'dPwgt1', 'iRagechld', 'dRearning', 'iRelat1', 'iRelat2', 'iRemplpar', 'iRiders', 'iRlabor', 'iRownchld', 'dRpincome', 'iRPOB', 'iRrelchld', 'iRspouse', 'iRvetserv', 'iSchool', 'iSept80', 'iSex', 'iSubfam1', 'iSubfam2', 'iTmpabsnt', 'dTravtime', 'iVietnam', 'dWeek89', 'iWork89', 'iWorklwk', 'iWWII', 'iYearsch', 'iYearwrk', 'dYrsserv']\n"
          ]
        }
      ]
    },
    {
      "cell_type": "code",
      "source": [
        "def get_distribution(df, plot=True):\n",
        "    numeric_cols, int_cate_cols, other_cates_cols = get_numerical_or_categorical_columns(df, False)\n",
        "    all_columns = numeric_cols+int_cate_cols\n",
        "    describe = df.select(all_columns).describe().toPandas().to_dict('list')\n",
        "    quantitle = {c:df.approxQuantile(c, [0.25, 0.5, 0.75], 0) for c in all_columns}.collect()[0].asDict()\n",
        "\n",
        "    if plot:\n",
        "        for e, c in enumerate(all_columns):\n",
        "            print(c, end='; ')\n",
        "            print(f\"Count: {describe[c][0]}\", end='; ')\n",
        "            print(f\"Mean: {describe[c][1]}\", end='; ')\n",
        "            print(f\"Std: {describe[c][2]}\", end='; ')\n",
        "            print(f\"min: {describe[c][3]}\", end='; ')\n",
        "            print(f\"max: {describe[c][4]}\", end='; ')\n",
        "            print(f\"median: {quantitle[c][1]}\", end='; ')\n",
        "            print(f\"25%: {quantitle[c][0]}\", end='; ')\n",
        "            print(f\"50%: {quantitle[c][1]}\", end='; ')\n",
        "            print(f\"75%: {quantitle[c][2]}\")\n",
        "\n",
        "    return describe, quantitle"
      ],
      "metadata": {
        "id": "XZKcJJ5MxZan"
      },
      "execution_count": 14,
      "outputs": []
    },
    {
      "cell_type": "code",
      "source": [
        "def get_existing_times_of_values(df):\n",
        "    num_rows = df.count()\n",
        "    numeric_cols, int_cate_cols, other_cates_cols = get_numerical_or_categorical_columns(df, False)\n",
        "    cate_cols = int_cate_cols+other_cates_cols\n",
        "    count_columns = {c:df.groupby(c).agg(F.count()/num_rows) for i in cate_cols}\n",
        "\n",
        "    for c in count_columns:\n",
        "        fig = plt.figure(figsize=(20, 5))\n",
        "        plt.bar(count_columns[c].keys(), count_columns[c].values())\n",
        "        plt.title(f'Column {c}')\n",
        "        plt.xlable(f'Values in column {c}')\n",
        "        plt.ylabel(f'Existing times of values in column {c}')\n",
        "        plt.xticks(rotation = 60)\n",
        "        plt.show()\n",
        "    \n",
        "    return count_columns"
      ],
      "metadata": {
        "id": "eKDRqx7f3lAY"
      },
      "execution_count": 15,
      "outputs": []
    },
    {
      "cell_type": "code",
      "source": [
        "def get_most_popular_and_least_popular_values(df):\n",
        "    numeric_cols, int_cate_cols, other_cates_cols = get_numerical_or_categorical_columns(df, False)\n",
        "    all_columns = numeric_cols+int_cate_cols+other_cates_cols\n",
        "    most_popular_values = {c:sorted({v[c]:v['count'] for v in df.groupby(c).count().toPandas().to_dict('record')}.items(), key=lambda x:x[1], reverse=True)[0] for c in all_columns}\n",
        "    least_popular_values = {c:sorted({v[c]:v['count'] for v in df.groupby(c).count().toPandas().to_dict('record')}.items(), key=lambda x:x[1])[0] for c in all_columns}\n",
        "    return most_popular_values, least_popular_values\n"
      ],
      "metadata": {
        "id": "OhwiuUdJ3uwS"
      },
      "execution_count": 17,
      "outputs": []
    },
    {
      "cell_type": "code",
      "source": [
        "def find_outliers_by_boxplot(df, plot):\n",
        "    numeric_cols, int_cate_cols, other_cates_cols = get_numerical_or_categorical_columns(df, False)\n",
        "    all_columns = numeric_cols+int_cate_cols\n",
        "    describe, quantitle = get_distribution(df, plot=False)\n",
        "    outliers_of_cols = {}\n",
        "    for c in all_columns:\n",
        "        values = np.array(df.select(c).rdd.flatMap(lambda x:x).collect())\n",
        "        iqr = quantitle[c][2] - quantitle[c][0]\n",
        "        upper_bound = quantitle[c][2]+1.5*iqr\n",
        "        lower_bound = quantitle[c][0]-1.5*iqr\n",
        "\n",
        "        outliers = values[(values <= lower_bound)|(values >= upper_bound)]\n",
        "        outliers_of_cols[c] = outliers\n",
        "        \n",
        "        if plot:\n",
        "            plt.boxplot(values)\n",
        "            plt.title(f'Column {c}')\n",
        "            plt.show()\n",
        "            print(f\"Outliers: {outliers}\")\n",
        "    return \n",
        "\n",
        "def find_outliers_by_histogram(df):\n",
        "    numeric_cols, int_cate_cols, other_cates_cols = get_numerical_or_categorical_columns(df, False)\n",
        "    distinct_count = get_distinct_values(df, False)\n",
        "    for c in numeric_cols:\n",
        "        values = df.select(c).rdd.flatMap(lambda x: x).collect()\n",
        "        plt.hist(values, int(1 + 3.322*log(distinct_count[c])))\n",
        "        plt.title(f'Column: {c}')\n",
        "        plt.show()\n"
      ],
      "metadata": {
        "id": "jBuR9hJk3xiT"
      },
      "execution_count": 18,
      "outputs": []
    },
    {
      "cell_type": "code",
      "source": [
        "from pyspark.ml.stat import Correlation, ChiSquareTest\n",
        "from pyspark.ml.feature import VectorAssembler\n",
        "\n",
        "def get_correlation(df):\n",
        "    numeric_cols, int_cate_cols, other_cates_cols = get_numerical_or_categorical_columns(df, False)\n",
        "    vector_col = \"corr_features\"\n",
        "    assembler = VectorAssembler(inputCols=int_cate_cols, \n",
        "                                outputCol=vector_col)\n",
        "    myGraph_vector = assembler.transform(df.select(int_cate_cols)).select(vector_col)\n",
        "    pearsonCorr = Correlation.corr(myGraph_vector, vector_col, \"pearson\").collect()[0][0].toArray().tolist()\n",
        "    # spearmanCorr = Correlation.corr(df.select(int_cate_cols), df.columns[0],'spearman').collect()[0][0]\n",
        "    fig=plt.figure(200)\n",
        "    ax=fig.add_subplot(111)\n",
        "    ax.set_title(\"Correlation Matrix for Specified Attributes\")\n",
        "    ax.set_xticklabels(['']+int_cate_cols)\n",
        "    ax.set_yticklabels(['']+int_cate_cols)\n",
        "    cax=ax.matshow(pearsonCorr,vmax=1,vmin=-1)\n",
        "    fig.colorbar(cax)\n",
        "    plt.show()\n",
        "    sns.heatmap(pearsonCorr)"
      ],
      "metadata": {
        "id": "3Dk0Kyq936t9"
      },
      "execution_count": 89,
      "outputs": []
    },
    {
      "cell_type": "code",
      "source": [
        "get_correlation(df)"
      ],
      "metadata": {
        "colab": {
          "base_uri": "https://localhost:8080/",
          "height": 536
        },
        "id": "j1cgWCn09OgL",
        "outputId": "df50f460-6531-4e41-87e2-f5594f35bcab"
      },
      "execution_count": 90,
      "outputs": [
        {
          "output_type": "display_data",
          "data": {
            "text/plain": [
              "<Figure size 432x288 with 2 Axes>"
            ],
            "image/png": "[encoded data removed]"
          },
          "metadata": {
            "needs_background": "light"
          }
        },
        {
          "output_type": "display_data",
          "data": {
            "text/plain": [
              "<Figure size 432x288 with 2 Axes>"
            ],
            "image/png": "[encoded data removed]"
          },
          "metadata": {
            "needs_background": "light"
          }
        }
      ]
    },
    {
      "cell_type": "code",
      "source": [
        "from pyspark.ml.feature import StringIndexer\n",
        "def get_chi_square(df):\n",
        "    numeric_cols, int_cate_cols, other_cates_cols = get_numerical_or_categorical_columns(df, False)\n",
        "    chi_square = {}\n",
        "    for c in int_cate_cols+other_cates_cols:\n",
        "      assembler = VectorAssembler().setInputCols([c]).setOutputCol(\"features\")\n",
        "      chi_square[c] = ChiSquareTest.test(assembler.transform(df), \"features\", int_cate_cols[0]).collect()[0]\n",
        "    return chi_square"
      ],
      "metadata": {
        "id": "6nJ8Mmmx5wF5"
      },
      "execution_count": 97,
      "outputs": []
    },
    {
      "cell_type": "code",
      "source": [
        "get_chi_square(df)"
      ],
      "metadata": {
        "id": "PrlOToB4_epB"
      },
      "execution_count": null,
      "outputs": []
    },
    {
      "cell_type": "code",
      "source": [
        "numeric_cols, int_cate_cols, other_cates_cols = get_numerical_or_categorical_columns(df, False)\n",
        "chi_square = {}\n",
        "for c in int_cate_cols+other_cates_cols:\n",
        "    assembler = VectorAssembler().setInputCols([c]).setOutputCol(\"features\")\n",
        "    chi_square[c] = ChiSquareTest.test(assembler.transform(df), \"features\", int_cate_cols[0]).collect()[0]"
      ],
      "metadata": {
        "id": "y1xLBH8H_gX0"
      },
      "execution_count": null,
      "outputs": []
    },
    {
      "cell_type": "code",
      "source": [
        "# df = spark.createDataFrame(data, ['feature1', 'feature2'])\n",
        "chi_square"
      ],
      "metadata": {
        "id": "ZFBwz90cCvl4"
      },
      "execution_count": null,
      "outputs": []
    },
    {
      "cell_type": "code",
      "source": [
        "from pyspark.sql.functions import lit, avg, count, udf, struct, sum\n",
        "from pyspark.sql.types import DoubleType\n",
        "\n",
        "def one_way_anova(df, categorical_var, continuous_var):\n",
        "    \"\"\"\n",
        "    Given a Spark Dataframe, compute the one-way ANOVA using the given categorical and continuous variables.\n",
        "    :param df: Spark Dataframe\n",
        "    :param categorical_var: Name of the column that represents the grouping variable to use\n",
        "    :param continuous_var: Name of the column corresponding the continuous variable to analyse\n",
        "    :return: Sum of squares within groups, Sum of squares between groups, F-statistic, degrees of freedom 1, degrees of freedom 2\n",
        "    \"\"\"\n",
        "\n",
        "    global_avg = df.select(avg(continuous_var)).take(1)[0][0]\n",
        "\n",
        "    avg_in_groups = df.groupby(categorical_var).agg(avg(continuous_var).alias(\"Group_avg\"),\n",
        "                                                    count(\"*\").alias(\"N_of_records_per_group\"))\n",
        "    avg_in_groups = avg_in_groups.withColumn(\"Global_avg\",\n",
        "                                            lit(global_avg))\n",
        "\n",
        "    udf_between_ss = udf(lambda x: x[0] * (x[1] - x[2]) ** 2,\n",
        "                        DoubleType())\n",
        "    between_df = avg_in_groups.withColumn(\"squared_diff\",\n",
        "                                        udf_between_ss(struct('N_of_records_per_group',\n",
        "                                                                'Global_avg',\n",
        "                                                                'Group_avg')))\n",
        "    ssbg = between_df.select(sum('squared_diff')).take(1)[0][0]\n",
        "\n",
        "    within_df_joined = avg_in_groups \\\n",
        "        .join(df,\n",
        "            df[categorical_var] == avg_in_groups[categorical_var]) \\\n",
        "        .drop(avg_in_groups[categorical_var])\n",
        "\n",
        "    udf_within_ss = udf(lambda x: (x[0] - x[1]) ** 2, DoubleType())\n",
        "    within_df_joined = within_df_joined.withColumn(\"squared_diff\",\n",
        "                                                udf_within_ss(struct(continuous_var,\n",
        "                                                                        'Group_avg')))\n",
        "    sswg = within_df_joined \\\n",
        "        .groupby(categorical_var) \\\n",
        "        .agg(sum(\"squared_diff\").alias(\"sum_of_squares_within_gropus\")) \\\n",
        "        .select(sum('sum_of_squares_within_gropus')).take(1)[0][0]\n",
        "    m = df.groupby(categorical_var) \\\n",
        "        .agg(count(\"*\")) \\\n",
        "        .count()  # number of levels\n",
        "    n = df.count()  # number of observations\n",
        "    df1 = m - 1\n",
        "    df2 = n - m\n",
        "    f_statistic = (ssbg / df1) / (sswg / df2)\n",
        "    return sswg, ssbg, f_statistic, df1, df2"
      ],
      "metadata": {
        "id": "KkqFFGmTAdzQ"
      },
      "execution_count": 153,
      "outputs": []
    },
    {
      "cell_type": "code",
      "source": [
        "def anova(df, label='label'):\n",
        "    numeric_cols, int_cate_cols, other_cates_cols = get_numerical_or_categorical_columns(df, False)\n",
        "    anova_2_cols = {}\n",
        "    for c in int_cate_cols:\n",
        "        anova_2_cols[c] = one_way_anova(df, c, 'caseid')\n",
        "        print(anova_2_cols)\n",
        "    return anova_2_cols"
      ],
      "metadata": {
        "id": "khaHhICDJZTD"
      },
      "execution_count": 160,
      "outputs": []
    },
    {
      "cell_type": "code",
      "source": [
        "anova(df)"
      ],
      "metadata": {
        "colab": {
          "base_uri": "https://localhost:8080/",
          "height": 556
        },
        "id": "oCo8dPejJfdb",
        "outputId": "42b47169-4dc5-4488-fbcb-07131b010b96"
      },
      "execution_count": 161,
      "outputs": [
        {
          "output_type": "stream",
          "name": "stdout",
          "text": [
            "{'dAge': (75997.74061355312, 4852.259386446903, 0.9789937173331891, 6, 92)}\n",
            "{'dAge': (75997.74061355312, 4852.259386446903, 0.9789937173331891, 6, 92), 'dAncstry1': (77684.48181818186, 3165.5181818181763, 0.5297291737100167, 7, 91)}\n",
            "{'dAge': (75997.74061355312, 4852.259386446903, 0.9789937173331891, 6, 92), 'dAncstry1': (77684.48181818186, 3165.5181818181763, 0.5297291737100167, 7, 91), 'dAncstry2': (80534.91202475686, 315.0879752432909, 0.12389391919416248, 3, 95)}\n",
            "{'dAge': (75997.74061355312, 4852.259386446903, 0.9789937173331891, 6, 92), 'dAncstry1': (77684.48181818186, 3165.5181818181763, 0.5297291737100167, 7, 91), 'dAncstry2': (80534.91202475686, 315.0879752432909, 0.12389391919416248, 3, 95), 'iAvail': (79799.83333333342, 1050.1666666666908, 0.6316805172943274, 2, 96)}\n"
          ]
        },
        {
          "output_type": "stream",
          "name": "stderr",
          "text": [
            "ERROR:root:KeyboardInterrupt while sending command.\n",
            "Traceback (most recent call last):\n",
            "  File \"/usr/local/lib/python3.8/dist-packages/py4j/java_gateway.py\", line 1038, in send_command\n",
            "    response = connection.send_command(command)\n",
            "  File \"/usr/local/lib/python3.8/dist-packages/py4j/clientserver.py\", line 511, in send_command\n",
            "    answer = smart_decode(self.stream.readline()[:-1])\n",
            "  File \"/usr/lib/python3.8/socket.py\", line 669, in readinto\n",
            "    return self._sock.recv_into(b)\n",
            "KeyboardInterrupt\n"
          ]
        },
        {
          "output_type": "error",
          "ename": "KeyboardInterrupt",
          "evalue": "ignored",
          "traceback": [
            "\u001b[0;31m---------------------------------------------------------------------------\u001b[0m",
            "\u001b[0;31mKeyboardInterrupt\u001b[0m                         Traceback (most recent call last)",
            "\u001b[0;32m<ipython-input-161-35b79a01139d>\u001b[0m in \u001b[0;36m<module>\u001b[0;34m\u001b[0m\n\u001b[0;32m----> 1\u001b[0;31m \u001b[0manova\u001b[0m\u001b[0;34m(\u001b[0m\u001b[0mdf\u001b[0m\u001b[0;34m)\u001b[0m\u001b[0;34m\u001b[0m\u001b[0;34m\u001b[0m\u001b[0m\n\u001b[0m",
            "\u001b[0;32m<ipython-input-160-c375d3255c6a>\u001b[0m in \u001b[0;36manova\u001b[0;34m(df, label)\u001b[0m\n\u001b[1;32m      3\u001b[0m     \u001b[0manova_2_cols\u001b[0m \u001b[0;34m=\u001b[0m \u001b[0;34m{\u001b[0m\u001b[0;34m}\u001b[0m\u001b[0;34m\u001b[0m\u001b[0;34m\u001b[0m\u001b[0m\n\u001b[1;32m      4\u001b[0m     \u001b[0;32mfor\u001b[0m \u001b[0mc\u001b[0m \u001b[0;32min\u001b[0m \u001b[0mint_cate_cols\u001b[0m\u001b[0;34m:\u001b[0m\u001b[0;34m\u001b[0m\u001b[0;34m\u001b[0m\u001b[0m\n\u001b[0;32m----> 5\u001b[0;31m         \u001b[0manova_2_cols\u001b[0m\u001b[0;34m[\u001b[0m\u001b[0mc\u001b[0m\u001b[0;34m]\u001b[0m \u001b[0;34m=\u001b[0m \u001b[0mone_way_anova\u001b[0m\u001b[0;34m(\u001b[0m\u001b[0mdf\u001b[0m\u001b[0;34m,\u001b[0m \u001b[0mc\u001b[0m\u001b[0;34m,\u001b[0m \u001b[0;34m'caseid'\u001b[0m\u001b[0;34m)\u001b[0m\u001b[0;34m\u001b[0m\u001b[0;34m\u001b[0m\u001b[0m\n\u001b[0m\u001b[1;32m      6\u001b[0m         \u001b[0mprint\u001b[0m\u001b[0;34m(\u001b[0m\u001b[0manova_2_cols\u001b[0m\u001b[0;34m)\u001b[0m\u001b[0;34m\u001b[0m\u001b[0;34m\u001b[0m\u001b[0m\n\u001b[1;32m      7\u001b[0m     \u001b[0;32mreturn\u001b[0m \u001b[0manova_2_cols\u001b[0m\u001b[0;34m\u001b[0m\u001b[0;34m\u001b[0m\u001b[0m\n",
            "\u001b[0;32m<ipython-input-153-704e13327d11>\u001b[0m in \u001b[0;36mone_way_anova\u001b[0;34m(df, categorical_var, continuous_var)\u001b[0m\n\u001b[1;32m     42\u001b[0m         \u001b[0;34m.\u001b[0m\u001b[0magg\u001b[0m\u001b[0;34m(\u001b[0m\u001b[0mcount\u001b[0m\u001b[0;34m(\u001b[0m\u001b[0;34m\"*\"\u001b[0m\u001b[0;34m)\u001b[0m\u001b[0;34m)\u001b[0m\u001b[0;31m \u001b[0m\u001b[0;31m\\\u001b[0m\u001b[0;34m\u001b[0m\u001b[0;34m\u001b[0m\u001b[0m\n\u001b[1;32m     43\u001b[0m         \u001b[0;34m.\u001b[0m\u001b[0mcount\u001b[0m\u001b[0;34m(\u001b[0m\u001b[0;34m)\u001b[0m  \u001b[0;31m# number of levels\u001b[0m\u001b[0;34m\u001b[0m\u001b[0;34m\u001b[0m\u001b[0m\n\u001b[0;32m---> 44\u001b[0;31m     \u001b[0mn\u001b[0m \u001b[0;34m=\u001b[0m \u001b[0mdf\u001b[0m\u001b[0;34m.\u001b[0m\u001b[0mcount\u001b[0m\u001b[0;34m(\u001b[0m\u001b[0;34m)\u001b[0m  \u001b[0;31m# number of observations\u001b[0m\u001b[0;34m\u001b[0m\u001b[0;34m\u001b[0m\u001b[0m\n\u001b[0m\u001b[1;32m     45\u001b[0m     \u001b[0mdf1\u001b[0m \u001b[0;34m=\u001b[0m \u001b[0mm\u001b[0m \u001b[0;34m-\u001b[0m \u001b[0;36m1\u001b[0m\u001b[0;34m\u001b[0m\u001b[0;34m\u001b[0m\u001b[0m\n\u001b[1;32m     46\u001b[0m     \u001b[0mdf2\u001b[0m \u001b[0;34m=\u001b[0m \u001b[0mn\u001b[0m \u001b[0;34m-\u001b[0m \u001b[0mm\u001b[0m\u001b[0;34m\u001b[0m\u001b[0;34m\u001b[0m\u001b[0m\n",
            "\u001b[0;32m/usr/local/lib/python3.8/dist-packages/pyspark/sql/dataframe.py\u001b[0m in \u001b[0;36mcount\u001b[0;34m(self)\u001b[0m\n\u001b[1;32m    802\u001b[0m         \u001b[0;36m2\u001b[0m\u001b[0;34m\u001b[0m\u001b[0;34m\u001b[0m\u001b[0m\n\u001b[1;32m    803\u001b[0m         \"\"\"\n\u001b[0;32m--> 804\u001b[0;31m         \u001b[0;32mreturn\u001b[0m \u001b[0mint\u001b[0m\u001b[0;34m(\u001b[0m\u001b[0mself\u001b[0m\u001b[0;34m.\u001b[0m\u001b[0m_jdf\u001b[0m\u001b[0;34m.\u001b[0m\u001b[0mcount\u001b[0m\u001b[0;34m(\u001b[0m\u001b[0;34m)\u001b[0m\u001b[0;34m)\u001b[0m\u001b[0;34m\u001b[0m\u001b[0;34m\u001b[0m\u001b[0m\n\u001b[0m\u001b[1;32m    805\u001b[0m \u001b[0;34m\u001b[0m\u001b[0m\n\u001b[1;32m    806\u001b[0m     \u001b[0;32mdef\u001b[0m \u001b[0mcollect\u001b[0m\u001b[0;34m(\u001b[0m\u001b[0mself\u001b[0m\u001b[0;34m)\u001b[0m \u001b[0;34m->\u001b[0m \u001b[0mList\u001b[0m\u001b[0;34m[\u001b[0m\u001b[0mRow\u001b[0m\u001b[0;34m]\u001b[0m\u001b[0;34m:\u001b[0m\u001b[0;34m\u001b[0m\u001b[0;34m\u001b[0m\u001b[0m\n",
            "\u001b[0;32m/usr/local/lib/python3.8/dist-packages/py4j/java_gateway.py\u001b[0m in \u001b[0;36m__call__\u001b[0;34m(self, *args)\u001b[0m\n\u001b[1;32m   1318\u001b[0m             \u001b[0mproto\u001b[0m\u001b[0;34m.\u001b[0m\u001b[0mEND_COMMAND_PART\u001b[0m\u001b[0;34m\u001b[0m\u001b[0;34m\u001b[0m\u001b[0m\n\u001b[1;32m   1319\u001b[0m \u001b[0;34m\u001b[0m\u001b[0m\n\u001b[0;32m-> 1320\u001b[0;31m         \u001b[0manswer\u001b[0m \u001b[0;34m=\u001b[0m \u001b[0mself\u001b[0m\u001b[0;34m.\u001b[0m\u001b[0mgateway_client\u001b[0m\u001b[0;34m.\u001b[0m\u001b[0msend_command\u001b[0m\u001b[0;34m(\u001b[0m\u001b[0mcommand\u001b[0m\u001b[0;34m)\u001b[0m\u001b[0;34m\u001b[0m\u001b[0;34m\u001b[0m\u001b[0m\n\u001b[0m\u001b[1;32m   1321\u001b[0m         return_value = get_return_value(\n\u001b[1;32m   1322\u001b[0m             answer, self.gateway_client, self.target_id, self.name)\n",
            "\u001b[0;32m/usr/local/lib/python3.8/dist-packages/py4j/java_gateway.py\u001b[0m in \u001b[0;36msend_command\u001b[0;34m(self, command, retry, binary)\u001b[0m\n\u001b[1;32m   1036\u001b[0m         \u001b[0mconnection\u001b[0m \u001b[0;34m=\u001b[0m \u001b[0mself\u001b[0m\u001b[0;34m.\u001b[0m\u001b[0m_get_connection\u001b[0m\u001b[0;34m(\u001b[0m\u001b[0;34m)\u001b[0m\u001b[0;34m\u001b[0m\u001b[0;34m\u001b[0m\u001b[0m\n\u001b[1;32m   1037\u001b[0m         \u001b[0;32mtry\u001b[0m\u001b[0;34m:\u001b[0m\u001b[0;34m\u001b[0m\u001b[0;34m\u001b[0m\u001b[0m\n\u001b[0;32m-> 1038\u001b[0;31m             \u001b[0mresponse\u001b[0m \u001b[0;34m=\u001b[0m \u001b[0mconnection\u001b[0m\u001b[0;34m.\u001b[0m\u001b[0msend_command\u001b[0m\u001b[0;34m(\u001b[0m\u001b[0mcommand\u001b[0m\u001b[0;34m)\u001b[0m\u001b[0;34m\u001b[0m\u001b[0;34m\u001b[0m\u001b[0m\n\u001b[0m\u001b[1;32m   1039\u001b[0m             \u001b[0;32mif\u001b[0m \u001b[0mbinary\u001b[0m\u001b[0;34m:\u001b[0m\u001b[0;34m\u001b[0m\u001b[0;34m\u001b[0m\u001b[0m\n\u001b[1;32m   1040\u001b[0m                 \u001b[0;32mreturn\u001b[0m \u001b[0mresponse\u001b[0m\u001b[0;34m,\u001b[0m \u001b[0mself\u001b[0m\u001b[0;34m.\u001b[0m\u001b[0m_create_connection_guard\u001b[0m\u001b[0;34m(\u001b[0m\u001b[0mconnection\u001b[0m\u001b[0;34m)\u001b[0m\u001b[0;34m\u001b[0m\u001b[0;34m\u001b[0m\u001b[0m\n",
            "\u001b[0;32m/usr/local/lib/python3.8/dist-packages/py4j/clientserver.py\u001b[0m in \u001b[0;36msend_command\u001b[0;34m(self, command)\u001b[0m\n\u001b[1;32m    509\u001b[0m         \u001b[0;32mtry\u001b[0m\u001b[0;34m:\u001b[0m\u001b[0;34m\u001b[0m\u001b[0;34m\u001b[0m\u001b[0m\n\u001b[1;32m    510\u001b[0m             \u001b[0;32mwhile\u001b[0m \u001b[0;32mTrue\u001b[0m\u001b[0;34m:\u001b[0m\u001b[0;34m\u001b[0m\u001b[0;34m\u001b[0m\u001b[0m\n\u001b[0;32m--> 511\u001b[0;31m                 \u001b[0manswer\u001b[0m \u001b[0;34m=\u001b[0m \u001b[0msmart_decode\u001b[0m\u001b[0;34m(\u001b[0m\u001b[0mself\u001b[0m\u001b[0;34m.\u001b[0m\u001b[0mstream\u001b[0m\u001b[0;34m.\u001b[0m\u001b[0mreadline\u001b[0m\u001b[0;34m(\u001b[0m\u001b[0;34m)\u001b[0m\u001b[0;34m[\u001b[0m\u001b[0;34m:\u001b[0m\u001b[0;34m-\u001b[0m\u001b[0;36m1\u001b[0m\u001b[0;34m]\u001b[0m\u001b[0;34m)\u001b[0m\u001b[0;34m\u001b[0m\u001b[0;34m\u001b[0m\u001b[0m\n\u001b[0m\u001b[1;32m    512\u001b[0m                 \u001b[0mlogger\u001b[0m\u001b[0;34m.\u001b[0m\u001b[0mdebug\u001b[0m\u001b[0;34m(\u001b[0m\u001b[0;34m\"Answer received: {0}\"\u001b[0m\u001b[0;34m.\u001b[0m\u001b[0mformat\u001b[0m\u001b[0;34m(\u001b[0m\u001b[0manswer\u001b[0m\u001b[0;34m)\u001b[0m\u001b[0;34m)\u001b[0m\u001b[0;34m\u001b[0m\u001b[0;34m\u001b[0m\u001b[0m\n\u001b[1;32m    513\u001b[0m                 \u001b[0;31m# Happens when a the other end is dead. There might be an empty\u001b[0m\u001b[0;34m\u001b[0m\u001b[0;34m\u001b[0m\u001b[0;34m\u001b[0m\u001b[0m\n",
            "\u001b[0;32m/usr/lib/python3.8/socket.py\u001b[0m in \u001b[0;36mreadinto\u001b[0;34m(self, b)\u001b[0m\n\u001b[1;32m    667\u001b[0m         \u001b[0;32mwhile\u001b[0m \u001b[0;32mTrue\u001b[0m\u001b[0;34m:\u001b[0m\u001b[0;34m\u001b[0m\u001b[0;34m\u001b[0m\u001b[0m\n\u001b[1;32m    668\u001b[0m             \u001b[0;32mtry\u001b[0m\u001b[0;34m:\u001b[0m\u001b[0;34m\u001b[0m\u001b[0;34m\u001b[0m\u001b[0m\n\u001b[0;32m--> 669\u001b[0;31m                 \u001b[0;32mreturn\u001b[0m \u001b[0mself\u001b[0m\u001b[0;34m.\u001b[0m\u001b[0m_sock\u001b[0m\u001b[0;34m.\u001b[0m\u001b[0mrecv_into\u001b[0m\u001b[0;34m(\u001b[0m\u001b[0mb\u001b[0m\u001b[0;34m)\u001b[0m\u001b[0;34m\u001b[0m\u001b[0;34m\u001b[0m\u001b[0m\n\u001b[0m\u001b[1;32m    670\u001b[0m             \u001b[0;32mexcept\u001b[0m \u001b[0mtimeout\u001b[0m\u001b[0;34m:\u001b[0m\u001b[0;34m\u001b[0m\u001b[0;34m\u001b[0m\u001b[0m\n\u001b[1;32m    671\u001b[0m                 \u001b[0mself\u001b[0m\u001b[0;34m.\u001b[0m\u001b[0m_timeout_occurred\u001b[0m \u001b[0;34m=\u001b[0m \u001b[0;32mTrue\u001b[0m\u001b[0;34m\u001b[0m\u001b[0;34m\u001b[0m\u001b[0m\n",
            "\u001b[0;31mKeyboardInterrupt\u001b[0m: "
          ]
        }
      ]
    },
    {
      "cell_type": "code",
      "source": [],
      "metadata": {
        "id": "ARbcZU6cJhS-"
      },
      "execution_count": null,
      "outputs": []
    }
  ]
}