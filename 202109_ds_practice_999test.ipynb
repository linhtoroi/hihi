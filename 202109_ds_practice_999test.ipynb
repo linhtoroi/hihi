{
  "cells": [
    {
      "cell_type": "markdown",
      "metadata": {
        "id": "view-in-github",
        "colab_type": "text"
      },
      "source": [
        "<a href=\"https://colab.research.google.com/github/linhtoroi/hihi/blob/main/202109_ds_practice_999test.ipynb\" target=\"_parent\"><img src=\"https://colab.research.google.com/assets/colab-badge.svg\" alt=\"Open In Colab\"/></a>"
      ]
    },
    {
      "cell_type": "markdown",
      "metadata": {
        "id": "505DgRkkEVhL"
      },
      "source": [
        "# 0. Cài đặt môi trường <br>\n",
        "Guide: Chạy toàn bộ các lệnh sau"
      ]
    },
    {
      "cell_type": "code",
      "execution_count": null,
      "metadata": {
        "colab": {
          "base_uri": "https://localhost:8080/"
        },
        "id": "xsxQa-t0r1aL",
        "outputId": "2e31047a-f5f4-4bf6-821b-f627a46de668"
      },
      "outputs": [
        {
          "output_type": "stream",
          "name": "stdout",
          "text": [
            "Looking in indexes: https://pypi.org/simple, https://us-python.pkg.dev/colab-wheels/public/simple/\n",
            "Collecting pyspark\n",
            "  Downloading pyspark-3.3.2.tar.gz (281.4 MB)\n",
            "\u001b[2K     \u001b[90m━━━━━━━━━━━━━━━━━━━━━━━━━━━━━━━━━━━━━━━\u001b[0m \u001b[32m281.4/281.4 MB\u001b[0m \u001b[31m2.6 MB/s\u001b[0m eta \u001b[36m0:00:00\u001b[0m\n",
            "\u001b[?25h  Preparing metadata (setup.py) ... \u001b[?25l\u001b[?25hdone\n",
            "Collecting py4j==0.10.9.5\n",
            "  Downloading py4j-0.10.9.5-py2.py3-none-any.whl (199 kB)\n",
            "\u001b[2K     \u001b[90m━━━━━━━━━━━━━━━━━━━━━━━━━━━━━━━━━━━━━━\u001b[0m \u001b[32m199.7/199.7 KB\u001b[0m \u001b[31m12.2 MB/s\u001b[0m eta \u001b[36m0:00:00\u001b[0m\n",
            "\u001b[?25hBuilding wheels for collected packages: pyspark\n",
            "  Building wheel for pyspark (setup.py) ... \u001b[?25l\u001b[?25hdone\n",
            "  Created wheel for pyspark: filename=pyspark-3.3.2-py2.py3-none-any.whl size=281824028 sha256=a3cb1bc0cb3707fefbf5b6ddfa302c67ab796a7e4e874afe811a45766f9600be\n",
            "  Stored in directory: /root/.cache/pip/wheels/6c/e3/9b/0525ce8a69478916513509d43693511463c6468db0de237c86\n",
            "Successfully built pyspark\n",
            "Installing collected packages: py4j, pyspark\n",
            "  Attempting uninstall: py4j\n",
            "    Found existing installation: py4j 0.10.9.7\n",
            "    Uninstalling py4j-0.10.9.7:\n",
            "      Successfully uninstalled py4j-0.10.9.7\n",
            "Successfully installed py4j-0.10.9.5 pyspark-3.3.2\n"
          ]
        }
      ],
      "source": [
        "!pip install pyspark"
      ]
    },
    {
      "cell_type": "code",
      "execution_count": null,
      "metadata": {
        "id": "lWdDhQM5r1aO"
      },
      "outputs": [],
      "source": [
        "import pandas as pd\n",
        "import numpy as np \n",
        "import tensorflow as tf\n",
        "import requests \n",
        "import seaborn as sns\n",
        "import matplotlib.pyplot as plt\n",
        "\n",
        "import pyspark\n",
        "from pyspark.sql import functions as F"
      ]
    },
    {
      "cell_type": "code",
      "execution_count": null,
      "metadata": {
        "colab": {
          "base_uri": "https://localhost:8080/"
        },
        "id": "ms-6ReQO2YbS",
        "outputId": "fdf91ba0-5820-4a8a-e538-2e83845d8eb1"
      },
      "outputs": [
        {
          "output_type": "stream",
          "name": "stdout",
          "text": [
            "3.3.2\n"
          ]
        }
      ],
      "source": [
        "print(pyspark.__version__)"
      ]
    },
    {
      "cell_type": "code",
      "execution_count": null,
      "metadata": {
        "id": "v-R53a07c98n"
      },
      "outputs": [],
      "source": []
    },
    {
      "cell_type": "code",
      "execution_count": null,
      "metadata": {
        "id": "h0QZp-zJc3dr"
      },
      "outputs": [],
      "source": [
        "spark = pyspark.sql.SparkSession \\\n",
        "    .builder \\\n",
        "    .appName(\"DS_test\") \\\n",
        "    .getOrCreate()"
      ]
    },
    {
      "cell_type": "code",
      "execution_count": null,
      "metadata": {
        "id": "TRjJ3J0C2YbT"
      },
      "outputs": [],
      "source": [
        "#@title RUN THIS PARAGRAPH: TESTCASE\n",
        "class TEST():\n",
        "    def testcase1_1(df):\n",
        "        if str(df.head(1))=='[Row(caseid=10000, dAge=5, dAncstry1=0, dAncstry2=1, iAvail=0, iCitizen=0, iClass=5, dDepart=3, iDisabl1=2, iDisabl2=2, iEnglish=1, iFeb55=0, iFertil=1, dHispanic=0, dHour89=4, dHours=3, iImmigr=0, dIncome1=2, dIncome2=0, dIncome3=0, dIncome4=1, dIncome5=0, dIncome6=0, dIncome7=0, dIncome8=0, dIndustry=10, iKorean=0, iLang1=1, iLooking=0, iMarital=1, iMay75880=0, iMeans=1, iMilitary=4, iMobility=2, iMobillim=2, dOccup=3, iOthrserv=0, iPerscare=2, dPOB=0, dPoverty=2, dPwgt1=1, iRagechld=4, dRearning=3, iRelat1=0, iRelat2=0, iRemplpar=0, iRiders=3, iRlabor=1, iRownchld=0, dRpincome=3, iRPOB=22, iRrelchld=0, iRspouse=3, iRvetserv=0, iSchool=1, iSept80=0, iSex=1, iSubfam1=0, iSubfam2=0, iTmpabsnt=0, dTravtime=5, iVietnam=0, dWeek89=2, iWork89=1, iWorklwk=1, iWWII=0, iYearsch=11, iYearwrk=1, dYrsserv=0)]':\n",
        "            print(\"PASS\")\n",
        "        else: print(\"FAIL\")\n",
        "\n",
        "    def testcase123_1(df):\n",
        "        if str(df.head(1))=='[Row(caseid=10000, dAge=5, dAncstry1=0, dAncstry2=1, iAvail=0, iCitizen=0, iClass=5, dDepart=3, iDisabl1=2, iDisabl2=2, iEnglish=1, iFeb55=0, iFertil=1, dHispanic=0, dHour89=4, dHours=3, iImmigr=0, dIncome1=2, dIncome2=0, dIncome3=0, dIncome4=1, dIncome5=0, dIncome6=0, dIncome7=0, dIncome8=0, dIndustry=10, iKorean=0, iLang1=1, iLooking=0, iMarital=1, iMay75880=0, iMeans=1, iMilitary=4, iMobility=2, iMobillim=2, dOccup=3, iOthrserv=0, iPerscare=2, dPOB=0, dPoverty=2, dPwgt1=1, iRagechld=4, dRearning=3, iRelat1=0, iRelat2=0, iRemplpar=0, iRiders=3, iRlabor=1, iRownchld=0, dRpincome=3, iRPOB=22, iRrelchld=0, iRspouse=3, iRvetserv=0, iSchool=1, iSept80=0, iSex=1, iSubfam1=0, iSubfam2=0, iTmpabsnt=0, dTravtime=5, iVietnam=0, dWeek89=2, iWork89=1, iWorklwk=1, iWWII=0, iYearsch=11, iYearwrk=1, dYrsserv=0, dAge2=2.0)]':\n",
        "            print(\"PASS\")\n",
        "        else: print(\"FAIL\")\n",
        "\n",
        "    def testcase123_2(df):\n",
        "        if str(df.head(1))=='[Row(caseid=10366, dAge=0, dAncstry1=1, dAncstry2=1, iAvail=0, iCitizen=0, iClass=0, dDepart=0, iDisabl1=0, iDisabl2=0, iEnglish=0, iFeb55=0, iFertil=0, dHispanic=0, dHour89=0, dHours=0, iImmigr=0, dIncome1=0, dIncome2=0, dIncome3=0, dIncome4=0, dIncome5=0, dIncome6=0, dIncome7=0, dIncome8=0, dIndustry=0, iKorean=0, iLang1=0, iLooking=0, iMarital=4, iMay75880=0, iMeans=0, iMilitary=0, iMobility=0, iMobillim=0, dOccup=0, iOthrserv=0, iPerscare=0, dPOB=0, dPoverty=2, dPwgt1=2, iRagechld=4, dRearning=0, iRelat1=2, iRelat2=0, iRemplpar=121, iRiders=0, iRlabor=0, iRownchld=1, dRpincome=0, iRPOB=10, iRrelchld=1, iRspouse=0, iRvetserv=0, iSchool=0, iSept80=0, iSex=1, iSubfam1=0, iSubfam2=0, iTmpabsnt=0, dTravtime=0, iVietnam=0, dWeek89=0, iWork89=0, iWorklwk=0, iWWII=0, iYearsch=0, iYearwrk=0, dYrsserv=0, dAge2=0.0, rVN=0.0)]':\n",
        "            print(\"PASS\")\n",
        "        else: print(\"FAIL\")\n",
        "\n",
        "    def testcase124(df):\n",
        "        if str(df.head(1))==\"[Row(caseid=10000, dAge=5, dAncstry1=0, dAncstry2=1, iAvail=0, iCitizen=0, iClass=5, dDepart=3, iDisabl1=2, iDisabl2=2, iEnglish=1, iFeb55=0, iFertil=1, dHispanic=0, dHour89=4, dHours=3, iImmigr=0, dIncome1=2, dIncome2=0, dIncome3=0, dIncome4=1, dIncome5=0, dIncome6=0, dIncome7=0, dIncome8=0, dIndustry=10, iKorean=0, iLang1=1, iLooking=0, iMarital=1, iMay75880=0, iMeans=1, iMilitary=4, iMobility=2, iMobillim=2, dOccup=3, iOthrserv=0, iPerscare=2, dPOB=0, dPoverty=2, dPwgt1=1, iRagechld=4, dRearning=3, iRelat1=0, iRelat2=0, iRemplpar=0, iRiders=3, iRlabor=1, iRownchld=0, dRpincome=3, iRPOB=22, iRrelchld=0, iRspouse=3, iRvetserv=0, iSchool=1, iSept80=0, iSex=1, iSubfam1=0, iSubfam2=0, iTmpabsnt=0, dTravtime=5, iVietnam=0, dWeek89=2, iWork89=1, iWorklwk=1, iWWII=0, iYearsch=11, iYearwrk=1, dYrsserv=0, iLogRPOB='1.3424226808222062')]\":\n",
        "            print(\"PASS\")\n",
        "        else: print(\"FAIL\")"
      ]
    },
    {
      "cell_type": "markdown",
      "metadata": {
        "id": "thaWBT82osvc"
      },
      "source": [
        "Guide: làm theo các bước và CHỈ sửa các đoạn code nằm giữa các thẻ:\n",
        "```\n",
        "# YOUR CODE START\n",
        "# / END YOUR CODE\n",
        "```"
      ]
    },
    {
      "cell_type": "markdown",
      "metadata": {
        "id": "PffTNfZvlOsD"
      },
      "source": [
        "# 1. Big data manapulation\n",
        "Bộ dữ liệu điều tra nhân khẩu của US-1990. Hãy thực hiện tải về và sử dụng pyspark để thao tác với dữ liệu. <br>\n",
        "Đọc thêm về bộ dữ liệu [Tại đây](https://archive.ics.uci.edu/ml/datasets/US+Census+Data+(1990))"
      ]
    },
    {
      "cell_type": "code",
      "execution_count": null,
      "metadata": {
        "id": "vUub5_4sdOZ2"
      },
      "outputs": [],
      "source": [
        "# Tải dữ liệu về\n",
        "file_url = 'https://archive.ics.uci.edu/ml/machine-learning-databases/census1990-mld/USCensus1990.data.txt'\n",
        "file_path = \"/content/USCensus1990.data.txt\"\n",
        "\n",
        "r = requests.get(file_url, stream = True) \n",
        "\n",
        "with open( file_path, \"wb\") as file: \n",
        "    for block in r.iter_content(chunk_size = 1024*10): \n",
        "        if block: \n",
        "            file.write(block)"
      ]
    },
    {
      "cell_type": "markdown",
      "metadata": {
        "id": "f0sCE5IQ2YbV"
      },
      "source": [
        "#### Đọc dữ liệu từ file <br>\n",
        "[1đ, 1p] File dữ liệu đã được tải về tại địa chỉ: file_path <br>\n",
        "Sử dụng pyspark, hãy đọc file dữ liệu thành dataframe, có danh sách cột phù hợp với tên cột đã được định nghĩa trong file dữ liệu."
      ]
    },
    {
      "cell_type": "code",
      "execution_count": null,
      "metadata": {
        "id": "F4PVOfDjBhyU"
      },
      "outputs": [],
      "source": [
        "df = spark.read.text(file_path)"
      ]
    },
    {
      "cell_type": "code",
      "execution_count": null,
      "metadata": {
        "colab": {
          "base_uri": "https://localhost:8080/"
        },
        "id": "0oldBXzkBp1Z",
        "outputId": "6dd951aa-bce0-4774-fa7d-a688e2c5dbc9"
      },
      "outputs": [
        {
          "output_type": "stream",
          "name": "stdout",
          "text": [
            "+--------------------+\n",
            "|               value|\n",
            "+--------------------+\n",
            "|caseid,dAge,dAncs...|\n",
            "|10000,5,0,1,0,0,5...|\n",
            "|10001,6,1,1,0,0,7...|\n",
            "|10002,3,1,2,0,0,7...|\n",
            "|10003,4,1,2,0,0,1...|\n",
            "|10004,7,1,1,0,0,0...|\n",
            "|10005,1,1,2,0,0,0...|\n",
            "|10006,1,1,1,0,0,0...|\n",
            "|10007,4,1,2,0,0,6...|\n",
            "|10008,6,1,1,0,0,1...|\n",
            "|10009,3,1,12,0,0,...|\n",
            "|10010,5,11,1,0,0,...|\n",
            "|10011,4,0,1,0,0,1...|\n",
            "|10012,1,1,2,0,0,0...|\n",
            "|10013,1,1,1,0,0,0...|\n",
            "|10014,3,11,1,0,0,...|\n",
            "|10015,4,3,1,0,0,1...|\n",
            "|10016,4,11,1,0,0,...|\n",
            "|10017,7,1,1,0,0,0...|\n",
            "|10018,4,0,1,0,0,1...|\n",
            "+--------------------+\n",
            "only showing top 20 rows\n",
            "\n"
          ]
        }
      ],
      "source": [
        "df.show()"
      ]
    },
    {
      "cell_type": "code",
      "execution_count": null,
      "metadata": {
        "id": "HTgonieer1aQ"
      },
      "outputs": [],
      "source": [
        "df = spark.read.options(header = 'True', inferSchema = 'True', delimiter=',').csv(file_path)"
      ]
    },
    {
      "cell_type": "code",
      "execution_count": null,
      "metadata": {
        "colab": {
          "base_uri": "https://localhost:8080/"
        },
        "id": "SvNDYIHgm0i-",
        "outputId": "a07937dc-c91c-44dd-b26b-c104e9d4845b"
      },
      "outputs": [
        {
          "output_type": "stream",
          "name": "stdout",
          "text": [
            "PASS\n"
          ]
        }
      ],
      "source": [
        "# testcase 1\n",
        "TEST.testcase1_1(df)"
      ]
    },
    {
      "cell_type": "markdown",
      "metadata": {
        "id": "GrSJvjPe2YbW"
      },
      "source": [
        "#### Spark SQL analysis\n",
        "Sử dụng SQL để thực hiện các ý sau"
      ]
    },
    {
      "cell_type": "code",
      "execution_count": null,
      "metadata": {
        "colab": {
          "base_uri": "https://localhost:8080/"
        },
        "id": "X7BCZKnHTAeV",
        "outputId": "1546b74c-45ce-4878-a870-65501745d32e"
      },
      "outputs": [
        {
          "output_type": "stream",
          "name": "stderr",
          "text": [
            "/usr/local/lib/python3.9/dist-packages/pyspark/sql/dataframe.py:229: FutureWarning: Deprecated in 2.0, use createOrReplaceTempView instead.\n",
            "  warnings.warn(\"Deprecated in 2.0, use createOrReplaceTempView instead.\", FutureWarning)\n"
          ]
        }
      ],
      "source": [
        "df.registerTempTable('tmp_table')"
      ]
    },
    {
      "cell_type": "markdown",
      "metadata": {
        "id": "bVvKKPjCSS_l"
      },
      "source": [
        "[1đ, 1.5p] Tìm nhóm dIncome1 có số dân lớn nhất"
      ]
    },
    {
      "cell_type": "code",
      "execution_count": null,
      "metadata": {
        "colab": {
          "base_uri": "https://localhost:8080/"
        },
        "id": "I2ySSDqVmY5z",
        "outputId": "65927fe8-5fb4-459e-84f4-161b6c68dc0a"
      },
      "outputs": [
        {
          "output_type": "stream",
          "name": "stdout",
          "text": [
            "+------+----+---------+---------+------+--------+------+-------+--------+--------+--------+------+-------+---------+-------+------+-------+--------+--------+--------+--------+--------+--------+--------+--------+---------+-------+------+--------+--------+---------+------+---------+---------+---------+------+---------+---------+----+--------+------+---------+---------+-------+-------+---------+-------+-------+---------+---------+-----+---------+--------+---------+-------+-------+----+--------+--------+---------+---------+--------+-------+-------+--------+-----+--------+--------+--------+\n",
            "|caseid|dAge|dAncstry1|dAncstry2|iAvail|iCitizen|iClass|dDepart|iDisabl1|iDisabl2|iEnglish|iFeb55|iFertil|dHispanic|dHour89|dHours|iImmigr|dIncome1|dIncome2|dIncome3|dIncome4|dIncome5|dIncome6|dIncome7|dIncome8|dIndustry|iKorean|iLang1|iLooking|iMarital|iMay75880|iMeans|iMilitary|iMobility|iMobillim|dOccup|iOthrserv|iPerscare|dPOB|dPoverty|dPwgt1|iRagechld|dRearning|iRelat1|iRelat2|iRemplpar|iRiders|iRlabor|iRownchld|dRpincome|iRPOB|iRrelchld|iRspouse|iRvetserv|iSchool|iSept80|iSex|iSubfam1|iSubfam2|iTmpabsnt|dTravtime|iVietnam|dWeek89|iWork89|iWorklwk|iWWII|iYearsch|iYearwrk|dYrsserv|\n",
            "+------+----+---------+---------+------+--------+------+-------+--------+--------+--------+------+-------+---------+-------+------+-------+--------+--------+--------+--------+--------+--------+--------+--------+---------+-------+------+--------+--------+---------+------+---------+---------+---------+------+---------+---------+----+--------+------+---------+---------+-------+-------+---------+-------+-------+---------+---------+-----+---------+--------+---------+-------+-------+----+--------+--------+---------+---------+--------+-------+-------+--------+-----+--------+--------+--------+\n",
            "| 10000|   5|        0|        1|     0|       0|     5|      3|       2|       2|       1|     0|      1|        0|      4|     3|      0|       2|       0|       0|       1|       0|       0|       0|       0|       10|      0|     1|       0|       1|        0|     1|        4|        2|        2|     3|        0|        2|   0|       2|     1|        4|        3|      0|      0|        0|      3|      1|        0|        3|   22|        0|       3|        0|      1|      0|   1|       0|       0|        0|        5|       0|      2|      1|       1|    0|      11|       1|       0|\n",
            "| 10001|   6|        1|        1|     0|       0|     7|      5|       2|       2|       0|     0|      3|        0|      1|     1|      0|       1|       0|       0|       0|       0|       1|       0|       0|        4|      0|     2|       0|       0|        0|     1|        4|        1|        2|     2|        0|        2|   0|       2|     2|        4|        2|      1|      0|        0|      1|      1|        0|        2|   10|        0|       1|        0|      1|      0|   1|       0|       0|        0|        1|       0|      2|      1|       1|    0|       5|       1|       0|\n",
            "+------+----+---------+---------+------+--------+------+-------+--------+--------+--------+------+-------+---------+-------+------+-------+--------+--------+--------+--------+--------+--------+--------+--------+---------+-------+------+--------+--------+---------+------+---------+---------+---------+------+---------+---------+----+--------+------+---------+---------+-------+-------+---------+-------+-------+---------+---------+-----+---------+--------+---------+-------+-------+----+--------+--------+---------+---------+--------+-------+-------+--------+-----+--------+--------+--------+\n",
            "only showing top 2 rows\n",
            "\n"
          ]
        }
      ],
      "source": [
        "df.show(2)"
      ]
    },
    {
      "cell_type": "code",
      "execution_count": null,
      "metadata": {
        "colab": {
          "base_uri": "https://localhost:8080/"
        },
        "id": "JsG1kZqnm264",
        "outputId": "71beca32-fec6-46e3-a145-9606688e63cc"
      },
      "outputs": [
        {
          "output_type": "execute_result",
          "data": {
            "text/plain": [
              "   dIncome1\n",
              "0         0"
            ],
            "text/html": [
              "\n",
              "  <div id=\"df-8db7beb1-0ade-4e3f-8957-ac1c6ad6d9a7\">\n",
              "    <div class=\"colab-df-container\">\n",
              "      <div>\n",
              "<style scoped>\n",
              "    .dataframe tbody tr th:only-of-type {\n",
              "        vertical-align: middle;\n",
              "    }\n",
              "\n",
              "    .dataframe tbody tr th {\n",
              "        vertical-align: top;\n",
              "    }\n",
              "\n",
              "    .dataframe thead th {\n",
              "        text-align: right;\n",
              "    }\n",
              "</style>\n",
              "<table border=\"1\" class=\"dataframe\">\n",
              "  <thead>\n",
              "    <tr style=\"text-align: right;\">\n",
              "      <th></th>\n",
              "      <th>dIncome1</th>\n",
              "    </tr>\n",
              "  </thead>\n",
              "  <tbody>\n",
              "    <tr>\n",
              "      <th>0</th>\n",
              "      <td>0</td>\n",
              "    </tr>\n",
              "  </tbody>\n",
              "</table>\n",
              "</div>\n",
              "      <button class=\"colab-df-convert\" onclick=\"convertToInteractive('df-8db7beb1-0ade-4e3f-8957-ac1c6ad6d9a7')\"\n",
              "              title=\"Convert this dataframe to an interactive table.\"\n",
              "              style=\"display:none;\">\n",
              "        \n",
              "  <svg xmlns=\"http://www.w3.org/2000/svg\" height=\"24px\"viewBox=\"0 0 24 24\"\n",
              "       width=\"24px\">\n",
              "    <path d=\"M0 0h24v24H0V0z\" fill=\"none\"/>\n",
              "    <path d=\"M18.56 5.44l.94 2.06.94-2.06 2.06-.94-2.06-.94-.94-2.06-.94 2.06-2.06.94zm-11 1L8.5 8.5l.94-2.06 2.06-.94-2.06-.94L8.5 2.5l-.94 2.06-2.06.94zm10 10l.94 2.06.94-2.06 2.06-.94-2.06-.94-.94-2.06-.94 2.06-2.06.94z\"/><path d=\"M17.41 7.96l-1.37-1.37c-.4-.4-.92-.59-1.43-.59-.52 0-1.04.2-1.43.59L10.3 9.45l-7.72 7.72c-.78.78-.78 2.05 0 2.83L4 21.41c.39.39.9.59 1.41.59.51 0 1.02-.2 1.41-.59l7.78-7.78 2.81-2.81c.8-.78.8-2.07 0-2.86zM5.41 20L4 18.59l7.72-7.72 1.47 1.35L5.41 20z\"/>\n",
              "  </svg>\n",
              "      </button>\n",
              "      \n",
              "  <style>\n",
              "    .colab-df-container {\n",
              "      display:flex;\n",
              "      flex-wrap:wrap;\n",
              "      gap: 12px;\n",
              "    }\n",
              "\n",
              "    .colab-df-convert {\n",
              "      background-color: #E8F0FE;\n",
              "      border: none;\n",
              "      border-radius: 50%;\n",
              "      cursor: pointer;\n",
              "      display: none;\n",
              "      fill: #1967D2;\n",
              "      height: 32px;\n",
              "      padding: 0 0 0 0;\n",
              "      width: 32px;\n",
              "    }\n",
              "\n",
              "    .colab-df-convert:hover {\n",
              "      background-color: #E2EBFA;\n",
              "      box-shadow: 0px 1px 2px rgba(60, 64, 67, 0.3), 0px 1px 3px 1px rgba(60, 64, 67, 0.15);\n",
              "      fill: #174EA6;\n",
              "    }\n",
              "\n",
              "    [theme=dark] .colab-df-convert {\n",
              "      background-color: #3B4455;\n",
              "      fill: #D2E3FC;\n",
              "    }\n",
              "\n",
              "    [theme=dark] .colab-df-convert:hover {\n",
              "      background-color: #434B5C;\n",
              "      box-shadow: 0px 1px 3px 1px rgba(0, 0, 0, 0.15);\n",
              "      filter: drop-shadow(0px 1px 2px rgba(0, 0, 0, 0.3));\n",
              "      fill: #FFFFFF;\n",
              "    }\n",
              "  </style>\n",
              "\n",
              "      <script>\n",
              "        const buttonEl =\n",
              "          document.querySelector('#df-8db7beb1-0ade-4e3f-8957-ac1c6ad6d9a7 button.colab-df-convert');\n",
              "        buttonEl.style.display =\n",
              "          google.colab.kernel.accessAllowed ? 'block' : 'none';\n",
              "\n",
              "        async function convertToInteractive(key) {\n",
              "          const element = document.querySelector('#df-8db7beb1-0ade-4e3f-8957-ac1c6ad6d9a7');\n",
              "          const dataTable =\n",
              "            await google.colab.kernel.invokeFunction('convertToInteractive',\n",
              "                                                     [key], {});\n",
              "          if (!dataTable) return;\n",
              "\n",
              "          const docLinkHtml = 'Like what you see? Visit the ' +\n",
              "            '<a target=\"_blank\" href=https://colab.research.google.com/notebooks/data_table.ipynb>data table notebook</a>'\n",
              "            + ' to learn more about interactive tables.';\n",
              "          element.innerHTML = '';\n",
              "          dataTable['output_type'] = 'display_data';\n",
              "          await google.colab.output.renderOutput(dataTable, element);\n",
              "          const docLink = document.createElement('div');\n",
              "          docLink.innerHTML = docLinkHtml;\n",
              "          element.appendChild(docLink);\n",
              "        }\n",
              "      </script>\n",
              "    </div>\n",
              "  </div>\n",
              "  "
            ]
          },
          "metadata": {},
          "execution_count": 13
        }
      ],
      "source": [
        "sql_text = (\n",
        "# YOUR CODE START \n",
        "'''\n",
        "select dIncome1 from tmp_table group by dIncome1 order by count(*) desc limit 1\n",
        "'''\n",
        "# / END YOUR CODE\n",
        ")\n",
        "spark.sql(sql_text).toPandas()"
      ]
    },
    {
      "cell_type": "markdown",
      "metadata": {
        "id": "5yDYDiyOT3-l"
      },
      "source": [
        "[1đ, 3p] Sắp xếp theo chiều tăng dần của iYearsch và đếm lũy kế số người dân, tại người dân đầu tiên có iYearsch = 1 thì giá trị đếm lũy kế là bao nhiêu?"
      ]
    },
    {
      "cell_type": "code",
      "execution_count": null,
      "metadata": {
        "colab": {
          "base_uri": "https://localhost:8080/"
        },
        "id": "1Xwq3tu_m6uP",
        "outputId": "84be4446-ed97-491d-8084-0ced3c953494"
      },
      "outputs": [
        {
          "output_type": "execute_result",
          "data": {
            "text/plain": [
              "   caseid  iYearsch  acc_count\n",
              "0   10012         1     109835"
            ],
            "text/html": [
              "\n",
              "  <div id=\"df-ab300659-87d2-4800-9767-e923818433fb\">\n",
              "    <div class=\"colab-df-container\">\n",
              "      <div>\n",
              "<style scoped>\n",
              "    .dataframe tbody tr th:only-of-type {\n",
              "        vertical-align: middle;\n",
              "    }\n",
              "\n",
              "    .dataframe tbody tr th {\n",
              "        vertical-align: top;\n",
              "    }\n",
              "\n",
              "    .dataframe thead th {\n",
              "        text-align: right;\n",
              "    }\n",
              "</style>\n",
              "<table border=\"1\" class=\"dataframe\">\n",
              "  <thead>\n",
              "    <tr style=\"text-align: right;\">\n",
              "      <th></th>\n",
              "      <th>caseid</th>\n",
              "      <th>iYearsch</th>\n",
              "      <th>acc_count</th>\n",
              "    </tr>\n",
              "  </thead>\n",
              "  <tbody>\n",
              "    <tr>\n",
              "      <th>0</th>\n",
              "      <td>10012</td>\n",
              "      <td>1</td>\n",
              "      <td>109835</td>\n",
              "    </tr>\n",
              "  </tbody>\n",
              "</table>\n",
              "</div>\n",
              "      <button class=\"colab-df-convert\" onclick=\"convertToInteractive('df-ab300659-87d2-4800-9767-e923818433fb')\"\n",
              "              title=\"Convert this dataframe to an interactive table.\"\n",
              "              style=\"display:none;\">\n",
              "        \n",
              "  <svg xmlns=\"http://www.w3.org/2000/svg\" height=\"24px\"viewBox=\"0 0 24 24\"\n",
              "       width=\"24px\">\n",
              "    <path d=\"M0 0h24v24H0V0z\" fill=\"none\"/>\n",
              "    <path d=\"M18.56 5.44l.94 2.06.94-2.06 2.06-.94-2.06-.94-.94-2.06-.94 2.06-2.06.94zm-11 1L8.5 8.5l.94-2.06 2.06-.94-2.06-.94L8.5 2.5l-.94 2.06-2.06.94zm10 10l.94 2.06.94-2.06 2.06-.94-2.06-.94-.94-2.06-.94 2.06-2.06.94z\"/><path d=\"M17.41 7.96l-1.37-1.37c-.4-.4-.92-.59-1.43-.59-.52 0-1.04.2-1.43.59L10.3 9.45l-7.72 7.72c-.78.78-.78 2.05 0 2.83L4 21.41c.39.39.9.59 1.41.59.51 0 1.02-.2 1.41-.59l7.78-7.78 2.81-2.81c.8-.78.8-2.07 0-2.86zM5.41 20L4 18.59l7.72-7.72 1.47 1.35L5.41 20z\"/>\n",
              "  </svg>\n",
              "      </button>\n",
              "      \n",
              "  <style>\n",
              "    .colab-df-container {\n",
              "      display:flex;\n",
              "      flex-wrap:wrap;\n",
              "      gap: 12px;\n",
              "    }\n",
              "\n",
              "    .colab-df-convert {\n",
              "      background-color: #E8F0FE;\n",
              "      border: none;\n",
              "      border-radius: 50%;\n",
              "      cursor: pointer;\n",
              "      display: none;\n",
              "      fill: #1967D2;\n",
              "      height: 32px;\n",
              "      padding: 0 0 0 0;\n",
              "      width: 32px;\n",
              "    }\n",
              "\n",
              "    .colab-df-convert:hover {\n",
              "      background-color: #E2EBFA;\n",
              "      box-shadow: 0px 1px 2px rgba(60, 64, 67, 0.3), 0px 1px 3px 1px rgba(60, 64, 67, 0.15);\n",
              "      fill: #174EA6;\n",
              "    }\n",
              "\n",
              "    [theme=dark] .colab-df-convert {\n",
              "      background-color: #3B4455;\n",
              "      fill: #D2E3FC;\n",
              "    }\n",
              "\n",
              "    [theme=dark] .colab-df-convert:hover {\n",
              "      background-color: #434B5C;\n",
              "      box-shadow: 0px 1px 3px 1px rgba(0, 0, 0, 0.15);\n",
              "      filter: drop-shadow(0px 1px 2px rgba(0, 0, 0, 0.3));\n",
              "      fill: #FFFFFF;\n",
              "    }\n",
              "  </style>\n",
              "\n",
              "      <script>\n",
              "        const buttonEl =\n",
              "          document.querySelector('#df-ab300659-87d2-4800-9767-e923818433fb button.colab-df-convert');\n",
              "        buttonEl.style.display =\n",
              "          google.colab.kernel.accessAllowed ? 'block' : 'none';\n",
              "\n",
              "        async function convertToInteractive(key) {\n",
              "          const element = document.querySelector('#df-ab300659-87d2-4800-9767-e923818433fb');\n",
              "          const dataTable =\n",
              "            await google.colab.kernel.invokeFunction('convertToInteractive',\n",
              "                                                     [key], {});\n",
              "          if (!dataTable) return;\n",
              "\n",
              "          const docLinkHtml = 'Like what you see? Visit the ' +\n",
              "            '<a target=\"_blank\" href=https://colab.research.google.com/notebooks/data_table.ipynb>data table notebook</a>'\n",
              "            + ' to learn more about interactive tables.';\n",
              "          element.innerHTML = '';\n",
              "          dataTable['output_type'] = 'display_data';\n",
              "          await google.colab.output.renderOutput(dataTable, element);\n",
              "          const docLink = document.createElement('div');\n",
              "          docLink.innerHTML = docLinkHtml;\n",
              "          element.appendChild(docLink);\n",
              "        }\n",
              "      </script>\n",
              "    </div>\n",
              "  </div>\n",
              "  "
            ]
          },
          "metadata": {},
          "execution_count": 14
        }
      ],
      "source": [
        "sql_text = (\n",
        "# YOUR CODE START \n",
        "'''\n",
        "select * from (select caseid, iYearsch, count(*) over (order by iYearsch, caseid) acc_count from tmp_table) where iYearsch=1 limit 1\n",
        "'''\n",
        "# / END YOUR CODE\n",
        ")\n",
        "spark.sql(sql_text).toPandas()"
      ]
    },
    {
      "cell_type": "markdown",
      "metadata": {
        "id": "D-7JbYb6WG8k"
      },
      "source": [
        "[1đ, 5p] Giả sử thu nhập của người dùng tỷ lệ thuận với dIncome1, theo công thức income = dIncome1*1000+500, top 10% người nghèo nhất có tổng thu nhập bằng bao nhiêu"
      ]
    },
    {
      "cell_type": "code",
      "execution_count": null,
      "metadata": {
        "colab": {
          "base_uri": "https://localhost:8080/"
        },
        "id": "SzPCyjvum80v",
        "outputId": "18a59cc4-49a5-4b99-90fe-e6296bebe828"
      },
      "outputs": [
        {
          "output_type": "execute_result",
          "data": {
            "text/plain": [
              "   sum(sum_dIncome1)\n",
              "0          122914000"
            ],
            "text/html": [
              "\n",
              "  <div id=\"df-c0d167b9-7e80-49c8-9377-a047fd72ab7c\">\n",
              "    <div class=\"colab-df-container\">\n",
              "      <div>\n",
              "<style scoped>\n",
              "    .dataframe tbody tr th:only-of-type {\n",
              "        vertical-align: middle;\n",
              "    }\n",
              "\n",
              "    .dataframe tbody tr th {\n",
              "        vertical-align: top;\n",
              "    }\n",
              "\n",
              "    .dataframe thead th {\n",
              "        text-align: right;\n",
              "    }\n",
              "</style>\n",
              "<table border=\"1\" class=\"dataframe\">\n",
              "  <thead>\n",
              "    <tr style=\"text-align: right;\">\n",
              "      <th></th>\n",
              "      <th>sum(sum_dIncome1)</th>\n",
              "    </tr>\n",
              "  </thead>\n",
              "  <tbody>\n",
              "    <tr>\n",
              "      <th>0</th>\n",
              "      <td>122914000</td>\n",
              "    </tr>\n",
              "  </tbody>\n",
              "</table>\n",
              "</div>\n",
              "      <button class=\"colab-df-convert\" onclick=\"convertToInteractive('df-c0d167b9-7e80-49c8-9377-a047fd72ab7c')\"\n",
              "              title=\"Convert this dataframe to an interactive table.\"\n",
              "              style=\"display:none;\">\n",
              "        \n",
              "  <svg xmlns=\"http://www.w3.org/2000/svg\" height=\"24px\"viewBox=\"0 0 24 24\"\n",
              "       width=\"24px\">\n",
              "    <path d=\"M0 0h24v24H0V0z\" fill=\"none\"/>\n",
              "    <path d=\"M18.56 5.44l.94 2.06.94-2.06 2.06-.94-2.06-.94-.94-2.06-.94 2.06-2.06.94zm-11 1L8.5 8.5l.94-2.06 2.06-.94-2.06-.94L8.5 2.5l-.94 2.06-2.06.94zm10 10l.94 2.06.94-2.06 2.06-.94-2.06-.94-.94-2.06-.94 2.06-2.06.94z\"/><path d=\"M17.41 7.96l-1.37-1.37c-.4-.4-.92-.59-1.43-.59-.52 0-1.04.2-1.43.59L10.3 9.45l-7.72 7.72c-.78.78-.78 2.05 0 2.83L4 21.41c.39.39.9.59 1.41.59.51 0 1.02-.2 1.41-.59l7.78-7.78 2.81-2.81c.8-.78.8-2.07 0-2.86zM5.41 20L4 18.59l7.72-7.72 1.47 1.35L5.41 20z\"/>\n",
              "  </svg>\n",
              "      </button>\n",
              "      \n",
              "  <style>\n",
              "    .colab-df-container {\n",
              "      display:flex;\n",
              "      flex-wrap:wrap;\n",
              "      gap: 12px;\n",
              "    }\n",
              "\n",
              "    .colab-df-convert {\n",
              "      background-color: #E8F0FE;\n",
              "      border: none;\n",
              "      border-radius: 50%;\n",
              "      cursor: pointer;\n",
              "      display: none;\n",
              "      fill: #1967D2;\n",
              "      height: 32px;\n",
              "      padding: 0 0 0 0;\n",
              "      width: 32px;\n",
              "    }\n",
              "\n",
              "    .colab-df-convert:hover {\n",
              "      background-color: #E2EBFA;\n",
              "      box-shadow: 0px 1px 2px rgba(60, 64, 67, 0.3), 0px 1px 3px 1px rgba(60, 64, 67, 0.15);\n",
              "      fill: #174EA6;\n",
              "    }\n",
              "\n",
              "    [theme=dark] .colab-df-convert {\n",
              "      background-color: #3B4455;\n",
              "      fill: #D2E3FC;\n",
              "    }\n",
              "\n",
              "    [theme=dark] .colab-df-convert:hover {\n",
              "      background-color: #434B5C;\n",
              "      box-shadow: 0px 1px 3px 1px rgba(0, 0, 0, 0.15);\n",
              "      filter: drop-shadow(0px 1px 2px rgba(0, 0, 0, 0.3));\n",
              "      fill: #FFFFFF;\n",
              "    }\n",
              "  </style>\n",
              "\n",
              "      <script>\n",
              "        const buttonEl =\n",
              "          document.querySelector('#df-c0d167b9-7e80-49c8-9377-a047fd72ab7c button.colab-df-convert');\n",
              "        buttonEl.style.display =\n",
              "          google.colab.kernel.accessAllowed ? 'block' : 'none';\n",
              "\n",
              "        async function convertToInteractive(key) {\n",
              "          const element = document.querySelector('#df-c0d167b9-7e80-49c8-9377-a047fd72ab7c');\n",
              "          const dataTable =\n",
              "            await google.colab.kernel.invokeFunction('convertToInteractive',\n",
              "                                                     [key], {});\n",
              "          if (!dataTable) return;\n",
              "\n",
              "          const docLinkHtml = 'Like what you see? Visit the ' +\n",
              "            '<a target=\"_blank\" href=https://colab.research.google.com/notebooks/data_table.ipynb>data table notebook</a>'\n",
              "            + ' to learn more about interactive tables.';\n",
              "          element.innerHTML = '';\n",
              "          dataTable['output_type'] = 'display_data';\n",
              "          await google.colab.output.renderOutput(dataTable, element);\n",
              "          const docLink = document.createElement('div');\n",
              "          docLink.innerHTML = docLinkHtml;\n",
              "          element.appendChild(docLink);\n",
              "        }\n",
              "      </script>\n",
              "    </div>\n",
              "  </div>\n",
              "  "
            ]
          },
          "metadata": {},
          "execution_count": 15
        }
      ],
      "source": [
        "sql_text = (\n",
        "# YOUR CODE START \n",
        "'''\n",
        "select sum(sum_dIncome1) from(\n",
        "select caseid, dIncome1*1000+500 as sum_dIncome1, \n",
        "count(*) over (order by (dIncome1*1000+500, caseid)), \n",
        "count(*) over(), (count(*) over (order by (dIncome1*1000+500, caseid)) <= (count(*) over())*0.1) ratio from tmp_table)\n",
        "where ratio = True\n",
        "'''\n",
        "# / END YOUR CODE\n",
        ")#where count(*) over(caseid) <= count(*)*0.1 \n",
        "#, count(*) over (order by sum_dIncome1, caseid) /count(*) over () as acc_count\n",
        "spark.sql(sql_text).toPandas()"
      ]
    },
    {
      "cell_type": "code",
      "execution_count": null,
      "metadata": {
        "colab": {
          "base_uri": "https://localhost:8080/"
        },
        "id": "fbMpOHIBJq-5",
        "outputId": "66b009b3-4111-4868-8f1f-2d3d2077fa2d"
      },
      "outputs": [
        {
          "output_type": "execute_result",
          "data": {
            "text/plain": [
              "   sum(sum_dIncome1)\n",
              "0          618701500"
            ],
            "text/html": [
              "\n",
              "  <div id=\"df-ec563e18-318c-4fda-9ba2-281840de502b\">\n",
              "    <div class=\"colab-df-container\">\n",
              "      <div>\n",
              "<style scoped>\n",
              "    .dataframe tbody tr th:only-of-type {\n",
              "        vertical-align: middle;\n",
              "    }\n",
              "\n",
              "    .dataframe tbody tr th {\n",
              "        vertical-align: top;\n",
              "    }\n",
              "\n",
              "    .dataframe thead th {\n",
              "        text-align: right;\n",
              "    }\n",
              "</style>\n",
              "<table border=\"1\" class=\"dataframe\">\n",
              "  <thead>\n",
              "    <tr style=\"text-align: right;\">\n",
              "      <th></th>\n",
              "      <th>sum(sum_dIncome1)</th>\n",
              "    </tr>\n",
              "  </thead>\n",
              "  <tbody>\n",
              "    <tr>\n",
              "      <th>0</th>\n",
              "      <td>618701500</td>\n",
              "    </tr>\n",
              "  </tbody>\n",
              "</table>\n",
              "</div>\n",
              "      <button class=\"colab-df-convert\" onclick=\"convertToInteractive('df-ec563e18-318c-4fda-9ba2-281840de502b')\"\n",
              "              title=\"Convert this dataframe to an interactive table.\"\n",
              "              style=\"display:none;\">\n",
              "        \n",
              "  <svg xmlns=\"http://www.w3.org/2000/svg\" height=\"24px\"viewBox=\"0 0 24 24\"\n",
              "       width=\"24px\">\n",
              "    <path d=\"M0 0h24v24H0V0z\" fill=\"none\"/>\n",
              "    <path d=\"M18.56 5.44l.94 2.06.94-2.06 2.06-.94-2.06-.94-.94-2.06-.94 2.06-2.06.94zm-11 1L8.5 8.5l.94-2.06 2.06-.94-2.06-.94L8.5 2.5l-.94 2.06-2.06.94zm10 10l.94 2.06.94-2.06 2.06-.94-2.06-.94-.94-2.06-.94 2.06-2.06.94z\"/><path d=\"M17.41 7.96l-1.37-1.37c-.4-.4-.92-.59-1.43-.59-.52 0-1.04.2-1.43.59L10.3 9.45l-7.72 7.72c-.78.78-.78 2.05 0 2.83L4 21.41c.39.39.9.59 1.41.59.51 0 1.02-.2 1.41-.59l7.78-7.78 2.81-2.81c.8-.78.8-2.07 0-2.86zM5.41 20L4 18.59l7.72-7.72 1.47 1.35L5.41 20z\"/>\n",
              "  </svg>\n",
              "      </button>\n",
              "      \n",
              "  <style>\n",
              "    .colab-df-container {\n",
              "      display:flex;\n",
              "      flex-wrap:wrap;\n",
              "      gap: 12px;\n",
              "    }\n",
              "\n",
              "    .colab-df-convert {\n",
              "      background-color: #E8F0FE;\n",
              "      border: none;\n",
              "      border-radius: 50%;\n",
              "      cursor: pointer;\n",
              "      display: none;\n",
              "      fill: #1967D2;\n",
              "      height: 32px;\n",
              "      padding: 0 0 0 0;\n",
              "      width: 32px;\n",
              "    }\n",
              "\n",
              "    .colab-df-convert:hover {\n",
              "      background-color: #E2EBFA;\n",
              "      box-shadow: 0px 1px 2px rgba(60, 64, 67, 0.3), 0px 1px 3px 1px rgba(60, 64, 67, 0.15);\n",
              "      fill: #174EA6;\n",
              "    }\n",
              "\n",
              "    [theme=dark] .colab-df-convert {\n",
              "      background-color: #3B4455;\n",
              "      fill: #D2E3FC;\n",
              "    }\n",
              "\n",
              "    [theme=dark] .colab-df-convert:hover {\n",
              "      background-color: #434B5C;\n",
              "      box-shadow: 0px 1px 3px 1px rgba(0, 0, 0, 0.15);\n",
              "      filter: drop-shadow(0px 1px 2px rgba(0, 0, 0, 0.3));\n",
              "      fill: #FFFFFF;\n",
              "    }\n",
              "  </style>\n",
              "\n",
              "      <script>\n",
              "        const buttonEl =\n",
              "          document.querySelector('#df-ec563e18-318c-4fda-9ba2-281840de502b button.colab-df-convert');\n",
              "        buttonEl.style.display =\n",
              "          google.colab.kernel.accessAllowed ? 'block' : 'none';\n",
              "\n",
              "        async function convertToInteractive(key) {\n",
              "          const element = document.querySelector('#df-ec563e18-318c-4fda-9ba2-281840de502b');\n",
              "          const dataTable =\n",
              "            await google.colab.kernel.invokeFunction('convertToInteractive',\n",
              "                                                     [key], {});\n",
              "          if (!dataTable) return;\n",
              "\n",
              "          const docLinkHtml = 'Like what you see? Visit the ' +\n",
              "            '<a target=\"_blank\" href=https://colab.research.google.com/notebooks/data_table.ipynb>data table notebook</a>'\n",
              "            + ' to learn more about interactive tables.';\n",
              "          element.innerHTML = '';\n",
              "          dataTable['output_type'] = 'display_data';\n",
              "          await google.colab.output.renderOutput(dataTable, element);\n",
              "          const docLink = document.createElement('div');\n",
              "          docLink.innerHTML = docLinkHtml;\n",
              "          element.appendChild(docLink);\n",
              "        }\n",
              "      </script>\n",
              "    </div>\n",
              "  </div>\n",
              "  "
            ]
          },
          "metadata": {},
          "execution_count": 16
        }
      ],
      "source": [
        "sql_text = (\n",
        "# YOUR CODE START \n",
        "'''\n",
        "select sum(sum_dIncome1) from\n",
        "(select caseid, dIncome1*1000+500 as sum_dIncome1 from tmp_table) where sum_dIncome1=500\n",
        "'''\n",
        "# / END YOUR CODE\n",
        ")#where count(*) over(caseid) <= count(*)*0.1 \n",
        "#, count(*) over (order by sum_dIncome1, caseid) /count(*) over () as acc_count\n",
        "spark.sql(sql_text).toPandas()"
      ]
    },
    {
      "cell_type": "markdown",
      "metadata": {
        "id": "elrqUFFJilgA"
      },
      "source": [
        "# Pyspark data manipulation\n",
        "Sử dụng pyspark và dataframe df thực hiện các ý sau"
      ]
    },
    {
      "cell_type": "markdown",
      "metadata": {
        "id": "eEKQXXKc2YbW"
      },
      "source": [
        "[1đ, 1p] Xác định tỷ lệ gốc Việt trong trong dân số Mỹ (trường iVietnam==1)"
      ]
    },
    {
      "cell_type": "code",
      "execution_count": null,
      "metadata": {
        "colab": {
          "base_uri": "https://localhost:8080/"
        },
        "id": "q8s7m1khnCn2",
        "outputId": "3cfedc43-905e-4831-e8b9-b20c5c636d60"
      },
      "outputs": [
        {
          "output_type": "execute_result",
          "data": {
            "text/plain": [
              "0.034023313000730186"
            ]
          },
          "metadata": {},
          "execution_count": 17
        }
      ],
      "source": [
        "# YOUR CODE START \n",
        "r_vn = df.filter(F.col('iVietnam')==1).count()/df.count()\n",
        "r_vn\n",
        "# / END YOUR CODE"
      ]
    },
    {
      "cell_type": "markdown",
      "metadata": {
        "id": "py-vCA0lk1JA"
      },
      "source": [
        "[1đ, 1p] Kiểm tra số lượng null của các cột [caseid, dAge]"
      ]
    },
    {
      "cell_type": "code",
      "execution_count": null,
      "metadata": {
        "colab": {
          "base_uri": "https://localhost:8080/"
        },
        "id": "ps8U5rj6nHb2",
        "outputId": "0cdf261a-357f-4697-805d-f2ef4cda5170"
      },
      "outputs": [
        {
          "output_type": "stream",
          "name": "stdout",
          "text": [
            "+------+----+\n",
            "|caseid|dAge|\n",
            "+------+----+\n",
            "|     0|   0|\n",
            "+------+----+\n",
            "\n"
          ]
        }
      ],
      "source": [
        "# YOUR CODE START \n",
        "df.select([F.count(F.when(F.col(i).isNull(), i)).alias(i) for i in [\"caseid\", \"dAge\"]]).show()\n",
        "\n",
        "# / END YOUR CODE"
      ]
    },
    {
      "cell_type": "code",
      "execution_count": null,
      "metadata": {
        "colab": {
          "base_uri": "https://localhost:8080/"
        },
        "id": "tYKqISZIK5kT",
        "outputId": "788630e3-88ec-4556-aa99-f48fec47dae2"
      },
      "outputs": [
        {
          "output_type": "stream",
          "name": "stdout",
          "text": [
            "+------+----+---------+---------+------+--------+------+-------+--------+--------+--------+------+-------+---------+-------+------+-------+--------+--------+--------+--------+--------+--------+--------+--------+---------+-------+------+--------+--------+---------+------+---------+---------+---------+------+---------+---------+----+--------+------+---------+---------+-------+-------+---------+-------+-------+---------+---------+-----+---------+--------+---------+-------+-------+----+--------+--------+---------+---------+--------+-------+-------+--------+-----+--------+--------+--------+\n",
            "|caseid|dAge|dAncstry1|dAncstry2|iAvail|iCitizen|iClass|dDepart|iDisabl1|iDisabl2|iEnglish|iFeb55|iFertil|dHispanic|dHour89|dHours|iImmigr|dIncome1|dIncome2|dIncome3|dIncome4|dIncome5|dIncome6|dIncome7|dIncome8|dIndustry|iKorean|iLang1|iLooking|iMarital|iMay75880|iMeans|iMilitary|iMobility|iMobillim|dOccup|iOthrserv|iPerscare|dPOB|dPoverty|dPwgt1|iRagechld|dRearning|iRelat1|iRelat2|iRemplpar|iRiders|iRlabor|iRownchld|dRpincome|iRPOB|iRrelchld|iRspouse|iRvetserv|iSchool|iSept80|iSex|iSubfam1|iSubfam2|iTmpabsnt|dTravtime|iVietnam|dWeek89|iWork89|iWorklwk|iWWII|iYearsch|iYearwrk|dYrsserv|\n",
            "+------+----+---------+---------+------+--------+------+-------+--------+--------+--------+------+-------+---------+-------+------+-------+--------+--------+--------+--------+--------+--------+--------+--------+---------+-------+------+--------+--------+---------+------+---------+---------+---------+------+---------+---------+----+--------+------+---------+---------+-------+-------+---------+-------+-------+---------+---------+-----+---------+--------+---------+-------+-------+----+--------+--------+---------+---------+--------+-------+-------+--------+-----+--------+--------+--------+\n",
            "|     0|   0|        0|        0|     0|       0|     0|      0|       0|       0|       0|     0|      0|        0|      0|     0|      0|       0|       0|       0|       0|       0|       0|       0|       0|        0|      0|     0|       0|       0|        0|     0|        0|        0|        0|     0|        0|        0|   0|       0|     0|        0|        0|      0|      0|        0|      0|      0|        0|        0|    0|        0|       0|        0|      0|      0|   0|       0|       0|        0|        0|       0|      0|      0|       0|    0|       0|       0|       0|\n",
            "+------+----+---------+---------+------+--------+------+-------+--------+--------+--------+------+-------+---------+-------+------+-------+--------+--------+--------+--------+--------+--------+--------+--------+---------+-------+------+--------+--------+---------+------+---------+---------+---------+------+---------+---------+----+--------+------+---------+---------+-------+-------+---------+-------+-------+---------+---------+-----+---------+--------+---------+-------+-------+----+--------+--------+---------+---------+--------+-------+-------+--------+-----+--------+--------+--------+\n",
            "\n"
          ]
        }
      ],
      "source": [
        "df.select([F.count(F.when(F.isnan(c) | F.col(c).isNull(), c)).alias(c) for c in df.columns]\n",
        "   ).show()"
      ]
    },
    {
      "cell_type": "markdown",
      "metadata": {
        "id": "OL7mWWz32YbX"
      },
      "source": [
        "[2đ, 5p] Lựa chọn biểu đồ phù hợp so sánh distribution theo độ tuổi của 2 nhóm isVietnam 1 và 0. <br>\n",
        "Nêu nhận xét"
      ]
    },
    {
      "cell_type": "code",
      "execution_count": null,
      "metadata": {
        "colab": {
          "base_uri": "https://localhost:8080/"
        },
        "id": "ub04OjNsMiwP",
        "outputId": "5ed6f8c5-8c67-4b94-ad70-9184dd57bb55"
      },
      "outputs": [
        {
          "output_type": "execute_result",
          "data": {
            "text/plain": [
              "{'dAge': [4, 5, 6, 7], 'count': [19674, 52503, 9790, 1672]}"
            ]
          },
          "metadata": {},
          "execution_count": 20
        }
      ],
      "source": [
        "df.filter(F.col('iVietnam')==1).select('dAge').groupby('dAge').count().orderBy('dAge').toPandas().to_dict('list')"
      ]
    },
    {
      "cell_type": "code",
      "execution_count": null,
      "metadata": {
        "colab": {
          "base_uri": "https://localhost:8080/"
        },
        "id": "vHH2yHnbOL6l",
        "outputId": "a9f1a023-0abb-4fce-bfdb-466d528a0b3a"
      },
      "outputs": [
        {
          "output_type": "execute_result",
          "data": {
            "text/plain": [
              "{'dAge': [0, 1, 2, 3, 4, 5, 6, 7],\n",
              " 'count': [32169, 441248, 242511, 370955, 384861, 260322, 321468, 321112]}"
            ]
          },
          "metadata": {},
          "execution_count": 21
        }
      ],
      "source": [
        "df.filter(F.col('iVietnam')==0).select('dAge').groupby('dAge').count().orderBy('dAge').toPandas().to_dict('list')"
      ]
    },
    {
      "cell_type": "code",
      "execution_count": null,
      "metadata": {
        "colab": {
          "base_uri": "https://localhost:8080/",
          "height": 482
        },
        "id": "bahK84smnKCu",
        "outputId": "cf7621be-af3c-459a-9b0d-0303a3873b35"
      },
      "outputs": [
        {
          "output_type": "stream",
          "name": "stdout",
          "text": [
            "Nhận xét:\n",
            "\n",
            "\n"
          ]
        },
        {
          "output_type": "display_data",
          "data": {
            "text/plain": [
              "<Figure size 640x480 with 1 Axes>"
            ],
            "image/png": "[encoded data removed]"
          },
          "metadata": {}
        }
      ],
      "source": [
        "# YOUR CODE START \n",
        "isVietnam = df.filter(F.col('iVietnam')==1).select('dAge').groupby('dAge').count().orderBy('dAge').toPandas().to_dict('list')\n",
        "notVietnam  = df.filter(F.col('iVietnam')==0).select('dAge').groupby('dAge').count().orderBy('dAge').toPandas().to_dict('list')\n",
        "r = np.arange(len(notVietnam['dAge']))\n",
        "width = 0.25\n",
        "plt.bar(r+width, [0 for i in set(notVietnam['dAge']) - set(isVietnam['dAge'])]+isVietnam['count'], 0.4)\n",
        "plt.bar(r, [0 for i in set(isVietnam['dAge']) - set(notVietnam['dAge'])]+notVietnam['count'], 0.4)\n",
        "print('''Nhận xét:\n",
        "\n",
        "''')\n",
        "# / END YOUR CODE"
      ]
    },
    {
      "cell_type": "markdown",
      "metadata": {
        "id": "EDYcG1nm2YbY"
      },
      "source": [
        "[2đ, 5p] Hãy tạo thêm feature rVN được xác định bằng logic sau:\n",
        "* từ df, chia nhóm độ tuổi thành các khoảng phân cắt bởi [ 1, 5, 7 ], đặt cột nhóm độ tuổi này là dAge2 => lưu thành df2\n",
        "* Với từng nhóm, xác định rVN là tỷ lệ số người có iVietnam = 1 trên tổng người dân của từng nhóm => lưu thành df3"
      ]
    },
    {
      "cell_type": "code",
      "execution_count": null,
      "metadata": {
        "id": "WpYMo3lZ2YbY"
      },
      "outputs": [],
      "source": [
        "# YOUR CODE START \n",
        "df2 = df.withColumn(\"dAge2\", F.when(F.col(\"dAge\")<1, F.lit(0.0))\n",
        "                     .when((F.col(\"dAge\")>=1)&(F.col(\"dAge\")<5), F.lit(1.0))\\\n",
        "                     .when((F.col(\"dAge\")>=5)&(F.col(\"dAge\")<7), F.lit(2.0))\\\n",
        "                     .otherwise(3.0))\n",
        "\n",
        "\n",
        "# / END YOUR CODE"
      ]
    },
    {
      "cell_type": "code",
      "source": [],
      "metadata": {
        "id": "yEGshUrFGsK8"
      },
      "execution_count": null,
      "outputs": []
    },
    {
      "cell_type": "code",
      "source": [
        "from pyspark.sql.window import Window\n",
        "\n",
        "windowSpec  = Window.partitionBy(\"dAge2\")\n",
        "\n",
        "df3 = df2.withColumn(\"rVN\", F.when(F.col(\"iVietnam\")==1, F.lit(F.count(F.when(F.col(\"iVietnam\")==1, True)).over(windowSpec))).otherwise(0) \\\n",
        "              / F.count(\"caseid\").over(windowSpec)\\\n",
        "               )\n",
        "\n"
      ],
      "metadata": {
        "id": "5ayrQSxjFmDx"
      },
      "execution_count": null,
      "outputs": []
    },
    {
      "cell_type": "code",
      "execution_count": null,
      "metadata": {
        "id": "q-jhIaaxnZxf",
        "colab": {
          "base_uri": "https://localhost:8080/"
        },
        "outputId": "fc3523aa-f63e-43d0-d9d0-4e71e817c222"
      },
      "outputs": [
        {
          "output_type": "stream",
          "name": "stdout",
          "text": [
            "PASS\n"
          ]
        }
      ],
      "source": [
        "TEST.testcase123_1(df2)"
      ]
    },
    {
      "cell_type": "code",
      "execution_count": null,
      "metadata": {
        "id": "9kBezVdfnafO",
        "colab": {
          "base_uri": "https://localhost:8080/"
        },
        "outputId": "a48335c6-5874-4c52-9f9d-5bec19328e6d"
      },
      "outputs": [
        {
          "output_type": "stream",
          "name": "stdout",
          "text": [
            "PASS\n"
          ]
        }
      ],
      "source": [
        "TEST.testcase123_2(df3)"
      ]
    },
    {
      "cell_type": "markdown",
      "metadata": {
        "id": "KNDn7_TJisU9"
      },
      "source": [
        "[1đ, 5p] Từ dataframe df, sử dụng python udf để tạo feature logarit cơ số 10 của biến iRPOB, lưu thành feature iLogRPOB"
      ]
    },
    {
      "cell_type": "code",
      "execution_count": null,
      "metadata": {
        "id": "rXnlslv2jH0V"
      },
      "outputs": [],
      "source": [
        "# YOUR CODE START \n",
        "import pyspark.sql.types as T\n",
        "import scipy\n",
        "udf = F.udf(lambda z: str(scipy.log10(z)), T.StringType())\n",
        "\n",
        "df4 = df.withColumn('iLogRPOB', udf(F.col(\"iRPOB\")))\n",
        "# / END YOUR CODE"
      ]
    },
    {
      "cell_type": "code",
      "source": [
        "df4.show(5)"
      ],
      "metadata": {
        "colab": {
          "base_uri": "https://localhost:8080/"
        },
        "id": "lLPTdiRYUTIP",
        "outputId": "dba91a8d-b307-4d53-9042-7e23a22417ca"
      },
      "execution_count": null,
      "outputs": [
        {
          "output_type": "stream",
          "name": "stdout",
          "text": [
            "+------+----+---------+---------+------+--------+------+-------+--------+--------+--------+------+-------+---------+-------+------+-------+--------+--------+--------+--------+--------+--------+--------+--------+---------+-------+------+--------+--------+---------+------+---------+---------+---------+------+---------+---------+----+--------+------+---------+---------+-------+-------+---------+-------+-------+---------+---------+-----+---------+--------+---------+-------+-------+----+--------+--------+---------+---------+--------+-------+-------+--------+-----+--------+--------+--------+------------------+\n",
            "|caseid|dAge|dAncstry1|dAncstry2|iAvail|iCitizen|iClass|dDepart|iDisabl1|iDisabl2|iEnglish|iFeb55|iFertil|dHispanic|dHour89|dHours|iImmigr|dIncome1|dIncome2|dIncome3|dIncome4|dIncome5|dIncome6|dIncome7|dIncome8|dIndustry|iKorean|iLang1|iLooking|iMarital|iMay75880|iMeans|iMilitary|iMobility|iMobillim|dOccup|iOthrserv|iPerscare|dPOB|dPoverty|dPwgt1|iRagechld|dRearning|iRelat1|iRelat2|iRemplpar|iRiders|iRlabor|iRownchld|dRpincome|iRPOB|iRrelchld|iRspouse|iRvetserv|iSchool|iSept80|iSex|iSubfam1|iSubfam2|iTmpabsnt|dTravtime|iVietnam|dWeek89|iWork89|iWorklwk|iWWII|iYearsch|iYearwrk|dYrsserv|          iLogRPOB|\n",
            "+------+----+---------+---------+------+--------+------+-------+--------+--------+--------+------+-------+---------+-------+------+-------+--------+--------+--------+--------+--------+--------+--------+--------+---------+-------+------+--------+--------+---------+------+---------+---------+---------+------+---------+---------+----+--------+------+---------+---------+-------+-------+---------+-------+-------+---------+---------+-----+---------+--------+---------+-------+-------+----+--------+--------+---------+---------+--------+-------+-------+--------+-----+--------+--------+--------+------------------+\n",
            "| 10000|   5|        0|        1|     0|       0|     5|      3|       2|       2|       1|     0|      1|        0|      4|     3|      0|       2|       0|       0|       1|       0|       0|       0|       0|       10|      0|     1|       0|       1|        0|     1|        4|        2|        2|     3|        0|        2|   0|       2|     1|        4|        3|      0|      0|        0|      3|      1|        0|        3|   22|        0|       3|        0|      1|      0|   1|       0|       0|        0|        5|       0|      2|      1|       1|    0|      11|       1|       0|1.3424226808222062|\n",
            "| 10001|   6|        1|        1|     0|       0|     7|      5|       2|       2|       0|     0|      3|        0|      1|     1|      0|       1|       0|       0|       0|       0|       1|       0|       0|        4|      0|     2|       0|       0|        0|     1|        4|        1|        2|     2|        0|        2|   0|       2|     2|        4|        2|      1|      0|        0|      1|      1|        0|        2|   10|        0|       1|        0|      1|      0|   1|       0|       0|        0|        1|       0|      2|      1|       1|    0|       5|       1|       0|               1.0|\n",
            "| 10002|   3|        1|        2|     0|       0|     7|      4|       2|       2|       0|     0|      1|        0|      4|     4|      0|       1|       0|       1|       0|       0|       0|       0|       0|        1|      0|     2|       0|       4|        0|    10|        4|        1|        2|     4|        0|        2|   0|       2|     1|        4|        2|      2|      0|        0|      0|      1|        0|        2|   10|        0|       6|        0|      1|      0|   1|       0|       0|        0|        2|       0|      2|      1|       1|    0|      10|       1|       0|               1.0|\n",
            "| 10003|   4|        1|        2|     0|       0|     1|      3|       2|       2|       0|     0|      3|        0|      3|     3|      0|       1|       0|       0|       0|       0|       0|       0|       1|        4|      0|     2|       0|       2|        0|     1|        4|        1|        2|     2|        0|        2|   0|       2|     1|        2|        2|      0|      0|        0|      1|      1|        0|        2|   10|        0|       4|        0|      1|      0|   1|       0|       0|        0|        1|       0|      1|      1|       1|    0|      10|       1|       0|               1.0|\n",
            "| 10004|   7|        1|        1|     0|       0|     0|      0|       2|       2|       0|     0|      3|        0|      0|     0|      0|       0|       0|       0|       0|       1|       0|       0|       0|        0|      0|     2|       2|       0|        0|     0|        4|        1|        2|     0|        0|        2|   0|       2|     1|        4|        0|      1|      0|        0|      0|      6|        0|        2|   22|        0|       1|        0|      1|      0|   1|       0|       0|        3|        0|       0|      0|      2|       2|    0|       5|       6|       0|1.3424226808222062|\n",
            "+------+----+---------+---------+------+--------+------+-------+--------+--------+--------+------+-------+---------+-------+------+-------+--------+--------+--------+--------+--------+--------+--------+--------+---------+-------+------+--------+--------+---------+------+---------+---------+---------+------+---------+---------+----+--------+------+---------+---------+-------+-------+---------+-------+-------+---------+---------+-----+---------+--------+---------+-------+-------+----+--------+--------+---------+---------+--------+-------+-------+--------+-----+--------+--------+--------+------------------+\n",
            "only showing top 5 rows\n",
            "\n"
          ]
        }
      ]
    },
    {
      "cell_type": "code",
      "execution_count": null,
      "metadata": {
        "id": "qM-Gm9-gndIm",
        "colab": {
          "base_uri": "https://localhost:8080/"
        },
        "outputId": "6a6fe5c2-5496-4330-ea2c-114a049e7e87"
      },
      "outputs": [
        {
          "output_type": "stream",
          "name": "stdout",
          "text": [
            "PASS\n"
          ]
        }
      ],
      "source": [
        "TEST.testcase124(df4)"
      ]
    },
    {
      "cell_type": "markdown",
      "metadata": {
        "id": "b2h5f6HTVtoa"
      },
      "source": [
        "# 2.ML AND DEEP LEARNING"
      ]
    },
    {
      "cell_type": "code",
      "execution_count": null,
      "metadata": {
        "id": "aThj31oHr1aS"
      },
      "outputs": [],
      "source": [
        "pddf =next( pd.read_csv(file_url, chunksize=10000) )"
      ]
    },
    {
      "cell_type": "markdown",
      "metadata": {
        "id": "SlImfOuKgKfU"
      },
      "source": [
        "[3đ, 6p] Xây dựng bộ dữ liệu và lưu vào data_tofit: <br>\n",
        "- Giữ lại các trường dAge, dDepart và các trường dạng số (bắt đầu bằng chữ i) => lưu vào biến columns<br>\n",
        "- Với các trường dim (bắt đầu bằng chữ d) thì thực hiện one-hot, các trường số thực hiện normalised\n"
      ]
    },
    {
      "cell_type": "code",
      "execution_count": null,
      "metadata": {
        "id": "pMqW-M7Yg7tC",
        "colab": {
          "base_uri": "https://localhost:8080/"
        },
        "outputId": "3596edd3-a51e-453b-fe7d-3a47f5cd175f"
      },
      "outputs": [
        {
          "output_type": "stream",
          "name": "stderr",
          "text": [
            "/usr/local/lib/python3.9/dist-packages/sklearn/preprocessing/_encoders.py:868: FutureWarning: `sparse` was renamed to `sparse_output` in version 1.2 and will be removed in 1.4. `sparse_output` is ignored unless you leave `sparse` to its default value.\n",
            "  warnings.warn(\n"
          ]
        },
        {
          "output_type": "execute_result",
          "data": {
            "text/plain": [
              "{'caseid', 'dIncome1'}"
            ]
          },
          "metadata": {},
          "execution_count": 34
        }
      ],
      "source": [
        "# YOUR CODE START\n",
        "from sklearn.preprocessing import OneHotEncoder, normalize\n",
        "\n",
        "columns = [\"dAge\", \"dDepart\"]+[i for i in pddf.columns if i[0]=='i']\n",
        "dim_columns = [i for i in pddf.columns if (i[0]=='d' and i not in columns and i!=\"dIncome1\")]\n",
        "\n",
        "enc = OneHotEncoder(sparse=False, handle_unknown='ignore')\n",
        "pddf_cat = enc.fit_transform(pddf[dim_columns])\n",
        "\n",
        "pddf_norm_num = normalize(pddf[columns])\n",
        "\n",
        "set(pddf.columns)-set(columns)-set(dim_columns)\n",
        "# / END YOUR "
      ]
    },
    {
      "cell_type": "markdown",
      "metadata": {
        "id": "6auj66xOnjTh"
      },
      "source": [
        "[1đ, 1.5p] Chia bộ dữ liệu thành X_train, X_val, y_train, y_val với nhãn dự đoán là dIncome1 <br>\n",
        "Tỷ lệ train:val là 75:25"
      ]
    },
    {
      "cell_type": "code",
      "source": [
        "pddf_norm_num.shape"
      ],
      "metadata": {
        "colab": {
          "base_uri": "https://localhost:8080/"
        },
        "id": "CTcV4bppbddV",
        "outputId": "918791d0-4372-461f-8d02-b26e5886ebef"
      },
      "execution_count": null,
      "outputs": [
        {
          "output_type": "execute_result",
          "data": {
            "text/plain": [
              "(10000, 45)"
            ]
          },
          "metadata": {},
          "execution_count": 35
        }
      ]
    },
    {
      "cell_type": "code",
      "source": [
        "y_enc =  OneHotEncoder(sparse=False, handle_unknown='ignore')\n",
        "y = y_enc.fit_transform(pddf[[\"dIncome1\"]])\n",
        "from sklearn.model_selection import train_test_split\n",
        "\n",
        "X = np.concatenate([pddf_cat, pddf_norm_num], axis=1)\n",
        "X.shape"
      ],
      "metadata": {
        "colab": {
          "base_uri": "https://localhost:8080/"
        },
        "id": "sxyuHobZX2Fa",
        "outputId": "b5260664-d5a3-4cf4-a824-6ea828809645"
      },
      "execution_count": null,
      "outputs": [
        {
          "output_type": "stream",
          "name": "stderr",
          "text": [
            "/usr/local/lib/python3.9/dist-packages/sklearn/preprocessing/_encoders.py:868: FutureWarning: `sparse` was renamed to `sparse_output` in version 1.2 and will be removed in 1.4. `sparse_output` is ignored unless you leave `sparse` to its default value.\n",
            "  warnings.warn(\n"
          ]
        },
        {
          "output_type": "execute_result",
          "data": {
            "text/plain": [
              "(10000, 164)"
            ]
          },
          "metadata": {},
          "execution_count": 44
        }
      ]
    },
    {
      "cell_type": "code",
      "source": [
        "y.shape"
      ],
      "metadata": {
        "colab": {
          "base_uri": "https://localhost:8080/"
        },
        "id": "Kx3u9C59cle3",
        "outputId": "1a93b884-7938-421e-87b2-c9626c3ca611"
      },
      "execution_count": null,
      "outputs": [
        {
          "output_type": "execute_result",
          "data": {
            "text/plain": [
              "(10000, 5)"
            ]
          },
          "metadata": {},
          "execution_count": 46
        }
      ]
    },
    {
      "cell_type": "code",
      "execution_count": null,
      "metadata": {
        "id": "8lmnrY6onix-"
      },
      "outputs": [],
      "source": [
        "# YOUR CODE START\n",
        "X_train, X_val, y_train, y_val = train_test_split(X, y)\n",
        "# / END YOUR CODE"
      ]
    },
    {
      "cell_type": "markdown",
      "metadata": {
        "id": "T-GyXWX_m9e2"
      },
      "source": [
        "[1đ, 1.5p] Xây dựng model RF dự đoán dIncome1 dựa trên bộ dữ liệu data_tofit"
      ]
    },
    {
      "cell_type": "code",
      "execution_count": null,
      "metadata": {
        "id": "0tGwPjyanfu_",
        "colab": {
          "base_uri": "https://localhost:8080/",
          "height": 74
        },
        "outputId": "c842ab8a-c5fc-4355-a9ab-f7e58c5f4fda"
      },
      "outputs": [
        {
          "output_type": "execute_result",
          "data": {
            "text/plain": [
              "RandomForestClassifier(max_depth=10, random_state=0)"
            ],
            "text/html": [
              "<style>#sk-container-id-2 {color: black;background-color: white;}#sk-container-id-2 pre{padding: 0;}#sk-container-id-2 div.sk-toggleable {background-color: white;}#sk-container-id-2 label.sk-toggleable__label {cursor: pointer;display: block;width: 100%;margin-bottom: 0;padding: 0.3em;box-sizing: border-box;text-align: center;}#sk-container-id-2 label.sk-toggleable__label-arrow:before {content: \"▸\";float: left;margin-right: 0.25em;color: #696969;}#sk-container-id-2 label.sk-toggleable__label-arrow:hover:before {color: black;}#sk-container-id-2 div.sk-estimator:hover label.sk-toggleable__label-arrow:before {color: black;}#sk-container-id-2 div.sk-toggleable__content {max-height: 0;max-width: 0;overflow: hidden;text-align: left;background-color: #f0f8ff;}#sk-container-id-2 div.sk-toggleable__content pre {margin: 0.2em;color: black;border-radius: 0.25em;background-color: #f0f8ff;}#sk-container-id-2 input.sk-toggleable__control:checked~div.sk-toggleable__content {max-height: 200px;max-width: 100%;overflow: auto;}#sk-container-id-2 input.sk-toggleable__control:checked~label.sk-toggleable__label-arrow:before {content: \"▾\";}#sk-container-id-2 div.sk-estimator input.sk-toggleable__control:checked~label.sk-toggleable__label {background-color: #d4ebff;}#sk-container-id-2 div.sk-label input.sk-toggleable__control:checked~label.sk-toggleable__label {background-color: #d4ebff;}#sk-container-id-2 input.sk-hidden--visually {border: 0;clip: rect(1px 1px 1px 1px);clip: rect(1px, 1px, 1px, 1px);height: 1px;margin: -1px;overflow: hidden;padding: 0;position: absolute;width: 1px;}#sk-container-id-2 div.sk-estimator {font-family: monospace;background-color: #f0f8ff;border: 1px dotted black;border-radius: 0.25em;box-sizing: border-box;margin-bottom: 0.5em;}#sk-container-id-2 div.sk-estimator:hover {background-color: #d4ebff;}#sk-container-id-2 div.sk-parallel-item::after {content: \"\";width: 100%;border-bottom: 1px solid gray;flex-grow: 1;}#sk-container-id-2 div.sk-label:hover label.sk-toggleable__label {background-color: #d4ebff;}#sk-container-id-2 div.sk-serial::before {content: \"\";position: absolute;border-left: 1px solid gray;box-sizing: border-box;top: 0;bottom: 0;left: 50%;z-index: 0;}#sk-container-id-2 div.sk-serial {display: flex;flex-direction: column;align-items: center;background-color: white;padding-right: 0.2em;padding-left: 0.2em;position: relative;}#sk-container-id-2 div.sk-item {position: relative;z-index: 1;}#sk-container-id-2 div.sk-parallel {display: flex;align-items: stretch;justify-content: center;background-color: white;position: relative;}#sk-container-id-2 div.sk-item::before, #sk-container-id-2 div.sk-parallel-item::before {content: \"\";position: absolute;border-left: 1px solid gray;box-sizing: border-box;top: 0;bottom: 0;left: 50%;z-index: -1;}#sk-container-id-2 div.sk-parallel-item {display: flex;flex-direction: column;z-index: 1;position: relative;background-color: white;}#sk-container-id-2 div.sk-parallel-item:first-child::after {align-self: flex-end;width: 50%;}#sk-container-id-2 div.sk-parallel-item:last-child::after {align-self: flex-start;width: 50%;}#sk-container-id-2 div.sk-parallel-item:only-child::after {width: 0;}#sk-container-id-2 div.sk-dashed-wrapped {border: 1px dashed gray;margin: 0 0.4em 0.5em 0.4em;box-sizing: border-box;padding-bottom: 0.4em;background-color: white;}#sk-container-id-2 div.sk-label label {font-family: monospace;font-weight: bold;display: inline-block;line-height: 1.2em;}#sk-container-id-2 div.sk-label-container {text-align: center;}#sk-container-id-2 div.sk-container {/* jupyter's `normalize.less` sets `[hidden] { display: none; }` but bootstrap.min.css set `[hidden] { display: none !important; }` so we also need the `!important` here to be able to override the default hidden behavior on the sphinx rendered scikit-learn.org. See: https://github.com/scikit-learn/scikit-learn/issues/21755 */display: inline-block !important;position: relative;}#sk-container-id-2 div.sk-text-repr-fallback {display: none;}</style><div id=\"sk-container-id-2\" class=\"sk-top-container\"><div class=\"sk-text-repr-fallback\"><pre>RandomForestClassifier(max_depth=10, random_state=0)</pre><b>In a Jupyter environment, please rerun this cell to show the HTML representation or trust the notebook. <br />On GitHub, the HTML representation is unable to render, please try loading this page with nbviewer.org.</b></div><div class=\"sk-container\" hidden><div class=\"sk-item\"><div class=\"sk-estimator sk-toggleable\"><input class=\"sk-toggleable__control sk-hidden--visually\" id=\"sk-estimator-id-2\" type=\"checkbox\" checked><label for=\"sk-estimator-id-2\" class=\"sk-toggleable__label sk-toggleable__label-arrow\">RandomForestClassifier</label><div class=\"sk-toggleable__content\"><pre>RandomForestClassifier(max_depth=10, random_state=0)</pre></div></div></div></div></div>"
            ]
          },
          "metadata": {},
          "execution_count": 47
        }
      ],
      "source": [
        "# YOUR CODE START\n",
        "from sklearn.ensemble import RandomForestClassifier\n",
        "from sklearn.datasets import make_classification\n",
        "clf = RandomForestClassifier(max_depth=10, random_state=0)\n",
        "clf.fit(X_train, y_train)\n",
        "\n",
        "# / END YOUR CODE"
      ]
    },
    {
      "cell_type": "markdown",
      "metadata": {
        "id": "PheCw_RxolWq"
      },
      "source": [
        "[1đ, 1.5p] Đánh giá trên tập validation với confusion matrix và F1 (micro average)"
      ]
    },
    {
      "cell_type": "code",
      "execution_count": null,
      "metadata": {
        "id": "tIfbHxZ0okUD",
        "colab": {
          "base_uri": "https://localhost:8080/"
        },
        "outputId": "0bcd8504-b555-45af-9040-cf2d91b3a42e"
      },
      "outputs": [
        {
          "output_type": "stream",
          "name": "stdout",
          "text": [
            "[[1232    9    6    3    3]\n",
            " [   8  568    2    0    0]\n",
            " [   3    0  359    4    0]\n",
            " [   4    0    0  247    0]\n",
            " [   7    0    0    0   45]]\n",
            "0.9804\n"
          ]
        }
      ],
      "source": [
        "# YOUR CODE START\n",
        "from sklearn.metrics import confusion_matrix, f1_score\n",
        "\n",
        "y_pred = clf.predict(X_val).argmax(axis=1)\n",
        "\n",
        "print(confusion_matrix(y_enc.inverse_transform(y_val), y_pred))\n",
        "print(f1_score(y_enc.inverse_transform(y_val), y_pred, average=\"micro\"))\n",
        "\n",
        "# / END YOUR CODE"
      ]
    },
    {
      "cell_type": "markdown",
      "metadata": {
        "id": "cFt1msBTppxe"
      },
      "source": [
        "[1đ, 2p] Train và đánh giá model tương tự RF nhưng với model SVC"
      ]
    },
    {
      "cell_type": "code",
      "execution_count": null,
      "metadata": {
        "id": "HL3kqQhdpkZ_",
        "colab": {
          "base_uri": "https://localhost:8080/",
          "height": 215
        },
        "outputId": "762a6db0-c23e-4c6b-c762-8ff8c3e88df0"
      },
      "outputs": [
        {
          "output_type": "stream",
          "name": "stderr",
          "text": [
            "/usr/local/lib/python3.9/dist-packages/sklearn/preprocessing/_label.py:99: DataConversionWarning: A column-vector y was passed when a 1d array was expected. Please change the shape of y to (n_samples, ), for example using ravel().\n",
            "  y = column_or_1d(y, warn=True)\n",
            "/usr/local/lib/python3.9/dist-packages/sklearn/preprocessing/_label.py:134: DataConversionWarning: A column-vector y was passed when a 1d array was expected. Please change the shape of y to (n_samples, ), for example using ravel().\n",
            "  y = column_or_1d(y, dtype=self.classes_.dtype, warn=True)\n"
          ]
        },
        {
          "output_type": "execute_result",
          "data": {
            "text/plain": [
              "Pipeline(steps=[('standardscaler', StandardScaler()),\n",
              "                ('svc', SVC(gamma='auto'))])"
            ],
            "text/html": [
              "<style>#sk-container-id-3 {color: black;background-color: white;}#sk-container-id-3 pre{padding: 0;}#sk-container-id-3 div.sk-toggleable {background-color: white;}#sk-container-id-3 label.sk-toggleable__label {cursor: pointer;display: block;width: 100%;margin-bottom: 0;padding: 0.3em;box-sizing: border-box;text-align: center;}#sk-container-id-3 label.sk-toggleable__label-arrow:before {content: \"▸\";float: left;margin-right: 0.25em;color: #696969;}#sk-container-id-3 label.sk-toggleable__label-arrow:hover:before {color: black;}#sk-container-id-3 div.sk-estimator:hover label.sk-toggleable__label-arrow:before {color: black;}#sk-container-id-3 div.sk-toggleable__content {max-height: 0;max-width: 0;overflow: hidden;text-align: left;background-color: #f0f8ff;}#sk-container-id-3 div.sk-toggleable__content pre {margin: 0.2em;color: black;border-radius: 0.25em;background-color: #f0f8ff;}#sk-container-id-3 input.sk-toggleable__control:checked~div.sk-toggleable__content {max-height: 200px;max-width: 100%;overflow: auto;}#sk-container-id-3 input.sk-toggleable__control:checked~label.sk-toggleable__label-arrow:before {content: \"▾\";}#sk-container-id-3 div.sk-estimator input.sk-toggleable__control:checked~label.sk-toggleable__label {background-color: #d4ebff;}#sk-container-id-3 div.sk-label input.sk-toggleable__control:checked~label.sk-toggleable__label {background-color: #d4ebff;}#sk-container-id-3 input.sk-hidden--visually {border: 0;clip: rect(1px 1px 1px 1px);clip: rect(1px, 1px, 1px, 1px);height: 1px;margin: -1px;overflow: hidden;padding: 0;position: absolute;width: 1px;}#sk-container-id-3 div.sk-estimator {font-family: monospace;background-color: #f0f8ff;border: 1px dotted black;border-radius: 0.25em;box-sizing: border-box;margin-bottom: 0.5em;}#sk-container-id-3 div.sk-estimator:hover {background-color: #d4ebff;}#sk-container-id-3 div.sk-parallel-item::after {content: \"\";width: 100%;border-bottom: 1px solid gray;flex-grow: 1;}#sk-container-id-3 div.sk-label:hover label.sk-toggleable__label {background-color: #d4ebff;}#sk-container-id-3 div.sk-serial::before {content: \"\";position: absolute;border-left: 1px solid gray;box-sizing: border-box;top: 0;bottom: 0;left: 50%;z-index: 0;}#sk-container-id-3 div.sk-serial {display: flex;flex-direction: column;align-items: center;background-color: white;padding-right: 0.2em;padding-left: 0.2em;position: relative;}#sk-container-id-3 div.sk-item {position: relative;z-index: 1;}#sk-container-id-3 div.sk-parallel {display: flex;align-items: stretch;justify-content: center;background-color: white;position: relative;}#sk-container-id-3 div.sk-item::before, #sk-container-id-3 div.sk-parallel-item::before {content: \"\";position: absolute;border-left: 1px solid gray;box-sizing: border-box;top: 0;bottom: 0;left: 50%;z-index: -1;}#sk-container-id-3 div.sk-parallel-item {display: flex;flex-direction: column;z-index: 1;position: relative;background-color: white;}#sk-container-id-3 div.sk-parallel-item:first-child::after {align-self: flex-end;width: 50%;}#sk-container-id-3 div.sk-parallel-item:last-child::after {align-self: flex-start;width: 50%;}#sk-container-id-3 div.sk-parallel-item:only-child::after {width: 0;}#sk-container-id-3 div.sk-dashed-wrapped {border: 1px dashed gray;margin: 0 0.4em 0.5em 0.4em;box-sizing: border-box;padding-bottom: 0.4em;background-color: white;}#sk-container-id-3 div.sk-label label {font-family: monospace;font-weight: bold;display: inline-block;line-height: 1.2em;}#sk-container-id-3 div.sk-label-container {text-align: center;}#sk-container-id-3 div.sk-container {/* jupyter's `normalize.less` sets `[hidden] { display: none; }` but bootstrap.min.css set `[hidden] { display: none !important; }` so we also need the `!important` here to be able to override the default hidden behavior on the sphinx rendered scikit-learn.org. See: https://github.com/scikit-learn/scikit-learn/issues/21755 */display: inline-block !important;position: relative;}#sk-container-id-3 div.sk-text-repr-fallback {display: none;}</style><div id=\"sk-container-id-3\" class=\"sk-top-container\"><div class=\"sk-text-repr-fallback\"><pre>Pipeline(steps=[(&#x27;standardscaler&#x27;, StandardScaler()),\n",
              "                (&#x27;svc&#x27;, SVC(gamma=&#x27;auto&#x27;))])</pre><b>In a Jupyter environment, please rerun this cell to show the HTML representation or trust the notebook. <br />On GitHub, the HTML representation is unable to render, please try loading this page with nbviewer.org.</b></div><div class=\"sk-container\" hidden><div class=\"sk-item sk-dashed-wrapped\"><div class=\"sk-label-container\"><div class=\"sk-label sk-toggleable\"><input class=\"sk-toggleable__control sk-hidden--visually\" id=\"sk-estimator-id-3\" type=\"checkbox\" ><label for=\"sk-estimator-id-3\" class=\"sk-toggleable__label sk-toggleable__label-arrow\">Pipeline</label><div class=\"sk-toggleable__content\"><pre>Pipeline(steps=[(&#x27;standardscaler&#x27;, StandardScaler()),\n",
              "                (&#x27;svc&#x27;, SVC(gamma=&#x27;auto&#x27;))])</pre></div></div></div><div class=\"sk-serial\"><div class=\"sk-item\"><div class=\"sk-estimator sk-toggleable\"><input class=\"sk-toggleable__control sk-hidden--visually\" id=\"sk-estimator-id-4\" type=\"checkbox\" ><label for=\"sk-estimator-id-4\" class=\"sk-toggleable__label sk-toggleable__label-arrow\">StandardScaler</label><div class=\"sk-toggleable__content\"><pre>StandardScaler()</pre></div></div></div><div class=\"sk-item\"><div class=\"sk-estimator sk-toggleable\"><input class=\"sk-toggleable__control sk-hidden--visually\" id=\"sk-estimator-id-5\" type=\"checkbox\" ><label for=\"sk-estimator-id-5\" class=\"sk-toggleable__label sk-toggleable__label-arrow\">SVC</label><div class=\"sk-toggleable__content\"><pre>SVC(gamma=&#x27;auto&#x27;)</pre></div></div></div></div></div></div></div>"
            ]
          },
          "metadata": {},
          "execution_count": 52
        }
      ],
      "source": [
        "# YOUR CODE START\n",
        "from sklearn.svm import SVC\n",
        "from sklearn.pipeline import make_pipeline\n",
        "from sklearn.preprocessing import StandardScaler\n",
        "clf = make_pipeline(StandardScaler(), SVC(gamma='auto'))\n",
        "\n",
        "from sklearn import preprocessing\n",
        "le = preprocessing.LabelEncoder()\n",
        "le.fit(y_enc.inverse_transform(y_train))\n",
        "y_train_label_encoding = le.transform(y_enc.inverse_transform(y_train))\n",
        "    \n",
        "clf.fit(X_train, y_train_label_encoding)\n",
        "\n",
        "\n",
        "# / END YOUR CODE"
      ]
    },
    {
      "cell_type": "code",
      "source": [
        "le.inverse_transform(le.transform(y_enc.inverse_transform(y_val)))"
      ],
      "metadata": {
        "colab": {
          "base_uri": "https://localhost:8080/"
        },
        "id": "BSAImSYGByb5",
        "outputId": "4c759444-b528-49fb-9f9d-131e7b6b880a"
      },
      "execution_count": null,
      "outputs": [
        {
          "output_type": "stream",
          "name": "stderr",
          "text": [
            "/usr/local/lib/python3.9/dist-packages/sklearn/preprocessing/_label.py:134: DataConversionWarning: A column-vector y was passed when a 1d array was expected. Please change the shape of y to (n_samples, ), for example using ravel().\n",
            "  y = column_or_1d(y, dtype=self.classes_.dtype, warn=True)\n"
          ]
        },
        {
          "output_type": "execute_result",
          "data": {
            "text/plain": [
              "array([0, 1, 1, ..., 1, 1, 3])"
            ]
          },
          "metadata": {},
          "execution_count": 56
        }
      ]
    },
    {
      "cell_type": "code",
      "source": [
        "from sklearn.metrics import confusion_matrix, f1_score\n",
        "\n",
        "y_pred = clf.predict(X_val)\n",
        "\n",
        "print(confusion_matrix(le.inverse_transform(le.transform(y_enc.inverse_transform(y_val))), y_pred))\n",
        "print(f1_score(le.inverse_transform(le.transform(y_enc.inverse_transform(y_val))), y_pred, average=\"micro\"))"
      ],
      "metadata": {
        "colab": {
          "base_uri": "https://localhost:8080/"
        },
        "id": "eblLQLt3BbWo",
        "outputId": "2dd28018-71e9-47d4-bcf7-5ee11becea5d"
      },
      "execution_count": null,
      "outputs": [
        {
          "output_type": "stream",
          "name": "stdout",
          "text": [
            "[[1235    7    2    2    7]\n",
            " [  25  553    0    0    0]\n",
            " [  12    1  352    1    0]\n",
            " [   4    2    1  244    0]\n",
            " [   0    1    0    0   51]]\n",
            "0.974\n"
          ]
        },
        {
          "output_type": "stream",
          "name": "stderr",
          "text": [
            "/usr/local/lib/python3.9/dist-packages/sklearn/preprocessing/_label.py:134: DataConversionWarning: A column-vector y was passed when a 1d array was expected. Please change the shape of y to (n_samples, ), for example using ravel().\n",
            "  y = column_or_1d(y, dtype=self.classes_.dtype, warn=True)\n",
            "/usr/local/lib/python3.9/dist-packages/sklearn/preprocessing/_label.py:134: DataConversionWarning: A column-vector y was passed when a 1d array was expected. Please change the shape of y to (n_samples, ), for example using ravel().\n",
            "  y = column_or_1d(y, dtype=self.classes_.dtype, warn=True)\n"
          ]
        }
      ]
    },
    {
      "cell_type": "markdown",
      "metadata": {
        "id": "LJDANZGonK5S"
      },
      "source": [
        "[2đ, 5p] Xây dựng mạng DL với nhiệm vụ dự đoán tương tự RF phía trên, với ít nhất 3 loại layer Dense, BatchNormalization, Dropout sao cho phù hợp <br>\n",
        "Thực hiện đáng giá với confusion matrix và F1 (micro)"
      ]
    },
    {
      "cell_type": "code",
      "source": [
        "!pip3 install torch torchvision torchaudio"
      ],
      "metadata": {
        "id": "g0vSIhZeeo9w"
      },
      "execution_count": null,
      "outputs": []
    },
    {
      "cell_type": "code",
      "execution_count": null,
      "metadata": {
        "id": "yxVFfbkCnKcn",
        "colab": {
          "base_uri": "https://localhost:8080/"
        },
        "outputId": "daf93a7e-68c6-4990-b828-c0faca5f4465"
      },
      "outputs": [
        {
          "output_type": "stream",
          "name": "stdout",
          "text": [
            "Epoch 0:\n",
            "[1,     1] loss: 0.002\n",
            "[1,    51] loss: 0.054\n",
            "[1,   101] loss: 0.043\n",
            "val Error: \n",
            " Accuracy: 92.6%, Avg loss: 0.676549, F1 score (micro): 0.926 \n",
            "\n",
            "Epoch 1:\n",
            "[2,     1] loss: 0.001\n",
            "[2,    51] loss: 0.037\n",
            "[2,   101] loss: 0.036\n",
            "val Error: \n",
            " Accuracy: 94.5%, Avg loss: 0.648892, F1 score (micro): 0.9448 \n",
            "\n",
            "Epoch 2:\n",
            "[3,     1] loss: 0.001\n",
            "[3,    51] loss: 0.036\n",
            "[3,   101] loss: 0.036\n",
            "val Error: \n",
            " Accuracy: 95.2%, Avg loss: 0.625979, F1 score (micro): 0.9524 \n",
            "\n",
            "Epoch 3:\n",
            "[4,     1] loss: 0.001\n",
            "[4,    51] loss: 0.035\n",
            "[4,   101] loss: 0.035\n",
            "val Error: \n",
            " Accuracy: 96.0%, Avg loss: 0.626685, F1 score (micro): 0.9604 \n",
            "\n",
            "Epoch 4:\n",
            "[5,     1] loss: 0.001\n",
            "[5,    51] loss: 0.035\n",
            "[5,   101] loss: 0.035\n",
            "val Error: \n",
            " Accuracy: 96.1%, Avg loss: 0.616791, F1 score (micro): 0.9608 \n",
            "\n",
            "Epoch 5:\n",
            "[6,     1] loss: 0.001\n",
            "[6,    51] loss: 0.035\n",
            "[6,   101] loss: 0.035\n",
            "val Error: \n",
            " Accuracy: 96.6%, Avg loss: 0.604155, F1 score (micro): 0.966 \n",
            "\n",
            "Epoch 6:\n",
            "[7,     1] loss: 0.001\n",
            "[7,    51] loss: 0.034\n",
            "[7,   101] loss: 0.035\n",
            "val Error: \n",
            " Accuracy: 96.2%, Avg loss: 0.608500, F1 score (micro): 0.962 \n",
            "\n",
            "Epoch 7:\n",
            "[8,     1] loss: 0.001\n",
            "[8,    51] loss: 0.035\n",
            "[8,   101] loss: 0.035\n",
            "val Error: \n",
            " Accuracy: 96.6%, Avg loss: 0.621164, F1 score (micro): 0.9656 \n",
            "\n",
            "Epoch 8:\n",
            "[9,     1] loss: 0.001\n",
            "[9,    51] loss: 0.034\n",
            "[9,   101] loss: 0.035\n",
            "val Error: \n",
            " Accuracy: 96.4%, Avg loss: 0.610998, F1 score (micro): 0.9636 \n",
            "\n",
            "Epoch 9:\n",
            "[10,     1] loss: 0.001\n",
            "[10,    51] loss: 0.035\n",
            "[10,   101] loss: 0.035\n",
            "val Error: \n",
            " Accuracy: 96.6%, Avg loss: 0.617157, F1 score (micro): 0.966 \n",
            "\n",
            "Epoch 10:\n",
            "[11,     1] loss: 0.001\n",
            "[11,    51] loss: 0.035\n",
            "[11,   101] loss: 0.035\n",
            "val Error: \n",
            " Accuracy: 96.4%, Avg loss: 0.647419, F1 score (micro): 0.9636 \n",
            "\n"
          ]
        }
      ],
      "source": [
        "\n",
        "# YOUR CODE START \n",
        "import torch\n",
        "from torch import nn\n",
        "from torch.utils.data import Dataset\n",
        "from torchvision import datasets\n",
        "\n",
        "class CustomDataset(Dataset):\n",
        "    def __init__(self, data, y):\n",
        "        self.data = torch.tensor(data, dtype=torch.float32)\n",
        "        self.y = torch.tensor(y, dtype=torch.float32)\n",
        "    def __len__(self):\n",
        "        return len(self.data)\n",
        "\n",
        "    def __getitem__(self, idx):\n",
        "        return self.data[idx], self.y[idx]\n",
        "        \n",
        "train_dataset =  CustomDataset(X_train, y_train)\n",
        "val_dataset =  CustomDataset(X_val, y_val)\n",
        "\n",
        "from torch.utils.data import DataLoader\n",
        "\n",
        "train_dataloader = DataLoader(train_dataset, batch_size=64, shuffle=True)\n",
        "val_dataloader = DataLoader(val_dataset, batch_size=64, shuffle=True)\n",
        "\n",
        "class Model(nn.Module):\n",
        "  def __init__(self, input_dim=164, output_dim=5):\n",
        "    super(Model, self).__init__()\n",
        "    self.layer_1 = nn.Linear(input_dim, output_dim)\n",
        "    self.layer_2 = nn.BatchNorm1d(5)\n",
        "    self.layer_3 = nn.Dropout(0.9)\n",
        "\n",
        "  def forward(self, x):\n",
        "    x = self.layer_1(x)\n",
        "    x = self.layer_2(x)\n",
        "    x = self.layer_3(x)\n",
        "    return x\n",
        "\n",
        "import torch.optim as optim\n",
        "from sklearn.metrics import f1_score\n",
        "\n",
        "model = Model()\n",
        "criterion = nn.CrossEntropyLoss()\n",
        "optimizer = optim.SGD(model.parameters(), lr=0.001, momentum=0.9)\n",
        "f1_max = 0\n",
        "early_stopping = 0\n",
        "\n",
        "for epoch in range(100):\n",
        "    print(f\"Epoch {epoch}:\")\n",
        "    model.train()\n",
        "    running_loss = 0.0\n",
        "    for i, data in enumerate(train_dataloader, 0):\n",
        "        inputs, labels = data\n",
        "        optimizer.zero_grad()\n",
        "   \n",
        "        outputs = model(inputs)\n",
        "        loss = criterion(outputs, labels)\n",
        "        loss.backward()\n",
        "        optimizer.step()\n",
        "\n",
        "        running_loss += loss.item()\n",
        "        if i % 50 == 0:\n",
        "            print(f'[{epoch + 1}, {i + 1:5d}] loss: {running_loss / 2000:.3f}')\n",
        "            running_loss = 0.0\n",
        "\n",
        "    model.eval()\n",
        "    size = len(val_dataloader.dataset)\n",
        "    num_batches = len(val_dataloader)\n",
        "    val_loss, correct = 0, 0\n",
        "    all_y = []\n",
        "    all_pre = []\n",
        "\n",
        "    with torch.no_grad():\n",
        "        for X, y in val_dataloader:\n",
        "            pred = model(X)\n",
        "            val_loss += criterion(pred, y).item()\n",
        "            correct += (pred.argmax(1) == y.argmax(1)).type(torch.float).sum().item()\n",
        "            all_y+=y.argmax(1)\n",
        "            all_pre+=pred.argmax(1)\n",
        "    val_loss /= num_batches\n",
        "    correct /= size\n",
        "\n",
        "      \n",
        "    f1 = f1_score(all_y, all_pre, average='micro')\n",
        "    print(f\"val Error: \\n Accuracy: {(100*correct):>0.1f}%, Avg loss: {val_loss:>8f}, F1 score (micro): {f1} \\n\")\n",
        "\n",
        "    if f1_max < f1:\n",
        "      early_stopping=0\n",
        "      f1_max = f1\n",
        "    else:\n",
        "      early_stopping+=1\n",
        "    \n",
        "    if early_stopping == 5:\n",
        "      break\n",
        "\n",
        "# / END YOUR CODE"
      ]
    },
    {
      "cell_type": "code",
      "source": [],
      "metadata": {
        "id": "H12uLCTqQ-i8"
      },
      "execution_count": null,
      "outputs": []
    }
  ],
  "metadata": {
    "colab": {
      "provenance": [],
      "collapsed_sections": [
        "505DgRkkEVhL"
      ],
      "include_colab_link": true
    },
    "kernelspec": {
      "display_name": "Python 3",
      "language": "python",
      "name": "python3"
    },
    "language_info": {
      "codemirror_mode": {
        "name": "ipython",
        "version": 3
      },
      "file_extension": ".py",
      "mimetype": "text/x-python",
      "name": "python",
      "nbconvert_exporter": "python",
      "pygments_lexer": "ipython3",
      "version": "3.7.4"
    }
  },
  "nbformat": 4,
  "nbformat_minor": 0
}