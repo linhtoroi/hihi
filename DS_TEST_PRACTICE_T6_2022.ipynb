{
  "cells": [
    {
      "cell_type": "markdown",
      "metadata": {
        "id": "view-in-github",
        "colab_type": "text"
      },
      "source": [
        "<a href=\"https://colab.research.google.com/github/linhtoroi/hihi/blob/main/DS_TEST_PRACTICE_T6_2022.ipynb\" target=\"_parent\"><img src=\"https://colab.research.google.com/assets/colab-badge.svg\" alt=\"Open In Colab\"/></a>"
      ]
    },
    {
      "cell_type": "markdown",
      "source": [
        "## ĐÁNH GIÁ NĂNG LỰC KỸ SƯ KHOA HỌC DỮ LIỆU THÁNG 06 - 2022\n",
        "#### BÀI THỰC HÀNH (ĐỀ CHÍNH THỨC)\n",
        "\n",
        "---\n",
        "\n",
        "Ngày test: 27/06/2022\n",
        "Thời gian làm bài: 40 phút, từ 17:00 đến 17:40\n",
        "(+ 5 phút thiết lập môi trường và nộp bài)\n",
        "\n",
        "\n",
        "**Quy định:**\n",
        "- Không trao đổi trong suốt quá trình làm bài\n",
        "- Record màn hình làm bài và share lại cho quanvh8 sau khi kết thúc thời gian test\n",
        "- **ĐƯỢC** sử dụng tài liệu và tra cứu internet\n",
        "- Sau khi hoàn thành, tải notebook, gửi về email: quanvh8@viettel.com.vn\n",
        "\n",
        "**Hướng dẫn làm bài:**\n",
        "\n",
        "* Chạy toàn bộ lệnh trong phần 0. CHUẨN BỊ MÔI TRƯỜNG\n",
        "* Làm theo hướng dẫn tại các câu và **CHỈ SỬA** các đoạn code nằm giữa các thẻ:\n",
        "\n",
        "      # YOUR CODE START\n",
        "      # / END YOUR CODE\n",
        "\n",
        "*Lưu ý: hầu hết câu hỏi không có tính tuần tự (không cần hoàn thành câu trước để làm câu sau)*\n",
        "\n",
        "*Đề thi có một số testcase hỗ trợ DS kiểm tra kết quả, nhưng đây không phải điểm số. Điểm số được giám khảo chấm và gửi lại sau.*\n",
        "\n",
        "\n",
        "\n",
        "---"
      ],
      "metadata": {
        "id": "wXZRPwolwz2R",
        "pycharm": {
          "name": "#%% md\n"
        }
      }
    },
    {
      "cell_type": "markdown",
      "metadata": {
        "id": "j-4dViMswxFM",
        "pycharm": {
          "name": "#%% md\n"
        }
      },
      "source": [
        "### 0. CÀI ĐẶT MÔI TRƯỜNG\n",
        "Guide: Chạy toàn bộ các lệnh trong phần này"
      ]
    },
    {
      "cell_type": "code",
      "source": [
        "!pip install pyspark"
      ],
      "metadata": {
        "colab": {
          "base_uri": "https://localhost:8080/"
        },
        "id": "voGA97cu5oBJ",
        "outputId": "ae82c0ed-b03e-49c6-d68c-a3fd3a30f63d",
        "pycharm": {
          "name": "#%%\n"
        }
      },
      "execution_count": null,
      "outputs": [
        {
          "output_type": "stream",
          "name": "stdout",
          "text": [
            "Looking in indexes: https://pypi.org/simple, https://us-python.pkg.dev/colab-wheels/public/simple/\n",
            "Collecting pyspark\n",
            "  Downloading pyspark-3.3.2.tar.gz (281.4 MB)\n",
            "\u001b[2K     \u001b[90m━━━━━━━━━━━━━━━━━━━━━━━━━━━━━━━━━━━━━━━\u001b[0m \u001b[32m281.4/281.4 MB\u001b[0m \u001b[31m4.4 MB/s\u001b[0m eta \u001b[36m0:00:00\u001b[0m\n",
            "\u001b[?25h  Preparing metadata (setup.py) ... \u001b[?25l\u001b[?25hdone\n",
            "Collecting py4j==0.10.9.5\n",
            "  Downloading py4j-0.10.9.5-py2.py3-none-any.whl (199 kB)\n",
            "\u001b[2K     \u001b[90m━━━━━━━━━━━━━━━━━━━━━━━━━━━━━━━━━━━━━━\u001b[0m \u001b[32m199.7/199.7 KB\u001b[0m \u001b[31m20.2 MB/s\u001b[0m eta \u001b[36m0:00:00\u001b[0m\n",
            "\u001b[?25hBuilding wheels for collected packages: pyspark\n",
            "  Building wheel for pyspark (setup.py) ... \u001b[?25l\u001b[?25hdone\n",
            "  Created wheel for pyspark: filename=pyspark-3.3.2-py2.py3-none-any.whl size=281824028 sha256=4179865b6a8c66518e7fccf46ac1c16f16d29604897e8b06b3a4fd482f45d384\n",
            "  Stored in directory: /root/.cache/pip/wheels/6c/e3/9b/0525ce8a69478916513509d43693511463c6468db0de237c86\n",
            "Successfully built pyspark\n",
            "Installing collected packages: py4j, pyspark\n",
            "  Attempting uninstall: py4j\n",
            "    Found existing installation: py4j 0.10.9.7\n",
            "    Uninstalling py4j-0.10.9.7:\n",
            "      Successfully uninstalled py4j-0.10.9.7\n",
            "Successfully installed py4j-0.10.9.5 pyspark-3.3.2\n"
          ]
        }
      ]
    },
    {
      "cell_type": "code",
      "execution_count": null,
      "metadata": {
        "id": "jnRQOyNiwxFQ",
        "pycharm": {
          "name": "#%%\n"
        }
      },
      "outputs": [],
      "source": [
        "import pandas as pd\n",
        "import numpy as np \n",
        "import tensorflow as tf\n",
        "import gzip\n",
        "import shutil\n",
        "import requests \n",
        "import seaborn as sns\n",
        "import matplotlib.pyplot as plt\n",
        "from sklearn.metrics import roc_auc_score\n",
        "\n",
        "import pyspark\n",
        "from pyspark.sql import functions as F"
      ]
    },
    {
      "cell_type": "code",
      "execution_count": null,
      "metadata": {
        "id": "Q27LBDnlwxFS",
        "pycharm": {
          "name": "#%%\n"
        }
      },
      "outputs": [],
      "source": [
        "def data_downloader(file_name):\n",
        "    file_url = 'https://web.archive.org/web/20070214120527/http://lisp.vse.cz/pkdd99/DATA/'+file_name\n",
        "    file_path = \"/content/\"+file_name\n",
        "    \n",
        "    r = requests.get(file_url, stream = True, verify=False) \n",
        "    \n",
        "    with open( file_path, \"wb\") as file: \n",
        "        for block in r.iter_content(chunk_size = 1024*10): \n",
        "            if block: \n",
        "                file.write(block)\n",
        "    print(\"Loaded \"+file_name+\" to local path: \"+file_path)\n",
        "    "
      ]
    },
    {
      "cell_type": "code",
      "execution_count": null,
      "metadata": {
        "id": "cBcsFagBwxFT",
        "pycharm": {
          "name": "#%%\n"
        }
      },
      "outputs": [],
      "source": [
        "spark = pyspark.sql.SparkSession \\\n",
        "    .builder \\\n",
        "    .appName(\"DS_test\") \\\n",
        "    .getOrCreate()"
      ]
    },
    {
      "cell_type": "markdown",
      "metadata": {
        "id": "k_n6D2uOwxFU",
        "pycharm": {
          "name": "#%% md\n"
        }
      },
      "source": [
        "#### DATA: PKDD'99 Financial dataset"
      ]
    },
    {
      "cell_type": "markdown",
      "metadata": {
        "id": "WzjBmmazwxFV",
        "pycharm": {
          "name": "#%% md\n"
        }
      },
      "source": [
        "Thông tin bộ dữ liệu: https://relational.fit.cvut.cz/dataset/Financial"
      ]
    },
    {
      "cell_type": "markdown",
      "metadata": {
        "id": "ftYhrrfqwxFW",
        "pycharm": {
          "name": "#%% md\n"
        }
      },
      "source": [
        "PKDD'99 Financial dataset contains 606 successful and 76 not successful loans along with their information and transactions."
      ]
    },
    {
      "cell_type": "markdown",
      "metadata": {
        "id": "YgbxWLJKwxFW",
        "pycharm": {
          "name": "#%% md\n"
        }
      },
      "source": [
        "![Alt text](https://relational.fit.cvut.cz/assets/img/datasets-generated/financial.svg \"Schema bộ dữ liệu\")"
      ]
    },
    {
      "cell_type": "code",
      "execution_count": null,
      "metadata": {
        "scrolled": true,
        "colab": {
          "base_uri": "https://localhost:8080/"
        },
        "id": "tPMkN_muwxFX",
        "outputId": "99e6a97a-7f9d-4b06-fb29-831458e5a925",
        "pycharm": {
          "name": "#%%\n"
        }
      },
      "outputs": [
        {
          "output_type": "stream",
          "name": "stderr",
          "text": [
            "/usr/local/lib/python3.9/dist-packages/urllib3/connectionpool.py:1045: InsecureRequestWarning: Unverified HTTPS request is being made to host 'web.archive.org'. Adding certificate verification is strongly advised. See: https://urllib3.readthedocs.io/en/1.26.x/advanced-usage.html#ssl-warnings\n",
            "  warnings.warn(\n"
          ]
        },
        {
          "output_type": "stream",
          "name": "stdout",
          "text": [
            "Loaded data_berka.zip to local path: /content/data_berka.zip\n"
          ]
        }
      ],
      "source": [
        "# Tải dữ liệu về\n",
        "data_downloader(\"data_berka.zip\")"
      ]
    },
    {
      "cell_type": "code",
      "source": [
        "!unzip /content/data_berka.zip"
      ],
      "metadata": {
        "colab": {
          "base_uri": "https://localhost:8080/"
        },
        "id": "pDLjvWXpbhjH",
        "outputId": "28bfa5ec-be6a-4e7c-c049-21746183b443",
        "pycharm": {
          "name": "#%%\n"
        }
      },
      "execution_count": null,
      "outputs": [
        {
          "output_type": "stream",
          "name": "stdout",
          "text": [
            "Archive:  /content/data_berka.zip\n",
            "  inflating: trans.asc               \n",
            "  inflating: order.asc               \n",
            "  inflating: loan.asc                \n",
            "  inflating: district.asc            \n",
            "  inflating: disp.asc                \n",
            "  inflating: client.asc              \n",
            "  inflating: card.asc                \n",
            "  inflating: account.asc             \n"
          ]
        }
      ]
    },
    {
      "cell_type": "markdown",
      "source": [
        "Dữ liệu đã được tải về colab, mở tab \"Files\" bên trái màn hình để kiếm tra"
      ],
      "metadata": {
        "id": "DrAFedA1bujO",
        "pycharm": {
          "name": "#%% md\n"
        }
      }
    },
    {
      "cell_type": "code",
      "source": [
        "# Setting to speed up \n",
        "spark.sql(\"set spark.sql.shuffle.partitions=1\")"
      ],
      "metadata": {
        "id": "XFjGlvw53ZLV",
        "pycharm": {
          "name": "#%%\n"
        },
        "colab": {
          "base_uri": "https://localhost:8080/"
        },
        "outputId": "f879e141-1a04-4a1c-fb68-3776b8c81c17"
      },
      "execution_count": null,
      "outputs": [
        {
          "output_type": "execute_result",
          "data": {
            "text/plain": [
              "DataFrame[key: string, value: string]"
            ]
          },
          "metadata": {},
          "execution_count": 7
        }
      ]
    },
    {
      "cell_type": "markdown",
      "source": [
        "## PHẦN I. PYTHON PROGRAMMING\n",
        "[4 điểm]\n",
        "Guide: Sử dụng python thực hiện các yêu cầu sau"
      ],
      "metadata": {
        "id": "unnuN-iZhHiw"
      }
    },
    {
      "cell_type": "markdown",
      "source": [
        "**Câu 1**. [2đ] Cho $A$ là một chuỗi thời gian (kiểu dữ liệu numpy array hoặc list), xây dựng thuật toán tìm ra chuỗi con $a \\in A$ sao cho $S = a[-1] - a[0]$ (hiệu số phần tử cuối cùng và phần tử đầu tiên) là tối đa và độ phức tạp của thuật toán là $O(n)$\n"
      ],
      "metadata": {
        "id": "fFhSJetOhb54"
      }
    },
    {
      "cell_type": "code",
      "source": [
        "%%time\n",
        "def get_subseq(A):\n",
        "  # YOUR CODE START \n",
        "\n",
        "  a = \n",
        "  # / END YOUR CODE\n",
        "  return a"
      ],
      "metadata": {
        "id": "mLA29MhUiiGf"
      },
      "execution_count": null,
      "outputs": []
    },
    {
      "cell_type": "code",
      "source": [
        "# Testcase\n",
        "A= [1, 2, 5, 0.5,4, 6, 8, 12, 10, 15, 9, 7, 6, 5, 4, 7, 8 ,9 ]\n",
        "a = get_subseq(A)\n",
        "print(a)\n",
        "\n",
        "# >> expected result: [0.5, 4, 6, 8, 12, 10, 15]"
      ],
      "metadata": {
        "id": "Iz5b27c5lx3A"
      },
      "execution_count": null,
      "outputs": []
    },
    {
      "cell_type": "markdown",
      "source": [
        "**Câu 2**. [2đ] Vẫn thực hiện yêu cầu của Câu 1 với điều kiện độ dài tối đa của chuỗi $a$ là $k$"
      ],
      "metadata": {
        "id": "TzJuBlLJijkw"
      }
    },
    {
      "cell_type": "code",
      "source": [
        "%%time\n",
        "def get_subseq_limit(A, k):\n",
        "  # YOUR CODE START \n",
        "\n",
        "  a = \n",
        "  # / END YOUR CODE\n",
        "  return a"
      ],
      "metadata": {
        "id": "at3FSs2ljBRX"
      },
      "execution_count": null,
      "outputs": []
    },
    {
      "cell_type": "code",
      "source": [
        "# Testcase\n",
        "A= [1, 2, 5, 0.5,4, 6, 8, 12, 10, 15, 9, 7, 6, 5, 4, 7, 8 ,9 ]\n",
        "a = get_subseq_limit(A, k=3)\n",
        "print(a)\n",
        "\n",
        "# >> expected result: [6, 8, 12]"
      ],
      "metadata": {
        "id": "6z0o5TkElfx5"
      },
      "execution_count": null,
      "outputs": []
    },
    {
      "cell_type": "markdown",
      "metadata": {
        "id": "muScjCy_wxFY",
        "pycharm": {
          "name": "#%% md\n"
        }
      },
      "source": [
        "## PHẦN II. DATA MANIPULATION AND ANALYSIS\n",
        "[ 10 điểm ] <br>\n",
        "Guide: Sử dụng pyspark hoặc spark-SQL thực hiện tất cả các câu thuộc phần này."
      ]
    },
    {
      "cell_type": "markdown",
      "metadata": {
        "id": "IB5z9y7awxFZ",
        "pycharm": {
          "name": "#%% md\n"
        }
      },
      "source": [
        "**Câu 3**. [2đ] Đọc các file vào pyspark dataframe, biết rằng các cột trong các file dữ liệu đều phân cách nhau bởi dấu chấm phấy (;). Lưu tương ứng các dataframe với các file dữ liệu:\n",
        "- df_loan : \"loan.asc\"\n",
        "- df_trans  :\"trans.asc\"\n",
        "- df_order  :\"order.asc\"\n",
        "- df_account  :\"account.asc\"\n",
        "\n",
        "(Xem mô tả quan trọng của dữ liệu phía trên)"
      ]
    },
    {
      "cell_type": "code",
      "execution_count": null,
      "metadata": {
        "id": "qEkvX1pHwxFZ",
        "pycharm": {
          "name": "#%%\n"
        }
      },
      "outputs": [],
      "source": [
        "df_loan =  spark.read.options(header = 'True', inferSchema = 'True', delimiter=';').csv('/content/loan.asc')\n",
        "df_trans = spark.read.options(header = 'True', inferSchema = 'True', delimiter=';').csv('/content/trans.asc') \n",
        "df_order = spark.read.options(header = 'True', inferSchema = 'True', delimiter=';').csv('/content/order.asc')\n",
        "df_account = spark.read.options(header = 'True', inferSchema = 'True', delimiter=';').csv('/content/account.asc')"
      ]
    },
    {
      "cell_type": "code",
      "source": [
        "df_loan.show(5)"
      ],
      "metadata": {
        "colab": {
          "base_uri": "https://localhost:8080/"
        },
        "id": "ZW61VE4tSL-P",
        "outputId": "d1763d49-cb22-41f9-9e40-e6b7e670fa11"
      },
      "execution_count": null,
      "outputs": [
        {
          "output_type": "stream",
          "name": "stdout",
          "text": [
            "+-------+----------+------+------+--------+--------+------+\n",
            "|loan_id|account_id|  date|amount|duration|payments|status|\n",
            "+-------+----------+------+------+--------+--------+------+\n",
            "|   5314|      1787|930705| 96396|      12|  8033.0|     B|\n",
            "|   5316|      1801|930711|165960|      36|  4610.0|     A|\n",
            "|   6863|      9188|930728|127080|      60|  2118.0|     A|\n",
            "|   5325|      1843|930803|105804|      36|  2939.0|     A|\n",
            "|   7240|     11013|930906|274740|      60|  4579.0|     A|\n",
            "+-------+----------+------+------+--------+--------+------+\n",
            "only showing top 5 rows\n",
            "\n"
          ]
        }
      ]
    },
    {
      "cell_type": "markdown",
      "metadata": {
        "id": "-v4AoLZRwxFa",
        "pycharm": {
          "name": "#%% md\n"
        }
      },
      "source": [
        "**Câu 4**. [2đ] Truy xuất top 10 quận (district_id) có số lượng account_id phát hành hàng tháng (tương ứng frequency là POPLATEK MESICNE) là lớn nhất"
      ]
    },
    {
      "cell_type": "code",
      "source": [
        "df_account.show(5)"
      ],
      "metadata": {
        "colab": {
          "base_uri": "https://localhost:8080/"
        },
        "id": "Hd613HCiVkus",
        "outputId": "cf1f131c-a76e-4fc0-9927-323cb32ddfcd"
      },
      "execution_count": null,
      "outputs": [
        {
          "output_type": "stream",
          "name": "stdout",
          "text": [
            "+----------+-----------+----------------+------+\n",
            "|account_id|district_id|       frequency|  date|\n",
            "+----------+-----------+----------------+------+\n",
            "|       576|         55|POPLATEK MESICNE|930101|\n",
            "|      3818|         74|POPLATEK MESICNE|930101|\n",
            "|       704|         55|POPLATEK MESICNE|930101|\n",
            "|      2378|         16|POPLATEK MESICNE|930101|\n",
            "|      2632|         24|POPLATEK MESICNE|930102|\n",
            "+----------+-----------+----------------+------+\n",
            "only showing top 5 rows\n",
            "\n"
          ]
        }
      ]
    },
    {
      "cell_type": "code",
      "source": [
        "t"
      ],
      "metadata": {
        "id": "CtBejl-mlAwo"
      },
      "execution_count": null,
      "outputs": []
    },
    {
      "cell_type": "code",
      "execution_count": null,
      "metadata": {
        "id": "llIen6GCwxFb",
        "pycharm": {
          "name": "#%%\n"
        },
        "colab": {
          "base_uri": "https://localhost:8080/"
        },
        "outputId": "1824f6e5-8d4b-46af-c185-517637656da3"
      },
      "outputs": [
        {
          "output_type": "stream",
          "name": "stdout",
          "text": [
            "+-----------+---+\n",
            "|district_id|cnt|\n",
            "+-----------+---+\n",
            "|          1|509|\n",
            "|         70|145|\n",
            "|         74|124|\n",
            "|         54|121|\n",
            "|         72| 81|\n",
            "|         68| 81|\n",
            "|         64| 81|\n",
            "|          5| 60|\n",
            "|         46| 56|\n",
            "|         59| 55|\n",
            "+-----------+---+\n",
            "\n",
            "CPU times: user 11.8 ms, sys: 530 µs, total: 12.3 ms\n",
            "Wall time: 559 ms\n"
          ]
        }
      ],
      "source": [
        "%%time\n",
        "# YOUR CODE START \n",
        "df_account.filter(F.col('frequency')=='POPLATEK MESICNE')\\\n",
        ".groupby('district_id').agg(F.count('account_id').alias('cnt')).sort(F.col('cnt').desc()).limit(10).show()\n",
        "\n",
        "# / END YOUR CODE"
      ]
    },
    {
      "cell_type": "markdown",
      "metadata": {
        "id": "G5rrypjYwxFb",
        "pycharm": {
          "name": "#%% md\n"
        }
      },
      "source": [
        "**Câu 5**. [3đ]\n",
        "Xây dựng ma trận tỷ lệ % loại nợ là A (df_loan.status) tương ứng với loại tài khoản (df_account.frequency) và thời hạn khoản vay (df_loan.duration).\n",
        "\n",
        "Yêu cầu ma trận: cột: loại tài khoản frequency, hàng: thời hạn khoản vay duration, giá trị: tỷ lệ số lượng nợ A/ tổng số lượng khoản nợ"
      ]
    },
    {
      "cell_type": "code",
      "source": [
        "df_loan.show(10)"
      ],
      "metadata": {
        "colab": {
          "base_uri": "https://localhost:8080/"
        },
        "id": "AlyIlcq-db6W",
        "outputId": "6062000f-4803-4ffc-a6ed-c77fb79c3ade"
      },
      "execution_count": null,
      "outputs": [
        {
          "output_type": "stream",
          "name": "stdout",
          "text": [
            "+-------+----------+------+------+--------+--------+------+\n",
            "|loan_id|account_id|  date|amount|duration|payments|status|\n",
            "+-------+----------+------+------+--------+--------+------+\n",
            "|   5314|      1787|930705| 96396|      12|  8033.0|     B|\n",
            "|   5316|      1801|930711|165960|      36|  4610.0|     A|\n",
            "|   6863|      9188|930728|127080|      60|  2118.0|     A|\n",
            "|   5325|      1843|930803|105804|      36|  2939.0|     A|\n",
            "|   7240|     11013|930906|274740|      60|  4579.0|     A|\n",
            "|   6687|      8261|930913| 87840|      24|  3660.0|     A|\n",
            "|   7284|     11265|930915| 52788|      12|  4399.0|     A|\n",
            "|   6111|      5428|930924|174744|      24|  7281.0|     B|\n",
            "|   7235|     10973|931013|154416|      48|  3217.0|     A|\n",
            "|   5997|      4894|931104|117024|      24|  4876.0|     A|\n",
            "+-------+----------+------+------+--------+--------+------+\n",
            "only showing top 10 rows\n",
            "\n"
          ]
        }
      ]
    },
    {
      "cell_type": "code",
      "source": [
        "df_account.show(10)"
      ],
      "metadata": {
        "colab": {
          "base_uri": "https://localhost:8080/"
        },
        "id": "TEYRNNWqe6af",
        "outputId": "4d261652-9aed-4c19-ec1e-1fe42246d29a"
      },
      "execution_count": null,
      "outputs": [
        {
          "output_type": "stream",
          "name": "stdout",
          "text": [
            "+----------+-----------+------------------+------+\n",
            "|account_id|district_id|         frequency|  date|\n",
            "+----------+-----------+------------------+------+\n",
            "|       576|         55|  POPLATEK MESICNE|930101|\n",
            "|      3818|         74|  POPLATEK MESICNE|930101|\n",
            "|       704|         55|  POPLATEK MESICNE|930101|\n",
            "|      2378|         16|  POPLATEK MESICNE|930101|\n",
            "|      2632|         24|  POPLATEK MESICNE|930102|\n",
            "|      1972|         77|  POPLATEK MESICNE|930102|\n",
            "|      1539|          1|POPLATEK PO OBRATU|930103|\n",
            "|       793|         47|  POPLATEK MESICNE|930103|\n",
            "|      2484|         74|  POPLATEK MESICNE|930103|\n",
            "|      1695|         76|  POPLATEK MESICNE|930103|\n",
            "+----------+-----------+------------------+------+\n",
            "only showing top 10 rows\n",
            "\n"
          ]
        }
      ]
    },
    {
      "cell_type": "code",
      "execution_count": null,
      "metadata": {
        "id": "4MXPzExqwxFb",
        "pycharm": {
          "name": "#%%\n"
        },
        "colab": {
          "base_uri": "https://localhost:8080/"
        },
        "outputId": "eed9dbf7-b944-4bcc-a592-885788f103b2"
      },
      "outputs": [
        {
          "output_type": "stream",
          "name": "stdout",
          "text": [
            "+------------------+------------------+------------------+-------------------+-------------------+--------------------+\n",
            "|         frequency|                12|                24|                 36|                 48|                  60|\n",
            "+------------------+------------------+------------------+-------------------+-------------------+--------------------+\n",
            "|  POPLATEK MESICNE|0.7142857142857143|0.4824561403508772|0.22448979591836735|0.07894736842105263| 0.01652892561983471|\n",
            "|    POPLATEK TYDNE|0.7857142857142857|               0.4|               0.28|              0.125|0.047619047619047616|\n",
            "|POPLATEK PO OBRATU|               0.4|0.3333333333333333|0.42857142857142855|                0.0|                 0.0|\n",
            "+------------------+------------------+------------------+-------------------+-------------------+--------------------+\n",
            "\n",
            "CPU times: user 15.2 ms, sys: 0 ns, total: 15.2 ms\n",
            "Wall time: 1.01 s\n"
          ]
        }
      ],
      "source": [
        "%%time\n",
        "# YOUR CODE START \n",
        "\n",
        "df_loan.withColumn('status_1',F.when(F.col('status')=='A', 1).otherwise(0)).join(df_account, on=\"account_id\").groupby('frequency').pivot('duration')\\\n",
        ".agg(F.sum('status_1')/F.count('status_1')).show()\n",
        "# / END YOUR CODE"
      ]
    },
    {
      "cell_type": "markdown",
      "metadata": {
        "id": "n_hYq0-zwxFb",
        "pycharm": {
          "name": "#%% md\n"
        }
      },
      "source": [
        "**Câu 6**. [3đ] Ngân hàng quen thuộc của một account_id được định nghĩa là ngân hàng (df_order.bank_to) mà có tổng số giá trị giao dịch (df_order.amount) mà người account_id đó giao dịch nhiều nhất. Trong số các account_id phát hành hàng tháng (POPLATEK MESICNE), người dùng của ngân hàng quen thuộc nào có tỷ lệ nợ loại A thấp nhất?"
      ]
    },
    {
      "cell_type": "code",
      "execution_count": null,
      "metadata": {
        "id": "pYz6LlD6wxFc",
        "pycharm": {
          "name": "#%%\n"
        },
        "colab": {
          "base_uri": "https://localhost:8080/"
        },
        "outputId": "356dc900-66c0-4419-9389-71ad05d24f24"
      },
      "outputs": [
        {
          "output_type": "stream",
          "name": "stdout",
          "text": [
            "+--------+----------+-------+----------+------+--------+\n",
            "|order_id|account_id|bank_to|account_to|amount|k_symbol|\n",
            "+--------+----------+-------+----------+------+--------+\n",
            "|   29401|         1|     YZ|  87144583|2452.0|    SIPO|\n",
            "|   29402|         2|     ST|  89597016|3372.7|    UVER|\n",
            "|   29403|         2|     QR|  13943797|7266.0|    SIPO|\n",
            "|   29404|         3|     WX|  83084338|1135.0|    SIPO|\n",
            "|   29405|         3|     CD|  24485939| 327.0|        |\n",
            "+--------+----------+-------+----------+------+--------+\n",
            "only showing top 5 rows\n",
            "\n",
            "CPU times: user 2.78 ms, sys: 1.03 ms, total: 3.8 ms\n",
            "Wall time: 188 ms\n"
          ]
        }
      ],
      "source": [
        "%%time\n",
        "# YOUR CODE START \n",
        "df_order.show(5)\n",
        "\n",
        "\n",
        "# / END YOUR CODE"
      ]
    },
    {
      "cell_type": "code",
      "source": [
        "df_account.join(df_order, on=\"account_id\", how=\"left\").join(df_loan, on=\"account_id\").withColumn('A', F.when(F.col('status')=='A', 1).otherwise(0))\\\n",
        ".groupby('bank_to').agg((F.sum('A')/F.count('A')).alias('ratio')).orderBy('ratio').show(1)"
      ],
      "metadata": {
        "colab": {
          "base_uri": "https://localhost:8080/"
        },
        "id": "wvdoZFmAwXI6",
        "outputId": "f750d511-8edc-4602-cd31-b023d7cd5863"
      },
      "execution_count": null,
      "outputs": [
        {
          "output_type": "stream",
          "name": "stdout",
          "text": [
            "+-------+------------------+\n",
            "|bank_to|             ratio|\n",
            "+-------+------------------+\n",
            "|     WX|0.2644628099173554|\n",
            "+-------+------------------+\n",
            "only showing top 1 row\n",
            "\n"
          ]
        }
      ]
    },
    {
      "cell_type": "markdown",
      "metadata": {
        "id": "cdIs0bhuwxFd",
        "pycharm": {
          "name": "#%% md\n"
        }
      },
      "source": [
        "### PHẦN III. MODELING\n",
        "TỰ CHỌN <br>\n",
        "[ 6 điểm ] <br>\n",
        "DS chọn 1 trong 2 câu II.a hoặc II.b\n",
        "**Chỉ sử dụng dữ liệu train đã được chia sẵn để huấn luyện model, không sử dụng tập test.** <br>\n",
        "Có thể sử dụng tập test để đánh giá độ chính xác của model.\n",
        "\n",
        "Điểm số được chấm dựa trên độ chính xác của model trên tập test.\n",
        "\n",
        "**Yêu cầu**: xây dựng mô hình học máy phân loại loại nợ (df_loan.status) dựa trên thông tin từ các bảng dữ liệu đã có (trừ trường nhãn df_loan.status, được sử dụng tất cả các trường còn lại)"
      ]
    },
    {
      "cell_type": "markdown",
      "metadata": {
        "id": "dWBLe9_wwxFd",
        "pycharm": {
          "name": "#%% md\n"
        }
      },
      "source": [
        "**Câu III.a**. Xây dựng mô hình trên môi trường pyspark"
      ]
    },
    {
      "cell_type": "code",
      "source": [
        "# CHẠY ĐOẠN CODE SAU|\n",
        "train_label, test_label = df_loan.randomSplit([0.7, 0.3], seed=12345)"
      ],
      "metadata": {
        "id": "KjwQme1yINxE",
        "pycharm": {
          "name": "#%%\n"
        }
      },
      "execution_count": null,
      "outputs": []
    },
    {
      "cell_type": "markdown",
      "source": [
        "Chỉ sử dụng các loan_id trong tập train và huấn luyện model\n",
        "\n",
        "**YÊU CẦU ĐẦU RA** <br>\n",
        "Dataframe: df_pred {loan_id: int, status: varchar}, trong đó loan_id là các id tương ứng trong bộ test_label"
      ],
      "metadata": {
        "id": "WXgOpyu4JJYe",
        "pycharm": {
          "name": "#%% md\n"
        }
      }
    },
    {
      "cell_type": "code",
      "source": [
        "df_pred = test_label[['loan_id', 'status']]"
      ],
      "metadata": {
        "id": "pgPovzyjc0J0"
      },
      "execution_count": null,
      "outputs": []
    },
    {
      "cell_type": "code",
      "source": [
        "train_label.join(df_account, on='account_id', how='left').join(df_order, on='account_id', how='left').show(5)"
      ],
      "metadata": {
        "colab": {
          "base_uri": "https://localhost:8080/"
        },
        "id": "yd7Z12EoeJU5",
        "outputId": "6dfd9bad-9fda-4afd-c873-5c9ff0210723"
      },
      "execution_count": null,
      "outputs": [
        {
          "output_type": "stream",
          "name": "stdout",
          "text": [
            "+----------+-------+------+------+--------+--------+------+-----------+----------------+------+--------+-------+----------+------+--------+\n",
            "|account_id|loan_id|  date|amount|duration|payments|status|district_id|       frequency|  date|order_id|bank_to|account_to|amount|k_symbol|\n",
            "+----------+-------+------+------+--------+--------+------+-----------+----------------+------+--------+-------+----------+------+--------+\n",
            "|         2|   4959|940105| 80952|      24|  3373.0|     A|          1|POPLATEK MESICNE|930226|   29403|     QR|  13943797|7266.0|    SIPO|\n",
            "|         2|   4959|940105| 80952|      24|  3373.0|     A|          1|POPLATEK MESICNE|930226|   29402|     ST|  89597016|3372.7|    UVER|\n",
            "|        19|   4961|960429| 30276|      12|  2523.0|     B|         21|POPLATEK MESICNE|950407|   29423|     QR|  14132368|2523.2|    UVER|\n",
            "|        25|   4962|971208| 30276|      12|  2523.0|     A|         68|POPLATEK MESICNE|960728|   29434|     WX|  52864879| 164.0|POJISTNE|\n",
            "|        25|   4962|971208| 30276|      12|  2523.0|     A|         68|POPLATEK MESICNE|960728|   29433|     AB|  79838293|1110.0|        |\n",
            "+----------+-------+------+------+--------+--------+------+-----------+----------------+------+--------+-------+----------+------+--------+\n",
            "only showing top 5 rows\n",
            "\n"
          ]
        }
      ]
    },
    {
      "cell_type": "markdown",
      "metadata": {
        "id": "RDZ5dXJlwxFd",
        "pycharm": {
          "name": "#%% md\n"
        }
      },
      "source": [
        "**Câu III.b**. Xây dựng mô hình với pandas (sklearn hoặc tensorflow)"
      ]
    },
    {
      "cell_type": "code",
      "source": [
        "# CHẠY ĐOẠN CODE SAU\n",
        "train_label, test_label = df_loan.randomSplit([0.7, 0.3], seed=12345)\n",
        "train_label = train_label.toPandas()\n",
        "test_label = test_label.toPandas()"
      ],
      "metadata": {
        "id": "4yuJ8XRnQ9Hi",
        "pycharm": {
          "name": "#%%\n"
        }
      },
      "execution_count": null,
      "outputs": []
    },
    {
      "cell_type": "code",
      "source": [
        "train_label.merge(df_account.toPandas(), on='account_id', how='left').head(5)"
      ],
      "metadata": {
        "colab": {
          "base_uri": "https://localhost:8080/",
          "height": 206
        },
        "id": "yH0n3bXbd29A",
        "outputId": "26e942c6-3ecf-40e8-e590-4a007eb2fee6"
      },
      "execution_count": null,
      "outputs": [
        {
          "output_type": "execute_result",
          "data": {
            "text/plain": [
              "   loan_id  account_id  date_x  amount  duration  payments status  \\\n",
              "0     4959           2  940105   80952        24    3373.0      A   \n",
              "1     4961          19  960429   30276        12    2523.0      B   \n",
              "2     4962          25  971208   30276        12    2523.0      A   \n",
              "3     4967          37  981014  318480        60    5308.0      D   \n",
              "4     4968          38  980419  110736        48    2307.0      C   \n",
              "\n",
              "   district_id         frequency  date_y  \n",
              "0            1  POPLATEK MESICNE  930226  \n",
              "1           21  POPLATEK MESICNE  950407  \n",
              "2           68  POPLATEK MESICNE  960728  \n",
              "3           20  POPLATEK MESICNE  970818  \n",
              "4           19    POPLATEK TYDNE  970808  "
            ],
            "text/html": [
              "\n",
              "  <div id=\"df-ba59b0be-4abb-4d61-a7ea-69eb02d11408\">\n",
              "    <div class=\"colab-df-container\">\n",
              "      <div>\n",
              "<style scoped>\n",
              "    .dataframe tbody tr th:only-of-type {\n",
              "        vertical-align: middle;\n",
              "    }\n",
              "\n",
              "    .dataframe tbody tr th {\n",
              "        vertical-align: top;\n",
              "    }\n",
              "\n",
              "    .dataframe thead th {\n",
              "        text-align: right;\n",
              "    }\n",
              "</style>\n",
              "<table border=\"1\" class=\"dataframe\">\n",
              "  <thead>\n",
              "    <tr style=\"text-align: right;\">\n",
              "      <th></th>\n",
              "      <th>loan_id</th>\n",
              "      <th>account_id</th>\n",
              "      <th>date_x</th>\n",
              "      <th>amount</th>\n",
              "      <th>duration</th>\n",
              "      <th>payments</th>\n",
              "      <th>status</th>\n",
              "      <th>district_id</th>\n",
              "      <th>frequency</th>\n",
              "      <th>date_y</th>\n",
              "    </tr>\n",
              "  </thead>\n",
              "  <tbody>\n",
              "    <tr>\n",
              "      <th>0</th>\n",
              "      <td>4959</td>\n",
              "      <td>2</td>\n",
              "      <td>940105</td>\n",
              "      <td>80952</td>\n",
              "      <td>24</td>\n",
              "      <td>3373.0</td>\n",
              "      <td>A</td>\n",
              "      <td>1</td>\n",
              "      <td>POPLATEK MESICNE</td>\n",
              "      <td>930226</td>\n",
              "    </tr>\n",
              "    <tr>\n",
              "      <th>1</th>\n",
              "      <td>4961</td>\n",
              "      <td>19</td>\n",
              "      <td>960429</td>\n",
              "      <td>30276</td>\n",
              "      <td>12</td>\n",
              "      <td>2523.0</td>\n",
              "      <td>B</td>\n",
              "      <td>21</td>\n",
              "      <td>POPLATEK MESICNE</td>\n",
              "      <td>950407</td>\n",
              "    </tr>\n",
              "    <tr>\n",
              "      <th>2</th>\n",
              "      <td>4962</td>\n",
              "      <td>25</td>\n",
              "      <td>971208</td>\n",
              "      <td>30276</td>\n",
              "      <td>12</td>\n",
              "      <td>2523.0</td>\n",
              "      <td>A</td>\n",
              "      <td>68</td>\n",
              "      <td>POPLATEK MESICNE</td>\n",
              "      <td>960728</td>\n",
              "    </tr>\n",
              "    <tr>\n",
              "      <th>3</th>\n",
              "      <td>4967</td>\n",
              "      <td>37</td>\n",
              "      <td>981014</td>\n",
              "      <td>318480</td>\n",
              "      <td>60</td>\n",
              "      <td>5308.0</td>\n",
              "      <td>D</td>\n",
              "      <td>20</td>\n",
              "      <td>POPLATEK MESICNE</td>\n",
              "      <td>970818</td>\n",
              "    </tr>\n",
              "    <tr>\n",
              "      <th>4</th>\n",
              "      <td>4968</td>\n",
              "      <td>38</td>\n",
              "      <td>980419</td>\n",
              "      <td>110736</td>\n",
              "      <td>48</td>\n",
              "      <td>2307.0</td>\n",
              "      <td>C</td>\n",
              "      <td>19</td>\n",
              "      <td>POPLATEK TYDNE</td>\n",
              "      <td>970808</td>\n",
              "    </tr>\n",
              "  </tbody>\n",
              "</table>\n",
              "</div>\n",
              "      <button class=\"colab-df-convert\" onclick=\"convertToInteractive('df-ba59b0be-4abb-4d61-a7ea-69eb02d11408')\"\n",
              "              title=\"Convert this dataframe to an interactive table.\"\n",
              "              style=\"display:none;\">\n",
              "        \n",
              "  <svg xmlns=\"http://www.w3.org/2000/svg\" height=\"24px\"viewBox=\"0 0 24 24\"\n",
              "       width=\"24px\">\n",
              "    <path d=\"M0 0h24v24H0V0z\" fill=\"none\"/>\n",
              "    <path d=\"M18.56 5.44l.94 2.06.94-2.06 2.06-.94-2.06-.94-.94-2.06-.94 2.06-2.06.94zm-11 1L8.5 8.5l.94-2.06 2.06-.94-2.06-.94L8.5 2.5l-.94 2.06-2.06.94zm10 10l.94 2.06.94-2.06 2.06-.94-2.06-.94-.94-2.06-.94 2.06-2.06.94z\"/><path d=\"M17.41 7.96l-1.37-1.37c-.4-.4-.92-.59-1.43-.59-.52 0-1.04.2-1.43.59L10.3 9.45l-7.72 7.72c-.78.78-.78 2.05 0 2.83L4 21.41c.39.39.9.59 1.41.59.51 0 1.02-.2 1.41-.59l7.78-7.78 2.81-2.81c.8-.78.8-2.07 0-2.86zM5.41 20L4 18.59l7.72-7.72 1.47 1.35L5.41 20z\"/>\n",
              "  </svg>\n",
              "      </button>\n",
              "      \n",
              "  <style>\n",
              "    .colab-df-container {\n",
              "      display:flex;\n",
              "      flex-wrap:wrap;\n",
              "      gap: 12px;\n",
              "    }\n",
              "\n",
              "    .colab-df-convert {\n",
              "      background-color: #E8F0FE;\n",
              "      border: none;\n",
              "      border-radius: 50%;\n",
              "      cursor: pointer;\n",
              "      display: none;\n",
              "      fill: #1967D2;\n",
              "      height: 32px;\n",
              "      padding: 0 0 0 0;\n",
              "      width: 32px;\n",
              "    }\n",
              "\n",
              "    .colab-df-convert:hover {\n",
              "      background-color: #E2EBFA;\n",
              "      box-shadow: 0px 1px 2px rgba(60, 64, 67, 0.3), 0px 1px 3px 1px rgba(60, 64, 67, 0.15);\n",
              "      fill: #174EA6;\n",
              "    }\n",
              "\n",
              "    [theme=dark] .colab-df-convert {\n",
              "      background-color: #3B4455;\n",
              "      fill: #D2E3FC;\n",
              "    }\n",
              "\n",
              "    [theme=dark] .colab-df-convert:hover {\n",
              "      background-color: #434B5C;\n",
              "      box-shadow: 0px 1px 3px 1px rgba(0, 0, 0, 0.15);\n",
              "      filter: drop-shadow(0px 1px 2px rgba(0, 0, 0, 0.3));\n",
              "      fill: #FFFFFF;\n",
              "    }\n",
              "  </style>\n",
              "\n",
              "      <script>\n",
              "        const buttonEl =\n",
              "          document.querySelector('#df-ba59b0be-4abb-4d61-a7ea-69eb02d11408 button.colab-df-convert');\n",
              "        buttonEl.style.display =\n",
              "          google.colab.kernel.accessAllowed ? 'block' : 'none';\n",
              "\n",
              "        async function convertToInteractive(key) {\n",
              "          const element = document.querySelector('#df-ba59b0be-4abb-4d61-a7ea-69eb02d11408');\n",
              "          const dataTable =\n",
              "            await google.colab.kernel.invokeFunction('convertToInteractive',\n",
              "                                                     [key], {});\n",
              "          if (!dataTable) return;\n",
              "\n",
              "          const docLinkHtml = 'Like what you see? Visit the ' +\n",
              "            '<a target=\"_blank\" href=https://colab.research.google.com/notebooks/data_table.ipynb>data table notebook</a>'\n",
              "            + ' to learn more about interactive tables.';\n",
              "          element.innerHTML = '';\n",
              "          dataTable['output_type'] = 'display_data';\n",
              "          await google.colab.output.renderOutput(dataTable, element);\n",
              "          const docLink = document.createElement('div');\n",
              "          docLink.innerHTML = docLinkHtml;\n",
              "          element.appendChild(docLink);\n",
              "        }\n",
              "      </script>\n",
              "    </div>\n",
              "  </div>\n",
              "  "
            ]
          },
          "metadata": {},
          "execution_count": 16
        }
      ]
    },
    {
      "cell_type": "markdown",
      "source": [
        "Chỉ sử dụng các loan_id trong tập train và huấn luyện model\n",
        "\n",
        "**YÊU CẦU ĐẦU RA** <br>\n",
        "Dataframe: df_pred {loan_id: int, status: varchar}, trong đó loan_id là các id tương ứng trong bộ test_label"
      ],
      "metadata": {
        "id": "rLM2_KJfRV40",
        "pycharm": {
          "name": "#%% md\n"
        }
      }
    },
    {
      "cell_type": "code",
      "execution_count": null,
      "metadata": {
        "id": "3h0XhPuNwxFd",
        "pycharm": {
          "name": "#%%\n"
        }
      },
      "outputs": [],
      "source": [
        "# YOUR CODE START \n",
        "train_data = train_label.merge(df_account.toPandas(), on='account_id', how='left').merge(df_order.toPandas(), on='account_id', how='left')\n",
        "test_data = test_label.merge(df_account.toPandas(), on='account_id', how='left').merge(df_order.toPandas(), on='account_id', how='left')\n",
        "\n",
        "\n",
        "# / END YOUR CODE"
      ]
    },
    {
      "cell_type": "code",
      "source": [
        "drop_col = ['loan_id', 'account_id', 'date_x', 'date_y', 'order_id', 'account_to']\n"
      ],
      "metadata": {
        "id": "uoKHk9cJyaxU"
      },
      "execution_count": null,
      "outputs": []
    },
    {
      "cell_type": "code",
      "source": [
        "from sklearn import preprocessing\n",
        "from collections import defaultdict\n",
        "d = defaultdict(preprocessing.LabelEncoder)\n",
        "train_data_processing = train_data[[k for k, v in train_data.dtypes.to_dict().items() if k not in drop_col and v=='O']].apply(lambda x: d[x.name].fit_transform(x))\n",
        "train_data_processing = pd.concat([train_data_processing, train_data[[k for k, v in train_data.dtypes.to_dict().items() if k not in drop_col and v!='O']]], axis=1)\n",
        "\n",
        "test_data_processing = test_data[[k for k, v in test_data.dtypes.to_dict().items() if k not in drop_col and v=='O']].apply(lambda x: d[x.name].transform(x))\n",
        "test_data_processing = pd.concat([test_data_processing, test_data[[k for k, v in test_data.dtypes.to_dict().items() if k not in drop_col and v!='O']]], axis=1)"
      ],
      "metadata": {
        "id": "DCiRPKFy1Xy_"
      },
      "execution_count": null,
      "outputs": []
    },
    {
      "cell_type": "code",
      "source": [
        "from sklearn.ensemble import RandomForestClassifier\n",
        "from sklearn.datasets import make_classification\n",
        "clf = RandomForestClassifier(max_depth=10, random_state=0)\n",
        "clf.fit(train_data_processing.drop('status', axis=1), train_data_processing['status'])"
      ],
      "metadata": {
        "colab": {
          "base_uri": "https://localhost:8080/",
          "height": 75
        },
        "id": "oXlD3R242lAA",
        "outputId": "43772d29-1a06-4a1d-f9d7-feaca20668d8"
      },
      "execution_count": null,
      "outputs": [
        {
          "output_type": "execute_result",
          "data": {
            "text/plain": [
              "RandomForestClassifier(max_depth=10, random_state=0)"
            ],
            "text/html": [
              "<style>#sk-container-id-2 {color: black;background-color: white;}#sk-container-id-2 pre{padding: 0;}#sk-container-id-2 div.sk-toggleable {background-color: white;}#sk-container-id-2 label.sk-toggleable__label {cursor: pointer;display: block;width: 100%;margin-bottom: 0;padding: 0.3em;box-sizing: border-box;text-align: center;}#sk-container-id-2 label.sk-toggleable__label-arrow:before {content: \"▸\";float: left;margin-right: 0.25em;color: #696969;}#sk-container-id-2 label.sk-toggleable__label-arrow:hover:before {color: black;}#sk-container-id-2 div.sk-estimator:hover label.sk-toggleable__label-arrow:before {color: black;}#sk-container-id-2 div.sk-toggleable__content {max-height: 0;max-width: 0;overflow: hidden;text-align: left;background-color: #f0f8ff;}#sk-container-id-2 div.sk-toggleable__content pre {margin: 0.2em;color: black;border-radius: 0.25em;background-color: #f0f8ff;}#sk-container-id-2 input.sk-toggleable__control:checked~div.sk-toggleable__content {max-height: 200px;max-width: 100%;overflow: auto;}#sk-container-id-2 input.sk-toggleable__control:checked~label.sk-toggleable__label-arrow:before {content: \"▾\";}#sk-container-id-2 div.sk-estimator input.sk-toggleable__control:checked~label.sk-toggleable__label {background-color: #d4ebff;}#sk-container-id-2 div.sk-label input.sk-toggleable__control:checked~label.sk-toggleable__label {background-color: #d4ebff;}#sk-container-id-2 input.sk-hidden--visually {border: 0;clip: rect(1px 1px 1px 1px);clip: rect(1px, 1px, 1px, 1px);height: 1px;margin: -1px;overflow: hidden;padding: 0;position: absolute;width: 1px;}#sk-container-id-2 div.sk-estimator {font-family: monospace;background-color: #f0f8ff;border: 1px dotted black;border-radius: 0.25em;box-sizing: border-box;margin-bottom: 0.5em;}#sk-container-id-2 div.sk-estimator:hover {background-color: #d4ebff;}#sk-container-id-2 div.sk-parallel-item::after {content: \"\";width: 100%;border-bottom: 1px solid gray;flex-grow: 1;}#sk-container-id-2 div.sk-label:hover label.sk-toggleable__label {background-color: #d4ebff;}#sk-container-id-2 div.sk-serial::before {content: \"\";position: absolute;border-left: 1px solid gray;box-sizing: border-box;top: 0;bottom: 0;left: 50%;z-index: 0;}#sk-container-id-2 div.sk-serial {display: flex;flex-direction: column;align-items: center;background-color: white;padding-right: 0.2em;padding-left: 0.2em;position: relative;}#sk-container-id-2 div.sk-item {position: relative;z-index: 1;}#sk-container-id-2 div.sk-parallel {display: flex;align-items: stretch;justify-content: center;background-color: white;position: relative;}#sk-container-id-2 div.sk-item::before, #sk-container-id-2 div.sk-parallel-item::before {content: \"\";position: absolute;border-left: 1px solid gray;box-sizing: border-box;top: 0;bottom: 0;left: 50%;z-index: -1;}#sk-container-id-2 div.sk-parallel-item {display: flex;flex-direction: column;z-index: 1;position: relative;background-color: white;}#sk-container-id-2 div.sk-parallel-item:first-child::after {align-self: flex-end;width: 50%;}#sk-container-id-2 div.sk-parallel-item:last-child::after {align-self: flex-start;width: 50%;}#sk-container-id-2 div.sk-parallel-item:only-child::after {width: 0;}#sk-container-id-2 div.sk-dashed-wrapped {border: 1px dashed gray;margin: 0 0.4em 0.5em 0.4em;box-sizing: border-box;padding-bottom: 0.4em;background-color: white;}#sk-container-id-2 div.sk-label label {font-family: monospace;font-weight: bold;display: inline-block;line-height: 1.2em;}#sk-container-id-2 div.sk-label-container {text-align: center;}#sk-container-id-2 div.sk-container {/* jupyter's `normalize.less` sets `[hidden] { display: none; }` but bootstrap.min.css set `[hidden] { display: none !important; }` so we also need the `!important` here to be able to override the default hidden behavior on the sphinx rendered scikit-learn.org. See: https://github.com/scikit-learn/scikit-learn/issues/21755 */display: inline-block !important;position: relative;}#sk-container-id-2 div.sk-text-repr-fallback {display: none;}</style><div id=\"sk-container-id-2\" class=\"sk-top-container\"><div class=\"sk-text-repr-fallback\"><pre>RandomForestClassifier(max_depth=10, random_state=0)</pre><b>In a Jupyter environment, please rerun this cell to show the HTML representation or trust the notebook. <br />On GitHub, the HTML representation is unable to render, please try loading this page with nbviewer.org.</b></div><div class=\"sk-container\" hidden><div class=\"sk-item\"><div class=\"sk-estimator sk-toggleable\"><input class=\"sk-toggleable__control sk-hidden--visually\" id=\"sk-estimator-id-2\" type=\"checkbox\" checked><label for=\"sk-estimator-id-2\" class=\"sk-toggleable__label sk-toggleable__label-arrow\">RandomForestClassifier</label><div class=\"sk-toggleable__content\"><pre>RandomForestClassifier(max_depth=10, random_state=0)</pre></div></div></div></div></div>"
            ]
          },
          "metadata": {},
          "execution_count": 48
        }
      ]
    },
    {
      "cell_type": "code",
      "source": [
        "from sklearn.metrics import confusion_matrix, f1_score\n",
        "\n",
        "y_pred = clf.predict(test_data_processing.drop('status', axis=1))\n",
        "\n",
        "print(confusion_matrix(test_data_processing['status'], y_pred))\n",
        "print(f1_score(test_data_processing['status'], y_pred, average=\"micro\"))"
      ],
      "metadata": {
        "colab": {
          "base_uri": "https://localhost:8080/"
        },
        "id": "r9j4SFHX1CM0",
        "outputId": "9142db6c-d621-44e7-d38c-436f08a9898e"
      },
      "execution_count": null,
      "outputs": [
        {
          "output_type": "stream",
          "name": "stdout",
          "text": [
            "[[ 60   1  50   2]\n",
            " [ 12   0  12   0]\n",
            " [ 49   0 190   3]\n",
            " [  1   0  22   0]]\n",
            "0.6218905472636815\n"
          ]
        }
      ]
    },
    {
      "cell_type": "code",
      "source": [
        "from sklearn.svm import SVC\n",
        "from sklearn.pipeline import make_pipeline\n",
        "from sklearn.preprocessing import StandardScaler\n",
        "clf = make_pipeline(StandardScaler(), SVC(gamma='auto'))\n",
        "\n",
        "clf.fit(train_data_processing.drop('status', axis=1), train_data_processing['status'])\n",
        "\n",
        "from sklearn.metrics import confusion_matrix, f1_score\n",
        "\n",
        "y_pred = clf.predict(test_data_processing.drop('status', axis=1))\n",
        "\n",
        "print(confusion_matrix(test_data_processing['status'], y_pred))\n",
        "print(f1_score(test_data_processing['status'], y_pred, average=\"micro\"))\n"
      ],
      "metadata": {
        "colab": {
          "base_uri": "https://localhost:8080/"
        },
        "id": "tfFH0Wsj4ulk",
        "outputId": "9a6ab149-9e69-4446-a430-aca44b4d050d"
      },
      "execution_count": null,
      "outputs": [
        {
          "output_type": "stream",
          "name": "stdout",
          "text": [
            "[[ 70   0  43   0]\n",
            " [ 15   0   9   0]\n",
            " [ 47   0 195   0]\n",
            " [  1   0  22   0]]\n",
            "0.6592039800995025\n"
          ]
        }
      ]
    },
    {
      "cell_type": "code",
      "source": [
        "!pip install catboost"
      ],
      "metadata": {
        "id": "efOprhx25Twm"
      },
      "execution_count": null,
      "outputs": []
    },
    {
      "cell_type": "code",
      "source": [
        "from catboost import CatBoostClassifier\n",
        "\n",
        "model = CatBoostClassifier(iterations=2, depth=1, learning_rate=0.1)\n",
        "model.fit(train_data_processing.drop('status', axis=1),\n",
        "          train_data_processing['status'],\n",
        "          verbose=False)\n",
        "\n",
        "from sklearn.metrics import confusion_matrix, f1_score\n",
        "\n",
        "y_pred = model.predict(test_data_processing.drop('status', axis=1))\n",
        "\n",
        "print(confusion_matrix(test_data_processing['status'], y_pred))\n",
        "print(f1_score(test_data_processing['status'], y_pred, average=\"micro\"))\n"
      ],
      "metadata": {
        "colab": {
          "base_uri": "https://localhost:8080/"
        },
        "id": "1jzpK_XS5Rbv",
        "outputId": "83a0e0f0-57f2-4fda-f5de-0087d8f88425"
      },
      "execution_count": null,
      "outputs": [
        {
          "output_type": "stream",
          "name": "stdout",
          "text": [
            "[[ 78   0  35   0]\n",
            " [ 15   0   9   0]\n",
            " [ 44   0 198   0]\n",
            " [  1   0  22   0]]\n",
            "0.6865671641791045\n"
          ]
        }
      ]
    },
    {
      "cell_type": "code",
      "source": [
        "confusion_matrix(test_data_processing['status'], y_pred)"
      ],
      "metadata": {
        "colab": {
          "base_uri": "https://localhost:8080/"
        },
        "id": "UNYLgcZG6r3y",
        "outputId": "246d103b-8135-44f7-d594-8de202bc6e36"
      },
      "execution_count": null,
      "outputs": [
        {
          "output_type": "execute_result",
          "data": {
            "text/plain": [
              "array([[ 78,   0,  35,   0],\n",
              "       [ 15,   0,   9,   0],\n",
              "       [ 44,   0, 198,   0],\n",
              "       [  1,   0,  22,   0]])"
            ]
          },
          "metadata": {},
          "execution_count": 74
        }
      ]
    },
    {
      "cell_type": "markdown",
      "source": [
        "--- YOUR TEST END HERE ---"
      ],
      "metadata": {
        "id": "XyK-H1ZVYg1D",
        "pycharm": {
          "name": "#%% md\n"
        }
      }
    }
  ],
  "metadata": {
    "kernelspec": {
      "display_name": "Python 3",
      "language": "python",
      "name": "python3"
    },
    "language_info": {
      "codemirror_mode": {
        "name": "ipython",
        "version": 3
      },
      "file_extension": ".py",
      "mimetype": "text/x-python",
      "name": "python",
      "nbconvert_exporter": "python",
      "pygments_lexer": "ipython3",
      "version": "3.7.4"
    },
    "colab": {
      "provenance": [],
      "include_colab_link": true
    }
  },
  "nbformat": 4,
  "nbformat_minor": 0
}